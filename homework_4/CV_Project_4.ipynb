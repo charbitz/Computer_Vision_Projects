{
  "nbformat": 4,
  "nbformat_minor": 0,
  "metadata": {
    "colab": {
      "name": "CV_Project_4.ipynb",
      "provenance": [],
      "collapsed_sections": [],
      "authorship_tag": "ABX9TyOynSvzd4InPBHU379aFQXD"
    },
    "kernelspec": {
      "name": "python3",
      "display_name": "Python 3"
    },
    "language_info": {
      "name": "python"
    }
  },
  "cells": [
    {
      "cell_type": "markdown",
      "source": [
        "# This is a collaboratory, where you can find the code of the final project (Project 4) of the course : **Computer Vision** "
      ],
      "metadata": {
        "id": "8Gg9LOzN04dI"
      }
    },
    {
      "cell_type": "code",
      "execution_count": null,
      "metadata": {
        "id": "dL0MYDamMfSG"
      },
      "outputs": [],
      "source": [
        ""
      ]
    }
  ]
}