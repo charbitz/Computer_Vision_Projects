{
  "nbformat": 4,
  "nbformat_minor": 0,
  "metadata": {
    "colab": {
      "name": "CV_Project_4.ipynb",
      "provenance": [],
      "collapsed_sections": [],
      "authorship_tag": "ABX9TyOXNRzqEUkoSfWHw6nVa/VJ"
    },
    "kernelspec": {
      "name": "python3",
      "display_name": "Python 3"
    },
    "language_info": {
      "name": "python"
    }
  },
  "cells": [
    {
      "cell_type": "markdown",
      "source": [
        "\n",
        "# This is a collaboratory, where you can find the code of the final project (Project 4) of the course : **Computer Vision** "
      ],
      "metadata": {
        "id": "8Gg9LOzN04dI"
      }
    },
    {
      "cell_type": "code",
      "execution_count": 4,
      "metadata": {
        "id": "dL0MYDamMfSG",
        "colab": {
          "base_uri": "https://localhost:8080/"
        },
        "outputId": "b54a289d-35f5-4094-8e63-40f6e1d8c297"
      },
      "outputs": [
        {
          "output_type": "stream",
          "name": "stdout",
          "text": [
            "2.7.0\n"
          ]
        }
      ],
      "source": [
        "# Test if github updates, when colab does :\n",
        "\n",
        "import tensorflow as tf\n",
        "print(tf.__version__)"
      ]
    }
  ]
}