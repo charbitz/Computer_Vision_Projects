{
  "cells": [
    {
      "cell_type": "code",
      "execution_count": 1,
      "metadata": {
        "colab": {
          "base_uri": "https://localhost:8080/"
        },
        "id": "1efK3dBnSNsW",
        "outputId": "6153a020-93bf-4d54-9bd0-19f598f3f887"
      },
      "outputs": [
        {
          "output_type": "stream",
          "name": "stdout",
          "text": [
            "Mounted at /content/drive\n"
          ]
        }
      ],
      "source": [
        "# Mount google drive :\n",
        "\n",
        "from google.colab import drive\n",
        "drive.mount('/content/drive')"
      ]
    },
    {
      "cell_type": "code",
      "execution_count": 2,
      "metadata": {
        "id": "UES-_QQCSXQM"
      },
      "outputs": [],
      "source": [
        "# Unzip the dataset and save it to the path \"/content/imagedb_btsd\" :\n",
        "import os\n",
        "import zipfile\n",
        "\n",
        "local_zip = '/content/drive/MyDrive/cv_proj_4_dataset/imagedb_btsd.zip'\n",
        "\n",
        "zip_ref = zipfile.ZipFile(local_zip, 'r')\n",
        "zip_ref.extractall('/content/imagedb_btsd')\n",
        "zip_ref.close()"
      ]
    },
    {
      "cell_type": "code",
      "execution_count": 3,
      "metadata": {
        "id": "23UpZ_4lTZGN"
      },
      "outputs": [],
      "source": [
        "# Select the folder \"imagedb\" as the training folder\n",
        "# and the folder \"imagedb_test\" as the testing folder :\n",
        "\n",
        "base_dir = '/content/imagedb_btsd'\n",
        "\n",
        "train_dir = os.path.join(base_dir, 'imagedb')\n",
        "test_dir = os.path.join(base_dir, 'imagedb_test')"
      ]
    },
    {
      "cell_type": "code",
      "execution_count": 4,
      "metadata": {
        "colab": {
          "base_uri": "https://localhost:8080/"
        },
        "id": "VAg9eIeSShP9",
        "outputId": "64f99b5e-0e54-4ffa-940a-24438deea119"
      },
      "outputs": [
        {
          "output_type": "stream",
          "name": "stdout",
          "text": [
            "Model: \"sequential\"\n",
            "_________________________________________________________________\n",
            " Layer (type)                Output Shape              Param #   \n",
            "=================================================================\n",
            " conv2d (Conv2D)             (None, 256, 256, 32)      896       \n",
            "                                                                 \n",
            " max_pooling2d (MaxPooling2D  (None, 128, 128, 32)     0         \n",
            " )                                                               \n",
            "                                                                 \n",
            " conv2d_1 (Conv2D)           (None, 128, 128, 64)      18496     \n",
            "                                                                 \n",
            " max_pooling2d_1 (MaxPooling  (None, 64, 64, 64)       0         \n",
            " 2D)                                                             \n",
            "                                                                 \n",
            " conv2d_2 (Conv2D)           (None, 64, 64, 64)        36928     \n",
            "                                                                 \n",
            " max_pooling2d_2 (MaxPooling  (None, 32, 32, 64)       0         \n",
            " 2D)                                                             \n",
            "                                                                 \n",
            " conv2d_3 (Conv2D)           (None, 32, 32, 128)       73856     \n",
            "                                                                 \n",
            " max_pooling2d_3 (MaxPooling  (None, 16, 16, 128)      0         \n",
            " 2D)                                                             \n",
            "                                                                 \n",
            " flatten (Flatten)           (None, 32768)             0         \n",
            "                                                                 \n",
            " dense (Dense)               (None, 1024)              33555456  \n",
            "                                                                 \n",
            " dropout (Dropout)           (None, 1024)              0         \n",
            "                                                                 \n",
            " dense_1 (Dense)             (None, 34)                34850     \n",
            "                                                                 \n",
            "=================================================================\n",
            "Total params: 33,720,482\n",
            "Trainable params: 33,720,482\n",
            "Non-trainable params: 0\n",
            "_________________________________________________________________\n"
          ]
        }
      ],
      "source": [
        "import tensorflow as tf\n",
        "\n",
        "from tensorflow.keras import datasets, layers, models\n",
        "from keras import optimizers\n",
        "\n",
        "\n",
        "model = models.Sequential()\n",
        "model.add(layers.Conv2D(32, (3, 3), padding=\"same\", activation='relu', input_shape=(256, 256, 3)))\n",
        "model.add(layers.MaxPooling2D((2, 2)))\n",
        "\n",
        "model.add(layers.Conv2D(64, (3, 3), padding=\"same\", activation='relu'))\n",
        "model.add(layers.MaxPooling2D((2, 2)))\n",
        "\n",
        "model.add(layers.Conv2D(64, (3, 3), padding=\"same\", activation='relu'))\n",
        "model.add(layers.MaxPooling2D((2, 2)))\n",
        "\n",
        "model.add(layers.Conv2D(128, (3, 3), padding=\"same\", activation='relu'))\n",
        "model.add(layers.MaxPooling2D((2, 2)))\n",
        "\n",
        "model.add(layers.Flatten())\n",
        "model.add(layers.Dense(1024, activation='relu'))\n",
        "model.add(layers.Dropout(0.5))\n",
        "model.add(layers.Dense(34, activation='softmax'))\n",
        "\n",
        "model.compile(optimizer=optimizers.adam_v2.Adam(learning_rate=1e-4),\n",
        "              loss = 'categorical_crossentropy',\n",
        "              metrics=['accuracy'])\n",
        "\n",
        "\n",
        "model.summary()"
      ]
    },
    {
      "cell_type": "code",
      "execution_count": 5,
      "metadata": {
        "colab": {
          "base_uri": "https://localhost:8080/"
        },
        "id": "fWGtpHkotMbZ",
        "outputId": "4b2d3da2-920f-4d82-edb8-1a0d50407a54"
      },
      "outputs": [
        {
          "output_type": "stream",
          "name": "stdout",
          "text": [
            "<keras.layers.convolutional.Conv2D object at 0x7f42c3789350> True\n",
            "<keras.layers.pooling.MaxPooling2D object at 0x7f42c3789310> True\n",
            "<keras.layers.convolutional.Conv2D object at 0x7f41d2090e10> True\n",
            "<keras.layers.pooling.MaxPooling2D object at 0x7f41d20dfe10> True\n",
            "<keras.layers.convolutional.Conv2D object at 0x7f41d20ad110> True\n",
            "<keras.layers.pooling.MaxPooling2D object at 0x7f41d203fc50> True\n",
            "<keras.layers.convolutional.Conv2D object at 0x7f41d203fd50> True\n",
            "<keras.layers.pooling.MaxPooling2D object at 0x7f41d2046290> True\n",
            "<keras.layers.core.flatten.Flatten object at 0x7f41d20b8b50> True\n",
            "<keras.layers.core.dense.Dense object at 0x7f41d2048550> True\n",
            "<keras.layers.core.dropout.Dropout object at 0x7f424e135590> True\n",
            "<keras.layers.core.dense.Dense object at 0x7f41d203fe90> True\n"
          ]
        }
      ],
      "source": [
        "# check this :\n",
        "\n",
        "# Check the trainable status of the individual layers\n",
        "for layer in model.layers:\n",
        "    print(layer, layer.trainable)"
      ]
    },
    {
      "cell_type": "code",
      "execution_count": 6,
      "metadata": {
        "colab": {
          "base_uri": "https://localhost:8080/"
        },
        "id": "UWDZ2ZpnShK9",
        "outputId": "bab21b9f-8449-4467-e79d-ec90b4305617"
      },
      "outputs": [
        {
          "output_type": "stream",
          "name": "stdout",
          "text": [
            "Found 2457 images belonging to 34 classes.\n",
            "Found 599 images belonging to 34 classes.\n"
          ]
        }
      ],
      "source": [
        "from tensorflow.keras.preprocessing.image import ImageDataGenerator\n",
        "\n",
        "train_datagen = ImageDataGenerator(rotation_range = 90,\n",
        "                                  horizontal_flip=True,\n",
        "                                  vertical_flip = True,\n",
        "                                   brightness_range=[0.2,1.0],\n",
        "                                   zoom_range=[0.5,1.0],                                   \n",
        "                                   validation_split=0.2)\n",
        "                                  #  preprocessing_function = preprocess_func)\n",
        "                                  \n",
        "#train_datagen  = ImageDataGenerator(rescale=1./255, validation_split=0.2)\n",
        "\n",
        "# --------------------\n",
        "# Flow training images in batches using train_datagen generator\n",
        "# --------------------\n",
        "train_generator = train_datagen.flow_from_directory(train_dir,\n",
        "                                                    batch_size=40,\n",
        "                                                    class_mode='categorical',\n",
        "                                                    # color_mode='grayscale',\n",
        "                                                    target_size=(256,256),\n",
        "                                                    shuffle=True,\n",
        "                                                    subset='training', seed=1)     \n",
        "# --------------------\n",
        "# Flow validation images in batches using test_datagen generator\n",
        "# --------------------\n",
        "validation_generator =  train_datagen.flow_from_directory(train_dir,\n",
        "                                                          batch_size=40,\n",
        "                                                          class_mode='categorical',\n",
        "                                                          # color_mode='grayscale',\n",
        "                                                          target_size=(256,256),\n",
        "                                                          subset='validation', seed=1)\n"
      ]
    },
    {
      "cell_type": "code",
      "execution_count": 7,
      "metadata": {
        "id": "ueQ8b0eukBoi"
      },
      "outputs": [],
      "source": [
        "# Apply callbacks :\n",
        "\n",
        "import datetime \n",
        "import tensorflow as tf\n",
        "  \n",
        "my_callbacks = []\n",
        "\n",
        "# logdir = os.path.join(\"/content/logs\", datetime.datetime.now().strftime(\"%Y%m%d-%H%M%S\"))\n",
        "# tensorboard_callback = tf.keras.callbacks.TensorBoard(logdir, histogram_freq=1)\n",
        "# my_callbacks.append(tensorboard_callback)\n",
        "\n",
        "save_best_callback = tf.keras.callbacks.ModelCheckpoint(f'model_from_scratch_best.hdf5', save_best_only=True, verbose=1)\n",
        "my_callbacks.append(save_best_callback)\n",
        "\n",
        "early_stop_callback = tf.keras.callbacks.EarlyStopping(patience=10, restore_best_weights=True, verbose=1)\n",
        "my_callbacks.append(early_stop_callback)"
      ]
    },
    {
      "cell_type": "code",
      "execution_count": 8,
      "metadata": {
        "colab": {
          "base_uri": "https://localhost:8080/"
        },
        "id": "P5iuGSf2TzI_",
        "outputId": "491f9c09-93df-4871-c8e7-4fa88666a256"
      },
      "outputs": [
        {
          "output_type": "stream",
          "name": "stderr",
          "text": [
            "/usr/local/lib/python3.7/dist-packages/ipykernel_launcher.py:8: UserWarning: `Model.fit_generator` is deprecated and will be removed in a future version. Please use `Model.fit`, which supports generators.\n",
            "  \n"
          ]
        },
        {
          "output_type": "stream",
          "name": "stdout",
          "text": [
            "Epoch 1/30\n",
            "62/61 [==============================] - ETA: 0s - loss: 6.4650 - accuracy: 0.2202\n",
            "Epoch 00001: val_loss improved from inf to 2.16131, saving model to model_from_scratch_best.hdf5\n",
            "61/61 [==============================] - 65s 818ms/step - loss: 6.4650 - accuracy: 0.2202 - val_loss: 2.1613 - val_accuracy: 0.4441\n",
            "Epoch 2/30\n",
            "62/61 [==============================] - ETA: 0s - loss: 2.1752 - accuracy: 0.4351\n",
            "Epoch 00002: val_loss improved from 2.16131 to 1.58847, saving model to model_from_scratch_best.hdf5\n",
            "61/61 [==============================] - 47s 767ms/step - loss: 2.1752 - accuracy: 0.4351 - val_loss: 1.5885 - val_accuracy: 0.5810\n",
            "Epoch 3/30\n",
            "62/61 [==============================] - ETA: 0s - loss: 1.7984 - accuracy: 0.5157\n",
            "Epoch 00003: val_loss improved from 1.58847 to 1.29116, saving model to model_from_scratch_best.hdf5\n",
            "61/61 [==============================] - 47s 760ms/step - loss: 1.7984 - accuracy: 0.5157 - val_loss: 1.2912 - val_accuracy: 0.6578\n",
            "Epoch 4/30\n",
            "62/61 [==============================] - ETA: 0s - loss: 1.5004 - accuracy: 0.6020\n",
            "Epoch 00004: val_loss improved from 1.29116 to 1.06364, saving model to model_from_scratch_best.hdf5\n",
            "61/61 [==============================] - 47s 759ms/step - loss: 1.5004 - accuracy: 0.6020 - val_loss: 1.0636 - val_accuracy: 0.7329\n",
            "Epoch 5/30\n",
            "62/61 [==============================] - ETA: 0s - loss: 1.3339 - accuracy: 0.6439\n",
            "Epoch 00005: val_loss improved from 1.06364 to 0.96993, saving model to model_from_scratch_best.hdf5\n",
            "61/61 [==============================] - 47s 759ms/step - loss: 1.3339 - accuracy: 0.6439 - val_loss: 0.9699 - val_accuracy: 0.7579\n",
            "Epoch 6/30\n",
            "62/61 [==============================] - ETA: 0s - loss: 1.1186 - accuracy: 0.6968\n",
            "Epoch 00006: val_loss improved from 0.96993 to 0.88463, saving model to model_from_scratch_best.hdf5\n",
            "61/61 [==============================] - 47s 764ms/step - loss: 1.1186 - accuracy: 0.6968 - val_loss: 0.8846 - val_accuracy: 0.7863\n",
            "Epoch 7/30\n",
            "62/61 [==============================] - ETA: 0s - loss: 1.0045 - accuracy: 0.7302\n",
            "Epoch 00007: val_loss improved from 0.88463 to 0.75424, saving model to model_from_scratch_best.hdf5\n",
            "61/61 [==============================] - 46s 758ms/step - loss: 1.0045 - accuracy: 0.7302 - val_loss: 0.7542 - val_accuracy: 0.7880\n",
            "Epoch 8/30\n",
            "62/61 [==============================] - ETA: 0s - loss: 0.9422 - accuracy: 0.7493\n",
            "Epoch 00008: val_loss improved from 0.75424 to 0.74046, saving model to model_from_scratch_best.hdf5\n",
            "61/61 [==============================] - 47s 763ms/step - loss: 0.9422 - accuracy: 0.7493 - val_loss: 0.7405 - val_accuracy: 0.8164\n",
            "Epoch 9/30\n",
            "62/61 [==============================] - ETA: 0s - loss: 0.8407 - accuracy: 0.7664\n",
            "Epoch 00009: val_loss improved from 0.74046 to 0.63764, saving model to model_from_scratch_best.hdf5\n",
            "61/61 [==============================] - 46s 753ms/step - loss: 0.8407 - accuracy: 0.7664 - val_loss: 0.6376 - val_accuracy: 0.8397\n",
            "Epoch 10/30\n",
            "62/61 [==============================] - ETA: 0s - loss: 0.7615 - accuracy: 0.7912\n",
            "Epoch 00010: val_loss did not improve from 0.63764\n",
            "61/61 [==============================] - 45s 737ms/step - loss: 0.7615 - accuracy: 0.7912 - val_loss: 0.6454 - val_accuracy: 0.8481\n",
            "Epoch 11/30\n",
            "62/61 [==============================] - ETA: 0s - loss: 0.7315 - accuracy: 0.7977\n",
            "Epoch 00011: val_loss improved from 0.63764 to 0.63452, saving model to model_from_scratch_best.hdf5\n",
            "61/61 [==============================] - 46s 754ms/step - loss: 0.7315 - accuracy: 0.7977 - val_loss: 0.6345 - val_accuracy: 0.8531\n",
            "Epoch 12/30\n",
            "62/61 [==============================] - ETA: 0s - loss: 0.6869 - accuracy: 0.8230\n",
            "Epoch 00012: val_loss improved from 0.63452 to 0.56030, saving model to model_from_scratch_best.hdf5\n",
            "61/61 [==============================] - 46s 752ms/step - loss: 0.6869 - accuracy: 0.8230 - val_loss: 0.5603 - val_accuracy: 0.8481\n",
            "Epoch 13/30\n",
            "62/61 [==============================] - ETA: 0s - loss: 0.6305 - accuracy: 0.8307\n",
            "Epoch 00013: val_loss improved from 0.56030 to 0.52739, saving model to model_from_scratch_best.hdf5\n",
            "61/61 [==============================] - 46s 755ms/step - loss: 0.6305 - accuracy: 0.8307 - val_loss: 0.5274 - val_accuracy: 0.8414\n",
            "Epoch 14/30\n",
            "62/61 [==============================] - ETA: 0s - loss: 0.6138 - accuracy: 0.8356\n",
            "Epoch 00014: val_loss did not improve from 0.52739\n",
            "61/61 [==============================] - 45s 737ms/step - loss: 0.6138 - accuracy: 0.8356 - val_loss: 0.5610 - val_accuracy: 0.8598\n",
            "Epoch 15/30\n",
            "62/61 [==============================] - ETA: 0s - loss: 0.6082 - accuracy: 0.8360\n",
            "Epoch 00015: val_loss improved from 0.52739 to 0.45463, saving model to model_from_scratch_best.hdf5\n",
            "61/61 [==============================] - 46s 753ms/step - loss: 0.6082 - accuracy: 0.8360 - val_loss: 0.4546 - val_accuracy: 0.8798\n",
            "Epoch 16/30\n",
            "62/61 [==============================] - ETA: 0s - loss: 0.5213 - accuracy: 0.8486\n",
            "Epoch 00016: val_loss did not improve from 0.45463\n",
            "61/61 [==============================] - 45s 738ms/step - loss: 0.5213 - accuracy: 0.8486 - val_loss: 0.4618 - val_accuracy: 0.8765\n",
            "Epoch 17/30\n",
            "62/61 [==============================] - ETA: 0s - loss: 0.5593 - accuracy: 0.8457\n",
            "Epoch 00017: val_loss did not improve from 0.45463\n",
            "61/61 [==============================] - 45s 733ms/step - loss: 0.5593 - accuracy: 0.8457 - val_loss: 0.4979 - val_accuracy: 0.8848\n",
            "Epoch 18/30\n",
            "62/61 [==============================] - ETA: 0s - loss: 0.5180 - accuracy: 0.8592\n",
            "Epoch 00018: val_loss did not improve from 0.45463\n",
            "61/61 [==============================] - 45s 737ms/step - loss: 0.5180 - accuracy: 0.8592 - val_loss: 0.5261 - val_accuracy: 0.8831\n",
            "Epoch 19/30\n",
            "62/61 [==============================] - ETA: 0s - loss: 0.4764 - accuracy: 0.8689\n",
            "Epoch 00019: val_loss improved from 0.45463 to 0.44152, saving model to model_from_scratch_best.hdf5\n",
            "61/61 [==============================] - 46s 752ms/step - loss: 0.4764 - accuracy: 0.8689 - val_loss: 0.4415 - val_accuracy: 0.8865\n",
            "Epoch 20/30\n",
            "62/61 [==============================] - ETA: 0s - loss: 0.4292 - accuracy: 0.8799\n",
            "Epoch 00020: val_loss did not improve from 0.44152\n",
            "61/61 [==============================] - 45s 740ms/step - loss: 0.4292 - accuracy: 0.8799 - val_loss: 0.4542 - val_accuracy: 0.8865\n",
            "Epoch 21/30\n",
            "62/61 [==============================] - ETA: 0s - loss: 0.4479 - accuracy: 0.8746\n",
            "Epoch 00021: val_loss did not improve from 0.44152\n",
            "61/61 [==============================] - 45s 734ms/step - loss: 0.4479 - accuracy: 0.8746 - val_loss: 0.4590 - val_accuracy: 0.8598\n",
            "Epoch 22/30\n",
            "62/61 [==============================] - ETA: 0s - loss: 0.4164 - accuracy: 0.8852\n",
            "Epoch 00022: val_loss improved from 0.44152 to 0.35419, saving model to model_from_scratch_best.hdf5\n",
            "61/61 [==============================] - 46s 756ms/step - loss: 0.4164 - accuracy: 0.8852 - val_loss: 0.3542 - val_accuracy: 0.8948\n",
            "Epoch 23/30\n",
            "62/61 [==============================] - ETA: 0s - loss: 0.3886 - accuracy: 0.8848\n",
            "Epoch 00023: val_loss did not improve from 0.35419\n",
            "61/61 [==============================] - 45s 738ms/step - loss: 0.3886 - accuracy: 0.8848 - val_loss: 0.4418 - val_accuracy: 0.8915\n",
            "Epoch 24/30\n",
            "62/61 [==============================] - ETA: 0s - loss: 0.3784 - accuracy: 0.8946\n",
            "Epoch 00024: val_loss did not improve from 0.35419\n",
            "61/61 [==============================] - 45s 735ms/step - loss: 0.3784 - accuracy: 0.8946 - val_loss: 0.3835 - val_accuracy: 0.9065\n",
            "Epoch 25/30\n",
            "62/61 [==============================] - ETA: 0s - loss: 0.4132 - accuracy: 0.8873\n",
            "Epoch 00025: val_loss did not improve from 0.35419\n",
            "61/61 [==============================] - 45s 735ms/step - loss: 0.4132 - accuracy: 0.8873 - val_loss: 0.3770 - val_accuracy: 0.8915\n",
            "Epoch 26/30\n",
            "62/61 [==============================] - ETA: 0s - loss: 0.3676 - accuracy: 0.8962\n",
            "Epoch 00026: val_loss did not improve from 0.35419\n",
            "61/61 [==============================] - 45s 732ms/step - loss: 0.3676 - accuracy: 0.8962 - val_loss: 0.3745 - val_accuracy: 0.8948\n",
            "Epoch 27/30\n",
            "62/61 [==============================] - ETA: 0s - loss: 0.3566 - accuracy: 0.8974\n",
            "Epoch 00027: val_loss did not improve from 0.35419\n",
            "61/61 [==============================] - 45s 739ms/step - loss: 0.3566 - accuracy: 0.8974 - val_loss: 0.4070 - val_accuracy: 0.8865\n",
            "Epoch 28/30\n",
            "62/61 [==============================] - ETA: 0s - loss: 0.3157 - accuracy: 0.9092\n",
            "Epoch 00028: val_loss improved from 0.35419 to 0.35301, saving model to model_from_scratch_best.hdf5\n",
            "61/61 [==============================] - 46s 752ms/step - loss: 0.3157 - accuracy: 0.9092 - val_loss: 0.3530 - val_accuracy: 0.9048\n",
            "Epoch 29/30\n",
            "62/61 [==============================] - ETA: 0s - loss: 0.3322 - accuracy: 0.9121\n",
            "Epoch 00029: val_loss did not improve from 0.35301\n",
            "61/61 [==============================] - 45s 733ms/step - loss: 0.3322 - accuracy: 0.9121 - val_loss: 0.3647 - val_accuracy: 0.9065\n",
            "Epoch 30/30\n",
            "62/61 [==============================] - ETA: 0s - loss: 0.3101 - accuracy: 0.9145\n",
            "Epoch 00030: val_loss did not improve from 0.35301\n",
            "61/61 [==============================] - 45s 735ms/step - loss: 0.3101 - accuracy: 0.9145 - val_loss: 0.3634 - val_accuracy: 0.9015\n"
          ]
        }
      ],
      "source": [
        "history = model.fit_generator(train_generator,\n",
        "                              validation_data=validation_generator,\n",
        "                              # steps_per_epoch=50,\n",
        "                              steps_per_epoch=train_generator.samples/train_generator.batch_size,\n",
        "                              epochs=30,\n",
        "                              validation_steps=15,\n",
        "                              verbose=1,\n",
        "                              callbacks=my_callbacks)"
      ]
    },
    {
      "cell_type": "code",
      "execution_count": 9,
      "metadata": {
        "id": "BZANTHekSznu",
        "colab": {
          "base_uri": "https://localhost:8080/"
        },
        "outputId": "71a49730-e919-47e4-d572-0a97392ba456"
      },
      "outputs": [
        {
          "output_type": "stream",
          "name": "stdout",
          "text": [
            "Found 2149 images belonging to 34 classes.\n"
          ]
        }
      ],
      "source": [
        "# test_datagen  = ImageDataGenerator(rescale=1./255)\n",
        "test_datagen  = ImageDataGenerator()\n",
        "# --------------------\n",
        "# Flow testing images in batches using test_datagen generator\n",
        "# --------------------\n",
        "test_generator =  test_datagen.flow_from_directory(test_dir,\n",
        "                                                   batch_size=10,\n",
        "                                                   class_mode='categorical',\n",
        "                                                  #  color_mode='grayscale',\n",
        "                                                   target_size=(256,256))\n",
        "# # Testing the CNN on testing data : \n",
        "# loss, acc = model.evaluate(test_generator)"
      ]
    },
    {
      "cell_type": "code",
      "execution_count": 10,
      "metadata": {
        "id": "Q3PTISh9XtGh",
        "colab": {
          "base_uri": "https://localhost:8080/",
          "height": 320
        },
        "outputId": "1af1dcf4-0d74-423f-fa5b-0c3388a4f91e"
      },
      "outputs": [
        {
          "output_type": "stream",
          "name": "stdout",
          "text": [
            "215/215 [==============================] - 5s 20ms/step - loss: 1.2557 - accuracy: 0.7506\n"
          ]
        },
        {
          "output_type": "display_data",
          "data": {
            "image/png": "[encoded data removed]",
            "text/plain": [
              "<Figure size 432x288 with 1 Axes>"
            ]
          },
          "metadata": {
            "needs_background": "light"
          }
        }
      ],
      "source": [
        "import matplotlib.pyplot as plt\n",
        "\n",
        "plt.plot(history.history['accuracy'], label='accuracy')\n",
        "plt.plot(history.history['val_accuracy'], label = 'val_accuracy')\n",
        "plt.xlabel('Epoch')\n",
        "plt.ylabel('Accuracy')\n",
        "plt.ylim([0, 1])\n",
        "plt.legend(loc='lower right')\n",
        "\n",
        "# Testing the CNN on testing data : \n",
        "loss, acc = model.evaluate(test_generator)"
      ]
    },
    {
      "cell_type": "code",
      "source": [
        "# # Loading the best state model from the content folder : \n",
        "\n",
        "model_saved = models.load_model('/content/model_from_scratch_best.hdf5')\n",
        "model_saved.summary()"
      ],
      "metadata": {
        "colab": {
          "base_uri": "https://localhost:8080/"
        },
        "id": "DmXJP6VsLlS9",
        "outputId": "4309e840-cd78-46f1-bb13-2ffb5435dbd4"
      },
      "execution_count": 11,
      "outputs": [
        {
          "output_type": "stream",
          "name": "stdout",
          "text": [
            "Model: \"sequential\"\n",
            "_________________________________________________________________\n",
            " Layer (type)                Output Shape              Param #   \n",
            "=================================================================\n",
            " conv2d (Conv2D)             (None, 256, 256, 32)      896       \n",
            "                                                                 \n",
            " max_pooling2d (MaxPooling2D  (None, 128, 128, 32)     0         \n",
            " )                                                               \n",
            "                                                                 \n",
            " conv2d_1 (Conv2D)           (None, 128, 128, 64)      18496     \n",
            "                                                                 \n",
            " max_pooling2d_1 (MaxPooling  (None, 64, 64, 64)       0         \n",
            " 2D)                                                             \n",
            "                                                                 \n",
            " conv2d_2 (Conv2D)           (None, 64, 64, 64)        36928     \n",
            "                                                                 \n",
            " max_pooling2d_2 (MaxPooling  (None, 32, 32, 64)       0         \n",
            " 2D)                                                             \n",
            "                                                                 \n",
            " conv2d_3 (Conv2D)           (None, 32, 32, 128)       73856     \n",
            "                                                                 \n",
            " max_pooling2d_3 (MaxPooling  (None, 16, 16, 128)      0         \n",
            " 2D)                                                             \n",
            "                                                                 \n",
            " flatten (Flatten)           (None, 32768)             0         \n",
            "                                                                 \n",
            " dense (Dense)               (None, 1024)              33555456  \n",
            "                                                                 \n",
            " dropout (Dropout)           (None, 1024)              0         \n",
            "                                                                 \n",
            " dense_1 (Dense)             (None, 34)                34850     \n",
            "                                                                 \n",
            "=================================================================\n",
            "Total params: 33,720,482\n",
            "Trainable params: 33,720,482\n",
            "Non-trainable params: 0\n",
            "_________________________________________________________________\n"
          ]
        }
      ]
    },
    {
      "cell_type": "code",
      "source": [
        " loss_saved, acc_saved = model_saved.evaluate(test_generator)"
      ],
      "metadata": {
        "colab": {
          "base_uri": "https://localhost:8080/"
        },
        "id": "gD96ihm6LwpB",
        "outputId": "81a1c933-ecf8-4cfd-c89f-3f037f545ae4"
      },
      "execution_count": 12,
      "outputs": [
        {
          "output_type": "stream",
          "name": "stdout",
          "text": [
            "215/215 [==============================] - 3s 13ms/step - loss: 1.7992 - accuracy: 0.6924\n"
          ]
        }
      ]
    }
  ],
  "metadata": {
    "accelerator": "GPU",
    "colab": {
      "collapsed_sections": [],
      "name": "CV_Project_4_NOT_pretrained.ipynb",
      "provenance": [],
      "authorship_tag": "ABX9TyO6bY8KLP4TC66Yzv9aofS+"
    },
    "kernelspec": {
      "display_name": "Python 3",
      "name": "python3"
    },
    "language_info": {
      "name": "python"
    }
  },
  "nbformat": 4,
  "nbformat_minor": 0
}