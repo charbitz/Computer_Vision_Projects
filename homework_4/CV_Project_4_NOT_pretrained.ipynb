{
  "cells": [
    {
      "cell_type": "code",
      "execution_count": 1,
      "metadata": {
        "colab": {
          "base_uri": "https://localhost:8080/"
        },
        "id": "1efK3dBnSNsW",
        "outputId": "5bedd37f-082c-4d25-8a07-06ebf9648901"
      },
      "outputs": [
        {
          "output_type": "stream",
          "name": "stdout",
          "text": [
            "Drive already mounted at /content/drive; to attempt to forcibly remount, call drive.mount(\"/content/drive\", force_remount=True).\n"
          ]
        }
      ],
      "source": [
        "# Mount google drive :\n",
        "\n",
        "from google.colab import drive\n",
        "drive.mount('/content/drive')"
      ]
    },
    {
      "cell_type": "code",
      "execution_count": 2,
      "metadata": {
        "id": "UES-_QQCSXQM"
      },
      "outputs": [],
      "source": [
        "# Unzip the dataset and save it to the path \"/content/imagedb_btsd\" :\n",
        "import os\n",
        "import zipfile\n",
        "\n",
        "local_zip = '/content/drive/MyDrive/cv_proj_4_dataset/imagedb_btsd.zip'\n",
        "\n",
        "zip_ref = zipfile.ZipFile(local_zip, 'r')\n",
        "zip_ref.extractall('/content/imagedb_btsd')\n",
        "zip_ref.close()"
      ]
    },
    {
      "cell_type": "code",
      "execution_count": 3,
      "metadata": {
        "id": "23UpZ_4lTZGN"
      },
      "outputs": [],
      "source": [
        "# Select the folder \"imagedb\" as the training folder\n",
        "# and the folder \"imagedb_test\" as the testing folder :\n",
        "\n",
        "base_dir = '/content/imagedb_btsd'\n",
        "\n",
        "train_dir = os.path.join(base_dir, 'imagedb')\n",
        "test_dir = os.path.join(base_dir, 'imagedb_test')"
      ]
    },
    {
      "cell_type": "code",
      "execution_count": 4,
      "metadata": {
        "colab": {
          "base_uri": "https://localhost:8080/"
        },
        "id": "VAg9eIeSShP9",
        "outputId": "f2d88ea2-077a-46b1-a5b1-902485cc4871"
      },
      "outputs": [
        {
          "output_type": "stream",
          "name": "stdout",
          "text": [
            "Model: \"sequential\"\n",
            "_________________________________________________________________\n",
            " Layer (type)                Output Shape              Param #   \n",
            "=================================================================\n",
            " conv2d (Conv2D)             (None, 256, 256, 32)      896       \n",
            "                                                                 \n",
            " conv2d_1 (Conv2D)           (None, 256, 256, 64)      18496     \n",
            "                                                                 \n",
            " max_pooling2d (MaxPooling2D  (None, 128, 128, 64)     0         \n",
            " )                                                               \n",
            "                                                                 \n",
            " conv2d_2 (Conv2D)           (None, 128, 128, 64)      36928     \n",
            "                                                                 \n",
            " conv2d_3 (Conv2D)           (None, 128, 128, 128)     73856     \n",
            "                                                                 \n",
            " max_pooling2d_1 (MaxPooling  (None, 64, 64, 128)      0         \n",
            " 2D)                                                             \n",
            "                                                                 \n",
            " flatten (Flatten)           (None, 524288)            0         \n",
            "                                                                 \n",
            " dense (Dense)               (None, 1024)              536871936 \n",
            "                                                                 \n",
            " dropout (Dropout)           (None, 1024)              0         \n",
            "                                                                 \n",
            " dense_1 (Dense)             (None, 34)                34850     \n",
            "                                                                 \n",
            "=================================================================\n",
            "Total params: 537,036,962\n",
            "Trainable params: 537,036,962\n",
            "Non-trainable params: 0\n",
            "_________________________________________________________________\n"
          ]
        }
      ],
      "source": [
        "import tensorflow as tf\n",
        "\n",
        "from tensorflow.keras import datasets, layers, models\n",
        "from keras import optimizers\n",
        "\n",
        "\n",
        "model = models.Sequential()\n",
        "model.add(layers.Conv2D(32, (3, 3), padding=\"same\", activation='relu', input_shape=(256, 256, 3)))\n",
        "# model.add(layers.MaxPooling2D((2, 2)))\n",
        "\n",
        "model.add(layers.Conv2D(64, (3, 3), padding=\"same\", activation='relu'))\n",
        "model.add(layers.MaxPooling2D((2, 2)))\n",
        "\n",
        "\n",
        "model.add(layers.Conv2D(64, (3, 3), padding=\"same\", activation='relu'))\n",
        "# model.add(layers.MaxPooling2D((2, 2)))\n",
        "\n",
        "model.add(layers.Conv2D(128, (3, 3), padding=\"same\", activation='relu'))\n",
        "model.add(layers.MaxPooling2D((2, 2)))\n",
        "\n",
        "model.add(layers.Flatten())\n",
        "model.add(layers.Dense(1024, activation='relu'))\n",
        "model.add(layers.Dropout(0.5))\n",
        "model.add(layers.Dense(34, activation='softmax'))\n",
        "\n",
        "model.compile(optimizer=optimizers.adam_v2.Adam(learning_rate=1e-4),\n",
        "              loss = 'categorical_crossentropy',\n",
        "              metrics=['accuracy'])\n",
        "\n",
        "\n",
        "model.summary()"
      ]
    },
    {
      "cell_type": "code",
      "execution_count": 5,
      "metadata": {
        "colab": {
          "base_uri": "https://localhost:8080/"
        },
        "id": "fWGtpHkotMbZ",
        "outputId": "0e46ca2d-cdd4-462d-89b8-266aaa7120a2"
      },
      "outputs": [
        {
          "output_type": "stream",
          "name": "stdout",
          "text": [
            "<keras.layers.convolutional.Conv2D object at 0x7f6ebf804650> True\n",
            "<keras.layers.convolutional.Conv2D object at 0x7f6e4a93d250> True\n",
            "<keras.layers.pooling.MaxPooling2D object at 0x7f6e404eb810> True\n",
            "<keras.layers.convolutional.Conv2D object at 0x7f6e404fe390> True\n",
            "<keras.layers.convolutional.Conv2D object at 0x7f6e40506a10> True\n",
            "<keras.layers.pooling.MaxPooling2D object at 0x7f6e404fc550> True\n",
            "<keras.layers.core.flatten.Flatten object at 0x7f6e40492c90> True\n",
            "<keras.layers.core.dense.Dense object at 0x7f6e404fe1d0> True\n",
            "<keras.layers.core.dropout.Dropout object at 0x7f6e4050fbd0> True\n",
            "<keras.layers.core.dense.Dense object at 0x7f6e4053c2d0> True\n"
          ]
        }
      ],
      "source": [
        "# check this :\n",
        "\n",
        "# Check the trainable status of the individual layers\n",
        "for layer in model.layers:\n",
        "    print(layer, layer.trainable)"
      ]
    },
    {
      "cell_type": "code",
      "execution_count": 6,
      "metadata": {
        "colab": {
          "base_uri": "https://localhost:8080/"
        },
        "id": "UWDZ2ZpnShK9",
        "outputId": "78bc0b55-26ad-461a-8011-a92862b14a76"
      },
      "outputs": [
        {
          "output_type": "stream",
          "name": "stdout",
          "text": [
            "Found 2457 images belonging to 34 classes.\n",
            "Found 599 images belonging to 34 classes.\n"
          ]
        }
      ],
      "source": [
        "from tensorflow.keras.preprocessing.image import ImageDataGenerator\n",
        "\n",
        "train_datagen = ImageDataGenerator(rotation_range = 90,\n",
        "                                  horizontal_flip=True,\n",
        "                                  vertical_flip = True,\n",
        "                                   brightness_range=[0.2,1.0],\n",
        "                                   zoom_range=[0.5,1.0],                                   \n",
        "                                   validation_split=0.2)\n",
        "                                  #  preprocessing_function = preprocess_func)\n",
        "                                  \n",
        "#train_datagen  = ImageDataGenerator(rescale=1./255, validation_split=0.2)\n",
        "\n",
        "# --------------------\n",
        "# Flow training images in batches using train_datagen generator\n",
        "# --------------------\n",
        "train_generator = train_datagen.flow_from_directory(train_dir,\n",
        "                                                    batch_size=40,\n",
        "                                                    class_mode='categorical',\n",
        "                                                    # color_mode='grayscale',\n",
        "                                                    target_size=(256,256),\n",
        "                                                    shuffle=True,\n",
        "                                                    subset='training', seed=1)     \n",
        "# --------------------\n",
        "# Flow validation images in batches using test_datagen generator\n",
        "# --------------------\n",
        "validation_generator =  train_datagen.flow_from_directory(train_dir,\n",
        "                                                          batch_size=40,\n",
        "                                                          class_mode='categorical',\n",
        "                                                          # color_mode='grayscale',\n",
        "                                                          target_size=(256,256),\n",
        "                                                          subset='validation', seed=1)\n"
      ]
    },
    {
      "cell_type": "code",
      "execution_count": 7,
      "metadata": {
        "id": "ueQ8b0eukBoi"
      },
      "outputs": [],
      "source": [
        "# Apply callbacks :\n",
        "\n",
        "import datetime \n",
        "import tensorflow as tf\n",
        "  \n",
        "my_callbacks = []\n",
        "\n",
        "# logdir = os.path.join(\"/content/logs\", datetime.datetime.now().strftime(\"%Y%m%d-%H%M%S\"))\n",
        "# tensorboard_callback = tf.keras.callbacks.TensorBoard(logdir, histogram_freq=1)\n",
        "# my_callbacks.append(tensorboard_callback)\n",
        "\n",
        "save_best_callback = tf.keras.callbacks.ModelCheckpoint(f'model_from_scratch_best.hdf5', save_best_only=True, verbose=1)\n",
        "my_callbacks.append(save_best_callback)\n",
        "\n",
        "early_stop_callback = tf.keras.callbacks.EarlyStopping(patience=10, restore_best_weights=True, verbose=1)\n",
        "my_callbacks.append(early_stop_callback)"
      ]
    },
    {
      "cell_type": "code",
      "execution_count": 8,
      "metadata": {
        "colab": {
          "base_uri": "https://localhost:8080/"
        },
        "id": "P5iuGSf2TzI_",
        "outputId": "8daf952b-f018-4153-ef5e-b40dba12a923"
      },
      "outputs": [
        {
          "output_type": "stream",
          "name": "stderr",
          "text": [
            "/usr/local/lib/python3.7/dist-packages/ipykernel_launcher.py:8: UserWarning: `Model.fit_generator` is deprecated and will be removed in a future version. Please use `Model.fit`, which supports generators.\n",
            "  \n"
          ]
        },
        {
          "output_type": "stream",
          "name": "stdout",
          "text": [
            "Epoch 1/30\n",
            "62/61 [==============================] - ETA: 0s - loss: 82.0111 - accuracy: 0.1372\n",
            "Epoch 00001: val_loss improved from inf to 2.60324, saving model to model_from_scratch_best.hdf5\n",
            "61/61 [==============================] - 109s 2s/step - loss: 82.0111 - accuracy: 0.1372 - val_loss: 2.6032 - val_accuracy: 0.2905\n",
            "Epoch 2/30\n",
            "62/61 [==============================] - ETA: 0s - loss: 2.7107 - accuracy: 0.2731\n",
            "Epoch 00002: val_loss improved from 2.60324 to 2.26780, saving model to model_from_scratch_best.hdf5\n",
            "61/61 [==============================] - 91s 1s/step - loss: 2.7107 - accuracy: 0.2731 - val_loss: 2.2678 - val_accuracy: 0.4090\n",
            "Epoch 3/30\n",
            "62/61 [==============================] - ETA: 0s - loss: 2.3847 - accuracy: 0.3606\n",
            "Epoch 00003: val_loss improved from 2.26780 to 1.93003, saving model to model_from_scratch_best.hdf5\n",
            "61/61 [==============================] - 90s 1s/step - loss: 2.3847 - accuracy: 0.3606 - val_loss: 1.9300 - val_accuracy: 0.5275\n",
            "Epoch 4/30\n",
            "62/61 [==============================] - ETA: 0s - loss: 2.2183 - accuracy: 0.4221\n",
            "Epoch 00004: val_loss improved from 1.93003 to 1.73979, saving model to model_from_scratch_best.hdf5\n",
            "61/61 [==============================] - 87s 1s/step - loss: 2.2183 - accuracy: 0.4221 - val_loss: 1.7398 - val_accuracy: 0.5409\n",
            "Epoch 5/30\n",
            "62/61 [==============================] - ETA: 0s - loss: 1.9760 - accuracy: 0.4591\n",
            "Epoch 00005: val_loss improved from 1.73979 to 1.55635, saving model to model_from_scratch_best.hdf5\n",
            "61/61 [==============================] - 124s 2s/step - loss: 1.9760 - accuracy: 0.4591 - val_loss: 1.5563 - val_accuracy: 0.5977\n",
            "Epoch 6/30\n",
            "62/61 [==============================] - ETA: 0s - loss: 1.8465 - accuracy: 0.5002\n",
            "Epoch 00006: val_loss improved from 1.55635 to 1.39994, saving model to model_from_scratch_best.hdf5\n",
            "61/61 [==============================] - 121s 2s/step - loss: 1.8465 - accuracy: 0.5002 - val_loss: 1.3999 - val_accuracy: 0.6210\n",
            "Epoch 7/30\n",
            "62/61 [==============================] - ETA: 0s - loss: 1.7811 - accuracy: 0.5173\n",
            "Epoch 00007: val_loss improved from 1.39994 to 1.30591, saving model to model_from_scratch_best.hdf5\n",
            "61/61 [==============================] - 143s 2s/step - loss: 1.7811 - accuracy: 0.5173 - val_loss: 1.3059 - val_accuracy: 0.6878\n",
            "Epoch 8/30\n",
            "62/61 [==============================] - ETA: 0s - loss: 1.6420 - accuracy: 0.5584\n",
            "Epoch 00008: val_loss improved from 1.30591 to 1.23090, saving model to model_from_scratch_best.hdf5\n",
            "61/61 [==============================] - 142s 2s/step - loss: 1.6420 - accuracy: 0.5584 - val_loss: 1.2309 - val_accuracy: 0.6778\n",
            "Epoch 9/30\n",
            "62/61 [==============================] - ETA: 0s - loss: 1.5519 - accuracy: 0.5958\n",
            "Epoch 00009: val_loss improved from 1.23090 to 1.16455, saving model to model_from_scratch_best.hdf5\n",
            "61/61 [==============================] - 144s 2s/step - loss: 1.5519 - accuracy: 0.5958 - val_loss: 1.1646 - val_accuracy: 0.6928\n",
            "Epoch 10/30\n",
            "62/61 [==============================] - ETA: 0s - loss: 1.5101 - accuracy: 0.6032\n",
            "Epoch 00010: val_loss improved from 1.16455 to 1.10459, saving model to model_from_scratch_best.hdf5\n",
            "61/61 [==============================] - 143s 2s/step - loss: 1.5101 - accuracy: 0.6032 - val_loss: 1.1046 - val_accuracy: 0.7112\n",
            "Epoch 11/30\n",
            "62/61 [==============================] - ETA: 0s - loss: 1.3952 - accuracy: 0.6256\n",
            "Epoch 00011: val_loss improved from 1.10459 to 1.01149, saving model to model_from_scratch_best.hdf5\n",
            "61/61 [==============================] - 143s 2s/step - loss: 1.3952 - accuracy: 0.6256 - val_loss: 1.0115 - val_accuracy: 0.7596\n",
            "Epoch 12/30\n",
            "62/61 [==============================] - ETA: 0s - loss: 1.3066 - accuracy: 0.6439\n",
            "Epoch 00012: val_loss improved from 1.01149 to 0.96103, saving model to model_from_scratch_best.hdf5\n",
            "61/61 [==============================] - 141s 2s/step - loss: 1.3066 - accuracy: 0.6439 - val_loss: 0.9610 - val_accuracy: 0.7730\n",
            "Epoch 13/30\n",
            "62/61 [==============================] - ETA: 0s - loss: 1.2362 - accuracy: 0.6602\n",
            "Epoch 00013: val_loss did not improve from 0.96103\n",
            "61/61 [==============================] - 55s 886ms/step - loss: 1.2362 - accuracy: 0.6602 - val_loss: 0.9671 - val_accuracy: 0.7429\n",
            "Epoch 14/30\n",
            "62/61 [==============================] - ETA: 0s - loss: 1.2145 - accuracy: 0.6602\n",
            "Epoch 00014: val_loss improved from 0.96103 to 0.95814, saving model to model_from_scratch_best.hdf5\n",
            "61/61 [==============================] - 88s 1s/step - loss: 1.2145 - accuracy: 0.6602 - val_loss: 0.9581 - val_accuracy: 0.7546\n",
            "Epoch 15/30\n",
            "62/61 [==============================] - ETA: 0s - loss: 1.2094 - accuracy: 0.6720\n",
            "Epoch 00015: val_loss improved from 0.95814 to 0.80659, saving model to model_from_scratch_best.hdf5\n",
            "61/61 [==============================] - 139s 2s/step - loss: 1.2094 - accuracy: 0.6720 - val_loss: 0.8066 - val_accuracy: 0.7963\n",
            "Epoch 16/30\n",
            "62/61 [==============================] - ETA: 0s - loss: 1.1535 - accuracy: 0.6878\n",
            "Epoch 00016: val_loss improved from 0.80659 to 0.78417, saving model to model_from_scratch_best.hdf5\n",
            "61/61 [==============================] - 142s 2s/step - loss: 1.1535 - accuracy: 0.6878 - val_loss: 0.7842 - val_accuracy: 0.8013\n",
            "Epoch 17/30\n",
            "62/61 [==============================] - ETA: 0s - loss: 1.1192 - accuracy: 0.6846\n",
            "Epoch 00017: val_loss did not improve from 0.78417\n",
            "61/61 [==============================] - 56s 903ms/step - loss: 1.1192 - accuracy: 0.6846 - val_loss: 0.7870 - val_accuracy: 0.8030\n",
            "Epoch 18/30\n",
            "62/61 [==============================] - ETA: 0s - loss: 1.0903 - accuracy: 0.7066\n",
            "Epoch 00018: val_loss improved from 0.78417 to 0.68715, saving model to model_from_scratch_best.hdf5\n",
            "61/61 [==============================] - 89s 1s/step - loss: 1.0903 - accuracy: 0.7066 - val_loss: 0.6871 - val_accuracy: 0.8297\n",
            "Epoch 19/30\n",
            "62/61 [==============================] - ETA: 0s - loss: 1.0328 - accuracy: 0.7094\n",
            "Epoch 00019: val_loss did not improve from 0.68715\n",
            "61/61 [==============================] - 56s 897ms/step - loss: 1.0328 - accuracy: 0.7094 - val_loss: 0.7311 - val_accuracy: 0.8230\n",
            "Epoch 20/30\n",
            "62/61 [==============================] - ETA: 0s - loss: 1.0048 - accuracy: 0.7086\n",
            "Epoch 00020: val_loss did not improve from 0.68715\n",
            "61/61 [==============================] - 53s 863ms/step - loss: 1.0048 - accuracy: 0.7086 - val_loss: 0.7030 - val_accuracy: 0.8247\n",
            "Epoch 21/30\n",
            "62/61 [==============================] - ETA: 0s - loss: 0.9497 - accuracy: 0.7379\n",
            "Epoch 00021: val_loss did not improve from 0.68715\n",
            "61/61 [==============================] - 53s 858ms/step - loss: 0.9497 - accuracy: 0.7379 - val_loss: 0.6906 - val_accuracy: 0.8431\n",
            "Epoch 22/30\n",
            "62/61 [==============================] - ETA: 0s - loss: 0.9948 - accuracy: 0.7192\n",
            "Epoch 00022: val_loss did not improve from 0.68715\n",
            "61/61 [==============================] - 53s 861ms/step - loss: 0.9948 - accuracy: 0.7192 - val_loss: 0.6901 - val_accuracy: 0.8013\n",
            "Epoch 23/30\n",
            "62/61 [==============================] - ETA: 0s - loss: 0.9339 - accuracy: 0.7342\n",
            "Epoch 00023: val_loss improved from 0.68715 to 0.64466, saving model to model_from_scratch_best.hdf5\n",
            "61/61 [==============================] - 89s 1s/step - loss: 0.9339 - accuracy: 0.7342 - val_loss: 0.6447 - val_accuracy: 0.8230\n",
            "Epoch 24/30\n",
            "62/61 [==============================] - ETA: 0s - loss: 0.9311 - accuracy: 0.7354\n",
            "Epoch 00024: val_loss did not improve from 0.64466\n",
            "61/61 [==============================] - 56s 903ms/step - loss: 0.9311 - accuracy: 0.7354 - val_loss: 0.6951 - val_accuracy: 0.8280\n",
            "Epoch 25/30\n",
            "62/61 [==============================] - ETA: 0s - loss: 0.8532 - accuracy: 0.7525\n",
            "Epoch 00025: val_loss improved from 0.64466 to 0.61860, saving model to model_from_scratch_best.hdf5\n",
            "61/61 [==============================] - 89s 1s/step - loss: 0.8532 - accuracy: 0.7525 - val_loss: 0.6186 - val_accuracy: 0.8114\n",
            "Epoch 26/30\n",
            "62/61 [==============================] - ETA: 0s - loss: 0.8778 - accuracy: 0.7436\n",
            "Epoch 00026: val_loss did not improve from 0.61860\n",
            "61/61 [==============================] - 55s 893ms/step - loss: 0.8778 - accuracy: 0.7436 - val_loss: 0.6557 - val_accuracy: 0.8230\n",
            "Epoch 27/30\n",
            "62/61 [==============================] - ETA: 0s - loss: 0.8534 - accuracy: 0.7603\n",
            "Epoch 00027: val_loss did not improve from 0.61860\n",
            "61/61 [==============================] - 53s 861ms/step - loss: 0.8534 - accuracy: 0.7603 - val_loss: 0.7014 - val_accuracy: 0.8080\n",
            "Epoch 28/30\n",
            "62/61 [==============================] - ETA: 0s - loss: 0.7997 - accuracy: 0.7790\n",
            "Epoch 00028: val_loss improved from 0.61860 to 0.61591, saving model to model_from_scratch_best.hdf5\n",
            "61/61 [==============================] - 89s 1s/step - loss: 0.7997 - accuracy: 0.7790 - val_loss: 0.6159 - val_accuracy: 0.8397\n",
            "Epoch 29/30\n",
            "62/61 [==============================] - ETA: 0s - loss: 0.8017 - accuracy: 0.7721\n",
            "Epoch 00029: val_loss improved from 0.61591 to 0.54483, saving model to model_from_scratch_best.hdf5\n",
            "61/61 [==============================] - 91s 1s/step - loss: 0.8017 - accuracy: 0.7721 - val_loss: 0.5448 - val_accuracy: 0.8598\n",
            "Epoch 30/30\n",
            "62/61 [==============================] - ETA: 0s - loss: 0.8181 - accuracy: 0.7798\n",
            "Epoch 00030: val_loss did not improve from 0.54483\n",
            "61/61 [==============================] - 56s 897ms/step - loss: 0.8181 - accuracy: 0.7798 - val_loss: 0.5753 - val_accuracy: 0.8531\n"
          ]
        }
      ],
      "source": [
        "history = model.fit_generator(train_generator,\n",
        "                              validation_data=validation_generator,\n",
        "                              # steps_per_epoch=50,\n",
        "                              steps_per_epoch=train_generator.samples/train_generator.batch_size,\n",
        "                              epochs=30,\n",
        "                              validation_steps=15,\n",
        "                              verbose=1,\n",
        "                              callbacks=my_callbacks)"
      ]
    },
    {
      "cell_type": "code",
      "execution_count": 9,
      "metadata": {
        "colab": {
          "base_uri": "https://localhost:8080/"
        },
        "id": "BZANTHekSznu",
        "outputId": "4115c025-daf8-442e-ac6a-53787e7b3262"
      },
      "outputs": [
        {
          "output_type": "stream",
          "name": "stdout",
          "text": [
            "Found 2149 images belonging to 34 classes.\n"
          ]
        }
      ],
      "source": [
        "# test_datagen  = ImageDataGenerator(rescale=1./255)\n",
        "test_datagen  = ImageDataGenerator()\n",
        "# --------------------\n",
        "# Flow testing images in batches using test_datagen generator\n",
        "# --------------------\n",
        "test_generator =  test_datagen.flow_from_directory(test_dir,\n",
        "                                                   batch_size=10,\n",
        "                                                   class_mode='categorical',\n",
        "                                                  #  color_mode='grayscale',\n",
        "                                                   target_size=(256,256))\n",
        "# # Testing the CNN on testing data : \n",
        "# loss, acc = model.evaluate(test_generator)"
      ]
    },
    {
      "cell_type": "code",
      "execution_count": 11,
      "metadata": {
        "colab": {
          "base_uri": "https://localhost:8080/",
          "height": 320
        },
        "id": "Q3PTISh9XtGh",
        "outputId": "f0a097ba-eb0f-4115-e398-02cdf045864f"
      },
      "outputs": [
        {
          "output_type": "stream",
          "name": "stdout",
          "text": [
            "215/215 [==============================] - 6s 28ms/step - loss: 1.5039 - accuracy: 0.6636\n"
          ]
        },
        {
          "output_type": "display_data",
          "data": {
            "image/png": "[encoded data removed]",
            "text/plain": [
              "<Figure size 432x288 with 1 Axes>"
            ]
          },
          "metadata": {
            "needs_background": "light"
          }
        }
      ],
      "source": [
        "import matplotlib.pyplot as plt\n",
        "\n",
        "plt.plot(history.history['accuracy'], label='accuracy')\n",
        "plt.plot(history.history['val_accuracy'], label = 'val_accuracy')\n",
        "plt.xlabel('Epoch')\n",
        "plt.ylabel('Accuracy')\n",
        "plt.ylim([0, 1])\n",
        "plt.legend(loc='lower right')\n",
        "\n",
        "# Testing the CNN on testing data : \n",
        "loss, acc = model.evaluate(test_generator)"
      ]
    }
  ],
  "metadata": {
    "accelerator": "GPU",
    "colab": {
      "collapsed_sections": [],
      "name": "CV_Project_4_NOT_pretrained.ipynb",
      "provenance": [],
      "authorship_tag": "ABX9TyPXK/bvtJqRdKc/hyB+M72J"
    },
    "kernelspec": {
      "display_name": "Python 3",
      "name": "python3"
    },
    "language_info": {
      "name": "python"
    }
  },
  "nbformat": 4,
  "nbformat_minor": 0
}