{
  "cells": [
    {
      "cell_type": "markdown",
      "source": [
        "\n",
        "# This is a collaboratory, where you can find the code with the network from scratch of the final project (Project 4) of the course : **Computer Vision** "
      ],
      "metadata": {
        "id": "03IWgtOFCvAu"
      }
    },
    {
      "cell_type": "code",
      "execution_count": 1,
      "metadata": {
        "colab": {
          "base_uri": "https://localhost:8080/"
        },
        "id": "1efK3dBnSNsW",
        "outputId": "2eb39e83-6e2c-4c7b-eb80-87ac86cf99b7"
      },
      "outputs": [
        {
          "output_type": "stream",
          "name": "stdout",
          "text": [
            "Drive already mounted at /content/drive; to attempt to forcibly remount, call drive.mount(\"/content/drive\", force_remount=True).\n"
          ]
        }
      ],
      "source": [
        "# Mount google drive :\n",
        "\n",
        "from google.colab import drive\n",
        "drive.mount('/content/drive')"
      ]
    },
    {
      "cell_type": "code",
      "execution_count": 2,
      "metadata": {
        "id": "UES-_QQCSXQM"
      },
      "outputs": [],
      "source": [
        "# Unzip the dataset and save it to the path \"/content/imagedb_btsd\" :\n",
        "import os\n",
        "import zipfile\n",
        "\n",
        "local_zip = '/content/drive/MyDrive/cv_proj_4_dataset/imagedb_btsd.zip'\n",
        "\n",
        "zip_ref = zipfile.ZipFile(local_zip, 'r')\n",
        "zip_ref.extractall('/content/imagedb_btsd')\n",
        "zip_ref.close()"
      ]
    },
    {
      "cell_type": "code",
      "execution_count": 3,
      "metadata": {
        "id": "23UpZ_4lTZGN"
      },
      "outputs": [],
      "source": [
        "# Select the folder \"imagedb\" as the training folder\n",
        "# and the folder \"imagedb_test\" as the testing folder :\n",
        "\n",
        "base_dir = '/content/imagedb_btsd'\n",
        "\n",
        "train_dir = os.path.join(base_dir, 'imagedb')\n",
        "test_dir = os.path.join(base_dir, 'imagedb_test')"
      ]
    },
    {
      "cell_type": "code",
      "execution_count": 4,
      "metadata": {
        "colab": {
          "base_uri": "https://localhost:8080/"
        },
        "id": "VAg9eIeSShP9",
        "outputId": "58b80e92-a748-4f6d-b294-d26746d0063b"
      },
      "outputs": [
        {
          "output_type": "stream",
          "name": "stdout",
          "text": [
            "Model: \"sequential\"\n",
            "_________________________________________________________________\n",
            " Layer (type)                Output Shape              Param #   \n",
            "=================================================================\n",
            " conv2d (Conv2D)             (None, 254, 254, 32)      896       \n",
            "                                                                 \n",
            " max_pooling2d (MaxPooling2D  (None, 127, 127, 32)     0         \n",
            " )                                                               \n",
            "                                                                 \n",
            " conv2d_1 (Conv2D)           (None, 125, 125, 64)      18496     \n",
            "                                                                 \n",
            " max_pooling2d_1 (MaxPooling  (None, 62, 62, 64)       0         \n",
            " 2D)                                                             \n",
            "                                                                 \n",
            " conv2d_2 (Conv2D)           (None, 60, 60, 64)        36928     \n",
            "                                                                 \n",
            " max_pooling2d_2 (MaxPooling  (None, 30, 30, 64)       0         \n",
            " 2D)                                                             \n",
            "                                                                 \n",
            " conv2d_3 (Conv2D)           (None, 28, 28, 128)       73856     \n",
            "                                                                 \n",
            " max_pooling2d_3 (MaxPooling  (None, 14, 14, 128)      0         \n",
            " 2D)                                                             \n",
            "                                                                 \n",
            " flatten (Flatten)           (None, 25088)             0         \n",
            "                                                                 \n",
            " dense (Dense)               (None, 1024)              25691136  \n",
            "                                                                 \n",
            " dropout (Dropout)           (None, 1024)              0         \n",
            "                                                                 \n",
            " dense_1 (Dense)             (None, 34)                34850     \n",
            "                                                                 \n",
            "=================================================================\n",
            "Total params: 25,856,162\n",
            "Trainable params: 25,856,162\n",
            "Non-trainable params: 0\n",
            "_________________________________________________________________\n"
          ]
        }
      ],
      "source": [
        "import tensorflow as tf\n",
        "\n",
        "from tensorflow.keras import datasets, layers, models\n",
        "from keras import optimizers\n",
        "\n",
        "\n",
        "model = models.Sequential()\n",
        "model.add(layers.Conv2D(32, (3, 3), padding=\"valid\", activation='relu', input_shape=(256, 256, 3)))\n",
        "model.add(layers.MaxPooling2D((2, 2)))\n",
        "\n",
        "model.add(layers.Conv2D(64, (3, 3), padding=\"valid\", activation='relu'))\n",
        "model.add(layers.MaxPooling2D((2, 2)))\n",
        "\n",
        "model.add(layers.Conv2D(64, (3, 3), padding=\"valid\", activation='relu'))\n",
        "model.add(layers.MaxPooling2D((2, 2)))\n",
        "\n",
        "model.add(layers.Conv2D(128, (3, 3), padding=\"valid\", activation='relu'))\n",
        "model.add(layers.MaxPooling2D((2, 2)))\n",
        "\n",
        "model.add(layers.Flatten())\n",
        "model.add(layers.Dense(1024, activation='relu'))\n",
        "model.add(layers.Dropout(0.5))\n",
        "model.add(layers.Dense(34, activation='softmax'))\n",
        "\n",
        "model.compile(optimizer=optimizers.adam_v2.Adam(learning_rate=1e-4),\n",
        "              loss = 'categorical_crossentropy',\n",
        "              metrics=['accuracy'])\n",
        "\n",
        "\n",
        "model.summary()"
      ]
    },
    {
      "cell_type": "code",
      "execution_count": 5,
      "metadata": {
        "colab": {
          "base_uri": "https://localhost:8080/"
        },
        "id": "fWGtpHkotMbZ",
        "outputId": "448e31c1-09d3-48a4-f2bb-81cb621a9c6b"
      },
      "outputs": [
        {
          "output_type": "stream",
          "name": "stdout",
          "text": [
            "<keras.layers.convolutional.Conv2D object at 0x7fedc3b8f950> True\n",
            "<keras.layers.pooling.MaxPooling2D object at 0x7fedc3b8f910> True\n",
            "<keras.layers.convolutional.Conv2D object at 0x7fed4018dcd0> True\n",
            "<keras.layers.pooling.MaxPooling2D object at 0x7fed401b7c90> True\n",
            "<keras.layers.convolutional.Conv2D object at 0x7fed401e4350> True\n",
            "<keras.layers.pooling.MaxPooling2D object at 0x7fed40162610> True\n",
            "<keras.layers.convolutional.Conv2D object at 0x7fed40169190> True\n",
            "<keras.layers.pooling.MaxPooling2D object at 0x7fed4016c450> True\n",
            "<keras.layers.core.flatten.Flatten object at 0x7fed4016fd90> True\n",
            "<keras.layers.core.dense.Dense object at 0x7fed40162390> True\n",
            "<keras.layers.core.dropout.Dropout object at 0x7fed40169110> True\n",
            "<keras.layers.core.dense.Dense object at 0x7fed40169d50> True\n"
          ]
        }
      ],
      "source": [
        "# check this :\n",
        "\n",
        "# Check the trainable status of the individual layers\n",
        "for layer in model.layers:\n",
        "    print(layer, layer.trainable)"
      ]
    },
    {
      "cell_type": "code",
      "execution_count": 6,
      "metadata": {
        "colab": {
          "base_uri": "https://localhost:8080/"
        },
        "id": "UWDZ2ZpnShK9",
        "outputId": "c7ebd981-91b5-4764-a101-f45d3196b41e"
      },
      "outputs": [
        {
          "output_type": "stream",
          "name": "stdout",
          "text": [
            "Found 2457 images belonging to 34 classes.\n",
            "Found 599 images belonging to 34 classes.\n"
          ]
        }
      ],
      "source": [
        "from tensorflow.keras.preprocessing.image import ImageDataGenerator\n",
        "\n",
        "train_datagen = ImageDataGenerator(rotation_range = 90,\n",
        "                                  horizontal_flip=True,\n",
        "                                  vertical_flip = True,\n",
        "                                   brightness_range=[0.2,1.0],\n",
        "                                   zoom_range=[0.5,1.0],                                   \n",
        "                                   validation_split=0.2)\n",
        "                                  #  preprocessing_function = preprocess_func)\n",
        "                                  \n",
        "#train_datagen  = ImageDataGenerator(rescale=1./255, validation_split=0.2)\n",
        "\n",
        "# --------------------\n",
        "# Flow training images in batches using train_datagen generator\n",
        "# --------------------\n",
        "train_generator = train_datagen.flow_from_directory(train_dir,\n",
        "                                                    batch_size=40,\n",
        "                                                    class_mode='categorical',\n",
        "                                                    # color_mode='grayscale',\n",
        "                                                    target_size=(256,256),\n",
        "                                                    shuffle=True,\n",
        "                                                    subset='training', seed=1)     \n",
        "# --------------------\n",
        "# Flow validation images in batches using test_datagen generator\n",
        "# --------------------\n",
        "validation_generator =  train_datagen.flow_from_directory(train_dir,\n",
        "                                                          batch_size=40,\n",
        "                                                          class_mode='categorical',\n",
        "                                                          # color_mode='grayscale',\n",
        "                                                          target_size=(256,256),\n",
        "                                                          subset='validation', seed=1)\n"
      ]
    },
    {
      "cell_type": "code",
      "execution_count": 7,
      "metadata": {
        "id": "ueQ8b0eukBoi"
      },
      "outputs": [],
      "source": [
        "# Apply callbacks :\n",
        "\n",
        "import datetime \n",
        "import tensorflow as tf\n",
        "  \n",
        "my_callbacks = []\n",
        "\n",
        "# logdir = os.path.join(\"/content/logs\", datetime.datetime.now().strftime(\"%Y%m%d-%H%M%S\"))\n",
        "# tensorboard_callback = tf.keras.callbacks.TensorBoard(logdir, histogram_freq=1)\n",
        "# my_callbacks.append(tensorboard_callback)\n",
        "\n",
        "save_best_callback = tf.keras.callbacks.ModelCheckpoint(f'model_from_scratch_best.hdf5', save_best_only=True, verbose=1)\n",
        "my_callbacks.append(save_best_callback)\n",
        "\n",
        "early_stop_callback = tf.keras.callbacks.EarlyStopping(patience=10, restore_best_weights=True, verbose=1)\n",
        "my_callbacks.append(early_stop_callback)"
      ]
    },
    {
      "cell_type": "code",
      "execution_count": 8,
      "metadata": {
        "colab": {
          "base_uri": "https://localhost:8080/"
        },
        "id": "P5iuGSf2TzI_",
        "outputId": "6d0aac14-944c-4218-bc58-3c2206bca5d6"
      },
      "outputs": [
        {
          "output_type": "stream",
          "name": "stderr",
          "text": [
            "/usr/local/lib/python3.7/dist-packages/ipykernel_launcher.py:8: UserWarning: `Model.fit_generator` is deprecated and will be removed in a future version. Please use `Model.fit`, which supports generators.\n",
            "  \n"
          ]
        },
        {
          "output_type": "stream",
          "name": "stdout",
          "text": [
            "Epoch 1/30\n",
            "62/61 [==============================] - ETA: 0s - loss: 6.2334 - accuracy: 0.2499\n",
            "Epoch 00001: val_loss improved from inf to 1.93122, saving model to model_from_scratch_best.hdf5\n",
            "61/61 [==============================] - 57s 797ms/step - loss: 6.2334 - accuracy: 0.2499 - val_loss: 1.9312 - val_accuracy: 0.4992\n",
            "Epoch 2/30\n",
            "62/61 [==============================] - ETA: 0s - loss: 2.0480 - accuracy: 0.4632\n",
            "Epoch 00002: val_loss improved from 1.93122 to 1.50329, saving model to model_from_scratch_best.hdf5\n",
            "61/61 [==============================] - 46s 754ms/step - loss: 2.0480 - accuracy: 0.4632 - val_loss: 1.5033 - val_accuracy: 0.6177\n",
            "Epoch 3/30\n",
            "62/61 [==============================] - ETA: 0s - loss: 1.6419 - accuracy: 0.5710\n",
            "Epoch 00003: val_loss improved from 1.50329 to 1.21323, saving model to model_from_scratch_best.hdf5\n",
            "61/61 [==============================] - 46s 753ms/step - loss: 1.6419 - accuracy: 0.5710 - val_loss: 1.2132 - val_accuracy: 0.7078\n",
            "Epoch 4/30\n",
            "62/61 [==============================] - ETA: 0s - loss: 1.3679 - accuracy: 0.6370\n",
            "Epoch 00004: val_loss improved from 1.21323 to 1.03603, saving model to model_from_scratch_best.hdf5\n",
            "61/61 [==============================] - 46s 749ms/step - loss: 1.3679 - accuracy: 0.6370 - val_loss: 1.0360 - val_accuracy: 0.7312\n",
            "Epoch 5/30\n",
            "62/61 [==============================] - ETA: 0s - loss: 1.1917 - accuracy: 0.6846\n",
            "Epoch 00005: val_loss improved from 1.03603 to 0.86368, saving model to model_from_scratch_best.hdf5\n",
            "61/61 [==============================] - 46s 744ms/step - loss: 1.1917 - accuracy: 0.6846 - val_loss: 0.8637 - val_accuracy: 0.8013\n",
            "Epoch 6/30\n",
            "62/61 [==============================] - ETA: 0s - loss: 1.0801 - accuracy: 0.7102\n",
            "Epoch 00006: val_loss improved from 0.86368 to 0.81014, saving model to model_from_scratch_best.hdf5\n",
            "61/61 [==============================] - 45s 741ms/step - loss: 1.0801 - accuracy: 0.7102 - val_loss: 0.8101 - val_accuracy: 0.8080\n",
            "Epoch 7/30\n",
            "62/61 [==============================] - ETA: 0s - loss: 0.9642 - accuracy: 0.7354\n",
            "Epoch 00007: val_loss improved from 0.81014 to 0.79812, saving model to model_from_scratch_best.hdf5\n",
            "61/61 [==============================] - 46s 746ms/step - loss: 0.9642 - accuracy: 0.7354 - val_loss: 0.7981 - val_accuracy: 0.7846\n",
            "Epoch 8/30\n",
            "62/61 [==============================] - ETA: 0s - loss: 0.8980 - accuracy: 0.7562\n",
            "Epoch 00008: val_loss improved from 0.79812 to 0.64899, saving model to model_from_scratch_best.hdf5\n",
            "61/61 [==============================] - 46s 742ms/step - loss: 0.8980 - accuracy: 0.7562 - val_loss: 0.6490 - val_accuracy: 0.8347\n",
            "Epoch 9/30\n",
            "62/61 [==============================] - ETA: 0s - loss: 0.7796 - accuracy: 0.7941\n",
            "Epoch 00009: val_loss did not improve from 0.64899\n",
            "61/61 [==============================] - 45s 731ms/step - loss: 0.7796 - accuracy: 0.7941 - val_loss: 0.7682 - val_accuracy: 0.7947\n",
            "Epoch 10/30\n",
            "62/61 [==============================] - ETA: 0s - loss: 0.7561 - accuracy: 0.7912\n",
            "Epoch 00010: val_loss improved from 0.64899 to 0.59185, saving model to model_from_scratch_best.hdf5\n",
            "61/61 [==============================] - 46s 745ms/step - loss: 0.7561 - accuracy: 0.7912 - val_loss: 0.5919 - val_accuracy: 0.8598\n",
            "Epoch 11/30\n",
            "62/61 [==============================] - ETA: 0s - loss: 0.6754 - accuracy: 0.8075\n",
            "Epoch 00011: val_loss improved from 0.59185 to 0.53927, saving model to model_from_scratch_best.hdf5\n",
            "61/61 [==============================] - 46s 746ms/step - loss: 0.6754 - accuracy: 0.8075 - val_loss: 0.5393 - val_accuracy: 0.8598\n",
            "Epoch 12/30\n",
            "62/61 [==============================] - ETA: 0s - loss: 0.6345 - accuracy: 0.8189\n",
            "Epoch 00012: val_loss did not improve from 0.53927\n",
            "61/61 [==============================] - 45s 735ms/step - loss: 0.6345 - accuracy: 0.8189 - val_loss: 0.5504 - val_accuracy: 0.8614\n",
            "Epoch 13/30\n",
            "62/61 [==============================] - ETA: 0s - loss: 0.6086 - accuracy: 0.8356\n",
            "Epoch 00013: val_loss improved from 0.53927 to 0.53428, saving model to model_from_scratch_best.hdf5\n",
            "61/61 [==============================] - 46s 748ms/step - loss: 0.6086 - accuracy: 0.8356 - val_loss: 0.5343 - val_accuracy: 0.8564\n",
            "Epoch 14/30\n",
            "62/61 [==============================] - ETA: 0s - loss: 0.5685 - accuracy: 0.8409\n",
            "Epoch 00014: val_loss improved from 0.53428 to 0.46091, saving model to model_from_scratch_best.hdf5\n",
            "61/61 [==============================] - 46s 749ms/step - loss: 0.5685 - accuracy: 0.8409 - val_loss: 0.4609 - val_accuracy: 0.8915\n",
            "Epoch 15/30\n",
            "62/61 [==============================] - ETA: 0s - loss: 0.5324 - accuracy: 0.8575\n",
            "Epoch 00015: val_loss did not improve from 0.46091\n",
            "61/61 [==============================] - 45s 737ms/step - loss: 0.5324 - accuracy: 0.8575 - val_loss: 0.4674 - val_accuracy: 0.8698\n",
            "Epoch 16/30\n",
            "62/61 [==============================] - ETA: 0s - loss: 0.5280 - accuracy: 0.8551\n",
            "Epoch 00016: val_loss did not improve from 0.46091\n",
            "61/61 [==============================] - 45s 740ms/step - loss: 0.5280 - accuracy: 0.8551 - val_loss: 0.4693 - val_accuracy: 0.8765\n",
            "Epoch 17/30\n",
            "62/61 [==============================] - ETA: 0s - loss: 0.5025 - accuracy: 0.8519\n",
            "Epoch 00017: val_loss did not improve from 0.46091\n",
            "61/61 [==============================] - 45s 740ms/step - loss: 0.5025 - accuracy: 0.8519 - val_loss: 0.4613 - val_accuracy: 0.8798\n",
            "Epoch 18/30\n",
            "62/61 [==============================] - ETA: 0s - loss: 0.4855 - accuracy: 0.8698\n",
            "Epoch 00018: val_loss did not improve from 0.46091\n",
            "61/61 [==============================] - 46s 744ms/step - loss: 0.4855 - accuracy: 0.8698 - val_loss: 0.4984 - val_accuracy: 0.8514\n",
            "Epoch 19/30\n",
            "62/61 [==============================] - ETA: 0s - loss: 0.4536 - accuracy: 0.8763\n",
            "Epoch 00019: val_loss did not improve from 0.46091\n",
            "61/61 [==============================] - 45s 742ms/step - loss: 0.4536 - accuracy: 0.8763 - val_loss: 0.4992 - val_accuracy: 0.8681\n",
            "Epoch 20/30\n",
            "62/61 [==============================] - ETA: 0s - loss: 0.4720 - accuracy: 0.8730\n",
            "Epoch 00020: val_loss improved from 0.46091 to 0.42552, saving model to model_from_scratch_best.hdf5\n",
            "61/61 [==============================] - 46s 757ms/step - loss: 0.4720 - accuracy: 0.8730 - val_loss: 0.4255 - val_accuracy: 0.8898\n",
            "Epoch 21/30\n",
            "62/61 [==============================] - ETA: 0s - loss: 0.4004 - accuracy: 0.8869\n",
            "Epoch 00021: val_loss did not improve from 0.42552\n",
            "61/61 [==============================] - 45s 739ms/step - loss: 0.4004 - accuracy: 0.8869 - val_loss: 0.4270 - val_accuracy: 0.8848\n",
            "Epoch 22/30\n",
            "62/61 [==============================] - ETA: 0s - loss: 0.4265 - accuracy: 0.8832\n",
            "Epoch 00022: val_loss improved from 0.42552 to 0.40451, saving model to model_from_scratch_best.hdf5\n",
            "61/61 [==============================] - 46s 748ms/step - loss: 0.4265 - accuracy: 0.8832 - val_loss: 0.4045 - val_accuracy: 0.8715\n",
            "Epoch 23/30\n",
            "62/61 [==============================] - ETA: 0s - loss: 0.3987 - accuracy: 0.8893\n",
            "Epoch 00023: val_loss did not improve from 0.40451\n",
            "61/61 [==============================] - 45s 733ms/step - loss: 0.3987 - accuracy: 0.8893 - val_loss: 0.4685 - val_accuracy: 0.8681\n",
            "Epoch 24/30\n",
            "62/61 [==============================] - ETA: 0s - loss: 0.3832 - accuracy: 0.8974\n",
            "Epoch 00024: val_loss did not improve from 0.40451\n",
            "61/61 [==============================] - 45s 733ms/step - loss: 0.3832 - accuracy: 0.8974 - val_loss: 0.4199 - val_accuracy: 0.9048\n",
            "Epoch 25/30\n",
            "62/61 [==============================] - ETA: 0s - loss: 0.3728 - accuracy: 0.8982\n",
            "Epoch 00025: val_loss did not improve from 0.40451\n",
            "61/61 [==============================] - 45s 736ms/step - loss: 0.3728 - accuracy: 0.8982 - val_loss: 0.4277 - val_accuracy: 0.8715\n",
            "Epoch 26/30\n",
            "62/61 [==============================] - ETA: 0s - loss: 0.3749 - accuracy: 0.8946\n",
            "Epoch 00026: val_loss did not improve from 0.40451\n",
            "61/61 [==============================] - 45s 734ms/step - loss: 0.3749 - accuracy: 0.8946 - val_loss: 0.4288 - val_accuracy: 0.8731\n",
            "Epoch 27/30\n",
            "62/61 [==============================] - ETA: 0s - loss: 0.3603 - accuracy: 0.9039\n",
            "Epoch 00027: val_loss improved from 0.40451 to 0.35954, saving model to model_from_scratch_best.hdf5\n",
            "61/61 [==============================] - 46s 752ms/step - loss: 0.3603 - accuracy: 0.9039 - val_loss: 0.3595 - val_accuracy: 0.9082\n",
            "Epoch 28/30\n",
            "62/61 [==============================] - ETA: 0s - loss: 0.3002 - accuracy: 0.9162\n",
            "Epoch 00028: val_loss did not improve from 0.35954\n",
            "61/61 [==============================] - 46s 744ms/step - loss: 0.3002 - accuracy: 0.9162 - val_loss: 0.3868 - val_accuracy: 0.8982\n",
            "Epoch 29/30\n",
            "62/61 [==============================] - ETA: 0s - loss: 0.3515 - accuracy: 0.9072\n",
            "Epoch 00029: val_loss did not improve from 0.35954\n",
            "61/61 [==============================] - 45s 741ms/step - loss: 0.3515 - accuracy: 0.9072 - val_loss: 0.3873 - val_accuracy: 0.9032\n",
            "Epoch 30/30\n",
            "62/61 [==============================] - ETA: 0s - loss: 0.3277 - accuracy: 0.9064\n",
            "Epoch 00030: val_loss improved from 0.35954 to 0.35359, saving model to model_from_scratch_best.hdf5\n",
            "61/61 [==============================] - 46s 756ms/step - loss: 0.3277 - accuracy: 0.9064 - val_loss: 0.3536 - val_accuracy: 0.9098\n"
          ]
        }
      ],
      "source": [
        "history = model.fit_generator(train_generator,\n",
        "                              validation_data=validation_generator,\n",
        "                              # steps_per_epoch=50,\n",
        "                              steps_per_epoch=train_generator.samples/train_generator.batch_size,\n",
        "                              epochs=30,\n",
        "                              validation_steps=15,\n",
        "                              verbose=1,\n",
        "                              callbacks=my_callbacks)"
      ]
    },
    {
      "cell_type": "code",
      "execution_count": 9,
      "metadata": {
        "id": "BZANTHekSznu",
        "colab": {
          "base_uri": "https://localhost:8080/"
        },
        "outputId": "1174031a-4e3c-4a1d-df1c-dfc7788a4ea0"
      },
      "outputs": [
        {
          "output_type": "stream",
          "name": "stdout",
          "text": [
            "Found 2149 images belonging to 34 classes.\n"
          ]
        }
      ],
      "source": [
        "# test_datagen  = ImageDataGenerator(rescale=1./255)\n",
        "test_datagen  = ImageDataGenerator()\n",
        "# --------------------\n",
        "# Flow testing images in batches using test_datagen generator\n",
        "# --------------------\n",
        "test_generator =  test_datagen.flow_from_directory(test_dir,\n",
        "                                                   batch_size=10,\n",
        "                                                   class_mode='categorical',\n",
        "                                                  #  color_mode='grayscale',\n",
        "                                                   target_size=(256,256))\n",
        "# # Testing the CNN on testing data : \n",
        "# loss, acc = model.evaluate(test_generator)"
      ]
    },
    {
      "cell_type": "code",
      "execution_count": 10,
      "metadata": {
        "id": "Q3PTISh9XtGh",
        "colab": {
          "base_uri": "https://localhost:8080/",
          "height": 320
        },
        "outputId": "d949efd2-45ce-4852-a5b7-432d9cfca829"
      },
      "outputs": [
        {
          "output_type": "stream",
          "name": "stdout",
          "text": [
            "215/215 [==============================] - 5s 20ms/step - loss: 1.5507 - accuracy: 0.7073\n"
          ]
        },
        {
          "output_type": "display_data",
          "data": {
            "image/png": "[encoded data removed]",
            "text/plain": [
              "<Figure size 432x288 with 1 Axes>"
            ]
          },
          "metadata": {
            "needs_background": "light"
          }
        }
      ],
      "source": [
        "import matplotlib.pyplot as plt\n",
        "\n",
        "plt.plot(history.history['accuracy'], label='accuracy')\n",
        "plt.plot(history.history['val_accuracy'], label = 'val_accuracy')\n",
        "plt.xlabel('Epoch')\n",
        "plt.ylabel('Accuracy')\n",
        "plt.ylim([0, 1])\n",
        "plt.legend(loc='lower right')\n",
        "\n",
        "# Testing the CNN on testing data : \n",
        "loss, acc = model.evaluate(test_generator)"
      ]
    },
    {
      "cell_type": "code",
      "source": [
        "# # Loading the best state model from the content folder : \n",
        "\n",
        "model_saved = models.load_model('/content/model_from_scratch_best.hdf5')\n",
        "model_saved.summary()"
      ],
      "metadata": {
        "colab": {
          "base_uri": "https://localhost:8080/"
        },
        "id": "DmXJP6VsLlS9",
        "outputId": "a07f5e45-771a-4bd4-f1e6-267c6a1a8656"
      },
      "execution_count": 11,
      "outputs": [
        {
          "output_type": "stream",
          "name": "stdout",
          "text": [
            "Model: \"sequential\"\n",
            "_________________________________________________________________\n",
            " Layer (type)                Output Shape              Param #   \n",
            "=================================================================\n",
            " conv2d (Conv2D)             (None, 254, 254, 32)      896       \n",
            "                                                                 \n",
            " max_pooling2d (MaxPooling2D  (None, 127, 127, 32)     0         \n",
            " )                                                               \n",
            "                                                                 \n",
            " conv2d_1 (Conv2D)           (None, 125, 125, 64)      18496     \n",
            "                                                                 \n",
            " max_pooling2d_1 (MaxPooling  (None, 62, 62, 64)       0         \n",
            " 2D)                                                             \n",
            "                                                                 \n",
            " conv2d_2 (Conv2D)           (None, 60, 60, 64)        36928     \n",
            "                                                                 \n",
            " max_pooling2d_2 (MaxPooling  (None, 30, 30, 64)       0         \n",
            " 2D)                                                             \n",
            "                                                                 \n",
            " conv2d_3 (Conv2D)           (None, 28, 28, 128)       73856     \n",
            "                                                                 \n",
            " max_pooling2d_3 (MaxPooling  (None, 14, 14, 128)      0         \n",
            " 2D)                                                             \n",
            "                                                                 \n",
            " flatten (Flatten)           (None, 25088)             0         \n",
            "                                                                 \n",
            " dense (Dense)               (None, 1024)              25691136  \n",
            "                                                                 \n",
            " dropout (Dropout)           (None, 1024)              0         \n",
            "                                                                 \n",
            " dense_1 (Dense)             (None, 34)                34850     \n",
            "                                                                 \n",
            "=================================================================\n",
            "Total params: 25,856,162\n",
            "Trainable params: 25,856,162\n",
            "Non-trainable params: 0\n",
            "_________________________________________________________________\n"
          ]
        }
      ]
    },
    {
      "cell_type": "code",
      "source": [
        " loss_saved, acc_saved = model_saved.evaluate(test_generator)"
      ],
      "metadata": {
        "colab": {
          "base_uri": "https://localhost:8080/"
        },
        "id": "gD96ihm6LwpB",
        "outputId": "758ded9f-d1d0-411c-c87e-984fb49d9ae8"
      },
      "execution_count": 12,
      "outputs": [
        {
          "output_type": "stream",
          "name": "stdout",
          "text": [
            "215/215 [==============================] - 3s 14ms/step - loss: 1.5507 - accuracy: 0.7073\n"
          ]
        }
      ]
    }
  ],
  "metadata": {
    "accelerator": "GPU",
    "colab": {
      "collapsed_sections": [],
      "name": "CV_Project_4_NOT_pretrained.ipynb",
      "provenance": [],
      "authorship_tag": "ABX9TyPIrEthLnMJ0TuN3AJlQDHv"
    },
    "kernelspec": {
      "display_name": "Python 3",
      "name": "python3"
    },
    "language_info": {
      "name": "python"
    }
  },
  "nbformat": 4,
  "nbformat_minor": 0
}