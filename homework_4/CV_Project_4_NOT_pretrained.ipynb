{
  "nbformat": 4,
  "nbformat_minor": 0,
  "metadata": {
    "colab": {
      "name": "CV_Project_4_NOT_pretrained.ipynb",
      "provenance": [],
      "collapsed_sections": [],
      "authorship_tag": "ABX9TyM+gwr1+3UoDFFQZXcgY0p4"
    },
    "kernelspec": {
      "name": "python3",
      "display_name": "Python 3"
    },
    "language_info": {
      "name": "python"
    },
    "accelerator": "GPU"
  },
  "cells": [
    {
      "cell_type": "code",
      "execution_count": 1,
      "metadata": {
        "colab": {
          "base_uri": "https://localhost:8080/"
        },
        "id": "1efK3dBnSNsW",
        "outputId": "5cec1a0e-2187-422e-c502-32dc93c4e9d8"
      },
      "outputs": [
        {
          "output_type": "stream",
          "name": "stdout",
          "text": [
            "Drive already mounted at /content/drive; to attempt to forcibly remount, call drive.mount(\"/content/drive\", force_remount=True).\n"
          ]
        }
      ],
      "source": [
        "# Mount google drive :\n",
        "\n",
        "from google.colab import drive\n",
        "drive.mount('/content/drive')"
      ]
    },
    {
      "cell_type": "code",
      "source": [
        "# Unzip the dataset and save it to the path \"/content/imagedb_btsd\" :\n",
        "import os\n",
        "import zipfile\n",
        "\n",
        "local_zip = '/content/drive/MyDrive/cv_proj_4_dataset/imagedb_btsd.zip'\n",
        "\n",
        "zip_ref = zipfile.ZipFile(local_zip, 'r')\n",
        "zip_ref.extractall('/content/imagedb_btsd')\n",
        "zip_ref.close()"
      ],
      "metadata": {
        "id": "UES-_QQCSXQM"
      },
      "execution_count": 2,
      "outputs": []
    },
    {
      "cell_type": "code",
      "source": [
        "# Select the folder \"imagedb\" as the training folder\n",
        "# and the folder \"imagedb_test\" as the testing folder :\n",
        "\n",
        "base_dir = '/content/imagedb_btsd'\n",
        "\n",
        "train_dir = os.path.join(base_dir, 'imagedb')\n",
        "test_dir = os.path.join(base_dir, 'imagedb_test')"
      ],
      "metadata": {
        "id": "23UpZ_4lTZGN"
      },
      "execution_count": 3,
      "outputs": []
    },
    {
      "cell_type": "code",
      "source": [
        "import tensorflow as tf\n",
        "\n",
        "from tensorflow.keras import datasets, layers, models\n",
        "from keras import optimizers\n",
        "\n",
        "\n",
        "model = models.Sequential()\n",
        "model.add(layers.Conv2D(32, (3, 3), activation='relu', input_shape=(256, 256, 3)))\n",
        "model.add(layers.MaxPooling2D((2, 2)))\n",
        "# model.add(layers.Dropout(0.5))\n",
        "model.add(layers.Conv2D(64, (3, 3), activation='relu'))\n",
        "model.add(layers.MaxPooling2D((2, 2)))\n",
        "# model.add(layers.Dropout(0.5))\n",
        "\n",
        "model.add(layers.Conv2D(64, (3, 3), activation='relu'))\n",
        "model.add(layers.MaxPooling2D((2, 2)))\n",
        "\n",
        "model.add(layers.Conv2D(128, (3, 3), activation='relu'))\n",
        "model.add(layers.MaxPooling2D((2, 2)))\n",
        "\n",
        "model.add(layers.Flatten())\n",
        "model.add(layers.Dense(1024, activation='relu'))\n",
        "model.add(layers.Dropout(0.5))\n",
        "model.add(layers.Dense(34, activation='softmax'))\n",
        "\n",
        "model.compile(optimizer=optimizers.adam_v2.Adam(learning_rate=1e-4),\n",
        "              loss = 'categorical_crossentropy',\n",
        "              metrics=['accuracy'])\n",
        "\n",
        "\n",
        "model.summary()"
      ],
      "metadata": {
        "colab": {
          "base_uri": "https://localhost:8080/"
        },
        "id": "VAg9eIeSShP9",
        "outputId": "b625953e-657e-46dd-e27e-70cd0070292e"
      },
      "execution_count": 4,
      "outputs": [
        {
          "output_type": "stream",
          "name": "stdout",
          "text": [
            "Model: \"sequential\"\n",
            "_________________________________________________________________\n",
            " Layer (type)                Output Shape              Param #   \n",
            "=================================================================\n",
            " conv2d (Conv2D)             (None, 254, 254, 32)      896       \n",
            "                                                                 \n",
            " max_pooling2d (MaxPooling2D  (None, 127, 127, 32)     0         \n",
            " )                                                               \n",
            "                                                                 \n",
            " conv2d_1 (Conv2D)           (None, 125, 125, 64)      18496     \n",
            "                                                                 \n",
            " max_pooling2d_1 (MaxPooling  (None, 62, 62, 64)       0         \n",
            " 2D)                                                             \n",
            "                                                                 \n",
            " conv2d_2 (Conv2D)           (None, 60, 60, 64)        36928     \n",
            "                                                                 \n",
            " max_pooling2d_2 (MaxPooling  (None, 30, 30, 64)       0         \n",
            " 2D)                                                             \n",
            "                                                                 \n",
            " conv2d_3 (Conv2D)           (None, 28, 28, 128)       73856     \n",
            "                                                                 \n",
            " max_pooling2d_3 (MaxPooling  (None, 14, 14, 128)      0         \n",
            " 2D)                                                             \n",
            "                                                                 \n",
            " flatten (Flatten)           (None, 25088)             0         \n",
            "                                                                 \n",
            " dense (Dense)               (None, 1024)              25691136  \n",
            "                                                                 \n",
            " dropout (Dropout)           (None, 1024)              0         \n",
            "                                                                 \n",
            " dense_1 (Dense)             (None, 34)                34850     \n",
            "                                                                 \n",
            "=================================================================\n",
            "Total params: 25,856,162\n",
            "Trainable params: 25,856,162\n",
            "Non-trainable params: 0\n",
            "_________________________________________________________________\n"
          ]
        }
      ]
    },
    {
      "cell_type": "code",
      "source": [
        "# check this :\n",
        "\n",
        "# Check the trainable status of the individual layers\n",
        "for layer in model.layers:\n",
        "    print(layer, layer.trainable)"
      ],
      "metadata": {
        "colab": {
          "base_uri": "https://localhost:8080/"
        },
        "id": "fWGtpHkotMbZ",
        "outputId": "e13b132e-d170-463c-bab8-e3ae719695e1"
      },
      "execution_count": 5,
      "outputs": [
        {
          "output_type": "stream",
          "name": "stdout",
          "text": [
            "<keras.layers.convolutional.Conv2D object at 0x7fbf01305590> True\n",
            "<keras.layers.pooling.MaxPooling2D object at 0x7fbe8c4a0e90> True\n",
            "<keras.layers.convolutional.Conv2D object at 0x7fbe806b6990> True\n",
            "<keras.layers.pooling.MaxPooling2D object at 0x7fbe8c434890> True\n",
            "<keras.layers.convolutional.Conv2D object at 0x7fbe8063e110> True\n",
            "<keras.layers.pooling.MaxPooling2D object at 0x7fbe80613610> True\n",
            "<keras.layers.convolutional.Conv2D object at 0x7fbe80618190> True\n",
            "<keras.layers.pooling.MaxPooling2D object at 0x7fbe8060ce50> True\n",
            "<keras.layers.core.flatten.Flatten object at 0x7fbe80620ad0> True\n",
            "<keras.layers.core.dense.Dense object at 0x7fbe80653ed0> True\n",
            "<keras.layers.core.dropout.Dropout object at 0x7fbe80624ad0> True\n",
            "<keras.layers.core.dense.Dense object at 0x7fbe806186d0> True\n"
          ]
        }
      ]
    },
    {
      "cell_type": "code",
      "source": [
        "from tensorflow.keras.preprocessing.image import ImageDataGenerator\n",
        "\n",
        "train_datagen = ImageDataGenerator(rotation_range = 90,\n",
        "                                  horizontal_flip=True,\n",
        "                                  vertical_flip = True,\n",
        "                                   brightness_range=[0.2,1.0],\n",
        "                                   zoom_range=[0.5,1.0],                                   \n",
        "                                   validation_split=0.2)\n",
        "                                  #  preprocessing_function = preprocess_func)\n",
        "                                  \n",
        "#train_datagen  = ImageDataGenerator(rescale=1./255, validation_split=0.2)\n",
        "\n",
        "# --------------------\n",
        "# Flow training images in batches using train_datagen generator\n",
        "# --------------------\n",
        "train_generator = train_datagen.flow_from_directory(train_dir,\n",
        "                                                    batch_size=40,\n",
        "                                                    class_mode='categorical',\n",
        "                                                    # color_mode='grayscale',\n",
        "                                                    target_size=(256,256),\n",
        "                                                    shuffle=True,\n",
        "                                                    subset='training', seed=1)     \n",
        "# --------------------\n",
        "# Flow validation images in batches using test_datagen generator\n",
        "# --------------------\n",
        "validation_generator =  train_datagen.flow_from_directory(train_dir,\n",
        "                                                          batch_size=40,\n",
        "                                                          class_mode='categorical',\n",
        "                                                          # color_mode='grayscale',\n",
        "                                                          target_size=(256,256),\n",
        "                                                          subset='validation', seed=1)\n"
      ],
      "metadata": {
        "colab": {
          "base_uri": "https://localhost:8080/"
        },
        "id": "UWDZ2ZpnShK9",
        "outputId": "39391138-c2b3-4eec-b743-e404972e05eb"
      },
      "execution_count": 6,
      "outputs": [
        {
          "output_type": "stream",
          "name": "stdout",
          "text": [
            "Found 2457 images belonging to 34 classes.\n",
            "Found 599 images belonging to 34 classes.\n"
          ]
        }
      ]
    },
    {
      "cell_type": "code",
      "source": [
        "# Apply callbacks :\n",
        "\n",
        "import datetime \n",
        "import tensorflow as tf\n",
        "  \n",
        "my_callbacks = []\n",
        "\n",
        "# logdir = os.path.join(\"/content/logs\", datetime.datetime.now().strftime(\"%Y%m%d-%H%M%S\"))\n",
        "# tensorboard_callback = tf.keras.callbacks.TensorBoard(logdir, histogram_freq=1)\n",
        "# my_callbacks.append(tensorboard_callback)\n",
        "\n",
        "save_best_callback = tf.keras.callbacks.ModelCheckpoint(f'model_from_scratch_best.hdf5', save_best_only=True, verbose=1)\n",
        "my_callbacks.append(save_best_callback)\n",
        "\n",
        "early_stop_callback = tf.keras.callbacks.EarlyStopping(patience=10, restore_best_weights=True, verbose=1)\n",
        "my_callbacks.append(early_stop_callback)"
      ],
      "metadata": {
        "id": "ueQ8b0eukBoi"
      },
      "execution_count": 7,
      "outputs": []
    },
    {
      "cell_type": "code",
      "source": [
        "history = model.fit_generator(train_generator,\n",
        "                              validation_data=validation_generator,\n",
        "                              # steps_per_epoch=50,\n",
        "                              steps_per_epoch=train_generator.samples/train_generator.batch_size,\n",
        "                              epochs=30,\n",
        "                              validation_steps=15,\n",
        "                              verbose=1,\n",
        "                              callbacks=my_callbacks)"
      ],
      "metadata": {
        "colab": {
          "base_uri": "https://localhost:8080/"
        },
        "id": "P5iuGSf2TzI_",
        "outputId": "f381516d-8694-4cad-e89c-5ca1aa19781a"
      },
      "execution_count": 8,
      "outputs": [
        {
          "metadata": {
            "tags": null
          },
          "name": "stderr",
          "output_type": "stream",
          "text": [
            "/usr/local/lib/python3.7/dist-packages/ipykernel_launcher.py:8: UserWarning: `Model.fit_generator` is deprecated and will be removed in a future version. Please use `Model.fit`, which supports generators.\n",
            "  \n"
          ]
        },
        {
          "output_type": "stream",
          "name": "stdout",
          "text": [
            "Epoch 1/30\n",
            "62/61 [==============================] - ETA: 0s - loss: 5.3845 - accuracy: 0.2442\n",
            "Epoch 00001: val_loss improved from inf to 2.02399, saving model to model_from_scratch_best.hdf5\n",
            "61/61 [==============================] - 66s 956ms/step - loss: 5.3845 - accuracy: 0.2442 - val_loss: 2.0240 - val_accuracy: 0.4808\n",
            "Epoch 2/30\n",
            "62/61 [==============================] - ETA: 0s - loss: 2.0862 - accuracy: 0.4489\n",
            "Epoch 00002: val_loss improved from 2.02399 to 1.49851, saving model to model_from_scratch_best.hdf5\n",
            "61/61 [==============================] - 54s 882ms/step - loss: 2.0862 - accuracy: 0.4489 - val_loss: 1.4985 - val_accuracy: 0.6594\n",
            "Epoch 3/30\n",
            "62/61 [==============================] - ETA: 0s - loss: 1.6774 - accuracy: 0.5478\n",
            "Epoch 00003: val_loss improved from 1.49851 to 1.24463, saving model to model_from_scratch_best.hdf5\n",
            "61/61 [==============================] - 53s 855ms/step - loss: 1.6774 - accuracy: 0.5478 - val_loss: 1.2446 - val_accuracy: 0.6845\n",
            "Epoch 4/30\n",
            "62/61 [==============================] - ETA: 0s - loss: 1.4211 - accuracy: 0.6113\n",
            "Epoch 00004: val_loss improved from 1.24463 to 1.07615, saving model to model_from_scratch_best.hdf5\n",
            "61/61 [==============================] - 53s 868ms/step - loss: 1.4211 - accuracy: 0.6113 - val_loss: 1.0762 - val_accuracy: 0.7496\n",
            "Epoch 5/30\n",
            "62/61 [==============================] - ETA: 0s - loss: 1.2419 - accuracy: 0.6577\n",
            "Epoch 00005: val_loss improved from 1.07615 to 0.88966, saving model to model_from_scratch_best.hdf5\n",
            "61/61 [==============================] - 53s 860ms/step - loss: 1.2419 - accuracy: 0.6577 - val_loss: 0.8897 - val_accuracy: 0.7462\n",
            "Epoch 6/30\n",
            "62/61 [==============================] - ETA: 0s - loss: 1.0992 - accuracy: 0.6968\n",
            "Epoch 00006: val_loss improved from 0.88966 to 0.81429, saving model to model_from_scratch_best.hdf5\n",
            "61/61 [==============================] - 53s 860ms/step - loss: 1.0992 - accuracy: 0.6968 - val_loss: 0.8143 - val_accuracy: 0.7980\n",
            "Epoch 7/30\n",
            "62/61 [==============================] - ETA: 0s - loss: 0.9897 - accuracy: 0.7363\n",
            "Epoch 00007: val_loss improved from 0.81429 to 0.79470, saving model to model_from_scratch_best.hdf5\n",
            "61/61 [==============================] - 53s 865ms/step - loss: 0.9897 - accuracy: 0.7363 - val_loss: 0.7947 - val_accuracy: 0.8130\n",
            "Epoch 8/30\n",
            "62/61 [==============================] - ETA: 0s - loss: 0.8543 - accuracy: 0.7619\n",
            "Epoch 00008: val_loss improved from 0.79470 to 0.73053, saving model to model_from_scratch_best.hdf5\n",
            "61/61 [==============================] - 52s 853ms/step - loss: 0.8543 - accuracy: 0.7619 - val_loss: 0.7305 - val_accuracy: 0.8197\n",
            "Epoch 9/30\n",
            "62/61 [==============================] - ETA: 0s - loss: 0.7960 - accuracy: 0.7790\n",
            "Epoch 00009: val_loss improved from 0.73053 to 0.64703, saving model to model_from_scratch_best.hdf5\n",
            "61/61 [==============================] - 52s 849ms/step - loss: 0.7960 - accuracy: 0.7790 - val_loss: 0.6470 - val_accuracy: 0.8347\n",
            "Epoch 10/30\n",
            "62/61 [==============================] - ETA: 0s - loss: 0.7602 - accuracy: 0.7920\n",
            "Epoch 00010: val_loss did not improve from 0.64703\n",
            "61/61 [==============================] - 51s 836ms/step - loss: 0.7602 - accuracy: 0.7920 - val_loss: 0.6878 - val_accuracy: 0.8130\n",
            "Epoch 11/30\n",
            "62/61 [==============================] - ETA: 0s - loss: 0.7258 - accuracy: 0.8050\n",
            "Epoch 00011: val_loss did not improve from 0.64703\n",
            "61/61 [==============================] - 52s 841ms/step - loss: 0.7258 - accuracy: 0.8050 - val_loss: 0.7073 - val_accuracy: 0.8013\n",
            "Epoch 12/30\n",
            "62/61 [==============================] - ETA: 0s - loss: 0.6815 - accuracy: 0.8197\n",
            "Epoch 00012: val_loss improved from 0.64703 to 0.45835, saving model to model_from_scratch_best.hdf5\n",
            "61/61 [==============================] - 52s 855ms/step - loss: 0.6815 - accuracy: 0.8197 - val_loss: 0.4584 - val_accuracy: 0.8798\n",
            "Epoch 13/30\n",
            "62/61 [==============================] - ETA: 0s - loss: 0.6379 - accuracy: 0.8164\n",
            "Epoch 00013: val_loss did not improve from 0.45835\n",
            "61/61 [==============================] - 52s 842ms/step - loss: 0.6379 - accuracy: 0.8164 - val_loss: 0.5748 - val_accuracy: 0.8514\n",
            "Epoch 14/30\n",
            "62/61 [==============================] - ETA: 0s - loss: 0.5785 - accuracy: 0.8498\n",
            "Epoch 00014: val_loss did not improve from 0.45835\n",
            "61/61 [==============================] - 51s 839ms/step - loss: 0.5785 - accuracy: 0.8498 - val_loss: 0.5815 - val_accuracy: 0.8447\n",
            "Epoch 15/30\n",
            "62/61 [==============================] - ETA: 0s - loss: 0.5383 - accuracy: 0.8527\n",
            "Epoch 00015: val_loss did not improve from 0.45835\n",
            "61/61 [==============================] - 51s 832ms/step - loss: 0.5383 - accuracy: 0.8527 - val_loss: 0.4971 - val_accuracy: 0.8514\n",
            "Epoch 16/30\n",
            "62/61 [==============================] - ETA: 0s - loss: 0.5390 - accuracy: 0.8437\n",
            "Epoch 00016: val_loss improved from 0.45835 to 0.44070, saving model to model_from_scratch_best.hdf5\n",
            "61/61 [==============================] - 52s 844ms/step - loss: 0.5390 - accuracy: 0.8437 - val_loss: 0.4407 - val_accuracy: 0.8581\n",
            "Epoch 17/30\n",
            "62/61 [==============================] - ETA: 0s - loss: 0.5102 - accuracy: 0.8559\n",
            "Epoch 00017: val_loss improved from 0.44070 to 0.42798, saving model to model_from_scratch_best.hdf5\n",
            "61/61 [==============================] - 53s 859ms/step - loss: 0.5102 - accuracy: 0.8559 - val_loss: 0.4280 - val_accuracy: 0.8664\n",
            "Epoch 18/30\n",
            "62/61 [==============================] - ETA: 0s - loss: 0.5172 - accuracy: 0.8571\n",
            "Epoch 00018: val_loss did not improve from 0.42798\n",
            "61/61 [==============================] - 52s 847ms/step - loss: 0.5172 - accuracy: 0.8571 - val_loss: 0.4818 - val_accuracy: 0.8731\n",
            "Epoch 19/30\n",
            "62/61 [==============================] - ETA: 0s - loss: 0.4204 - accuracy: 0.8759\n",
            "Epoch 00019: val_loss did not improve from 0.42798\n",
            "61/61 [==============================] - 53s 860ms/step - loss: 0.4204 - accuracy: 0.8759 - val_loss: 0.4977 - val_accuracy: 0.8514\n",
            "Epoch 20/30\n",
            "62/61 [==============================] - ETA: 0s - loss: 0.4294 - accuracy: 0.8783\n",
            "Epoch 00020: val_loss did not improve from 0.42798\n",
            "61/61 [==============================] - 53s 859ms/step - loss: 0.4294 - accuracy: 0.8783 - val_loss: 0.4605 - val_accuracy: 0.8865\n",
            "Epoch 21/30\n",
            "62/61 [==============================] - ETA: 0s - loss: 0.4273 - accuracy: 0.8869\n",
            "Epoch 00021: val_loss improved from 0.42798 to 0.39480, saving model to model_from_scratch_best.hdf5\n",
            "61/61 [==============================] - 54s 875ms/step - loss: 0.4273 - accuracy: 0.8869 - val_loss: 0.3948 - val_accuracy: 0.8881\n",
            "Epoch 22/30\n",
            "62/61 [==============================] - ETA: 0s - loss: 0.3789 - accuracy: 0.8934\n",
            "Epoch 00022: val_loss did not improve from 0.39480\n",
            "61/61 [==============================] - 53s 857ms/step - loss: 0.3789 - accuracy: 0.8934 - val_loss: 0.4316 - val_accuracy: 0.8848\n",
            "Epoch 23/30\n",
            "62/61 [==============================] - ETA: 0s - loss: 0.4081 - accuracy: 0.8885\n",
            "Epoch 00023: val_loss did not improve from 0.39480\n",
            "61/61 [==============================] - 53s 862ms/step - loss: 0.4081 - accuracy: 0.8885 - val_loss: 0.4691 - val_accuracy: 0.8614\n",
            "Epoch 24/30\n",
            "62/61 [==============================] - ETA: 0s - loss: 0.3932 - accuracy: 0.8974\n",
            "Epoch 00024: val_loss did not improve from 0.39480\n",
            "61/61 [==============================] - 52s 851ms/step - loss: 0.3932 - accuracy: 0.8974 - val_loss: 0.4202 - val_accuracy: 0.8765\n",
            "Epoch 25/30\n",
            "62/61 [==============================] - ETA: 0s - loss: 0.3425 - accuracy: 0.9101\n",
            "Epoch 00025: val_loss improved from 0.39480 to 0.36879, saving model to model_from_scratch_best.hdf5\n",
            "61/61 [==============================] - 54s 876ms/step - loss: 0.3425 - accuracy: 0.9101 - val_loss: 0.3688 - val_accuracy: 0.9098\n",
            "Epoch 26/30\n",
            "62/61 [==============================] - ETA: 0s - loss: 0.3504 - accuracy: 0.8999\n",
            "Epoch 00026: val_loss did not improve from 0.36879\n",
            "61/61 [==============================] - 54s 880ms/step - loss: 0.3504 - accuracy: 0.8999 - val_loss: 0.3834 - val_accuracy: 0.9015\n",
            "Epoch 27/30\n",
            "62/61 [==============================] - ETA: 0s - loss: 0.3464 - accuracy: 0.9003\n",
            "Epoch 00027: val_loss did not improve from 0.36879\n",
            "61/61 [==============================] - 54s 875ms/step - loss: 0.3464 - accuracy: 0.9003 - val_loss: 0.4380 - val_accuracy: 0.8881\n",
            "Epoch 28/30\n",
            "62/61 [==============================] - ETA: 0s - loss: 0.3249 - accuracy: 0.9109\n",
            "Epoch 00028: val_loss did not improve from 0.36879\n",
            "61/61 [==============================] - 54s 877ms/step - loss: 0.3249 - accuracy: 0.9109 - val_loss: 0.5012 - val_accuracy: 0.8798\n",
            "Epoch 29/30\n",
            "62/61 [==============================] - ETA: 0s - loss: 0.3219 - accuracy: 0.9129\n",
            "Epoch 00029: val_loss did not improve from 0.36879\n",
            "61/61 [==============================] - 54s 879ms/step - loss: 0.3219 - accuracy: 0.9129 - val_loss: 0.3745 - val_accuracy: 0.8881\n",
            "Epoch 30/30\n",
            "62/61 [==============================] - ETA: 0s - loss: 0.3102 - accuracy: 0.9080\n",
            "Epoch 00030: val_loss improved from 0.36879 to 0.34640, saving model to model_from_scratch_best.hdf5\n",
            "61/61 [==============================] - 55s 889ms/step - loss: 0.3102 - accuracy: 0.9080 - val_loss: 0.3464 - val_accuracy: 0.9032\n"
          ]
        }
      ]
    },
    {
      "cell_type": "code",
      "source": [
        "# test_datagen  = ImageDataGenerator(rescale=1./255)\n",
        "test_datagen  = ImageDataGenerator()\n",
        "# --------------------\n",
        "# Flow testing images in batches using test_datagen generator\n",
        "# --------------------\n",
        "test_generator =  test_datagen.flow_from_directory(test_dir,\n",
        "                                                   batch_size=10,\n",
        "                                                   class_mode='categorical',\n",
        "                                                  #  color_mode='grayscale',\n",
        "                                                   target_size=(256,256))\n",
        "# # Testing the CNN on testing data : \n",
        "# loss, acc = model.evaluate(test_generator)"
      ],
      "metadata": {
        "colab": {
          "base_uri": "https://localhost:8080/"
        },
        "id": "BZANTHekSznu",
        "outputId": "5f8905a0-3394-46f6-a082-b31f0f4962eb"
      },
      "execution_count": 9,
      "outputs": [
        {
          "output_type": "stream",
          "name": "stdout",
          "text": [
            "Found 2149 images belonging to 34 classes.\n"
          ]
        }
      ]
    },
    {
      "cell_type": "code",
      "source": [
        "import matplotlib.pyplot as plt\n",
        "\n",
        "plt.plot(history.history['accuracy'], label='accuracy')\n",
        "plt.plot(history.history['val_accuracy'], label = 'val_accuracy')\n",
        "plt.xlabel('Epoch')\n",
        "plt.ylabel('Accuracy')\n",
        "plt.ylim([0, 1])\n",
        "plt.legend(loc='lower right')\n",
        "\n",
        "# Testing the CNN on testing data : \n",
        "loss, acc = model.evaluate(test_generator)"
      ],
      "metadata": {
        "colab": {
          "base_uri": "https://localhost:8080/",
          "height": 301
        },
        "id": "Q3PTISh9XtGh",
        "outputId": "13aa7620-1903-41db-8bfc-185743fa0fa2"
      },
      "execution_count": 10,
      "outputs": [
        {
          "output_type": "stream",
          "name": "stdout",
          "text": [
            "215/215 [==============================] - 5s 21ms/step - loss: 1.5264 - accuracy: 0.7338\n"
          ]
        },
        {
          "output_type": "display_data",
          "data": {
            "image/png": "[encoded data removed]",
            "text/plain": [
              "<Figure size 432x288 with 1 Axes>"
            ]
          },
          "metadata": {
            "needs_background": "light"
          }
        }
      ]
    }
  ]
}