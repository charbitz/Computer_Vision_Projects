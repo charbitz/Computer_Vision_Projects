{
  "nbformat": 4,
  "nbformat_minor": 0,
  "metadata": {
    "colab": {
      "name": "CV_Project_4_NOT_pretrained.ipynb",
      "provenance": [],
      "collapsed_sections": [],
      "authorship_tag": "ABX9TyMxG7HylVoE4hUkZe4/AKoT"
    },
    "kernelspec": {
      "name": "python3",
      "display_name": "Python 3"
    },
    "language_info": {
      "name": "python"
    },
    "accelerator": "GPU"
  },
  "cells": [
    {
      "cell_type": "code",
      "execution_count": 1,
      "metadata": {
        "colab": {
          "base_uri": "https://localhost:8080/"
        },
        "id": "1efK3dBnSNsW",
        "outputId": "f2c306b0-03c3-47cc-cfc1-21809748ac01"
      },
      "outputs": [
        {
          "output_type": "stream",
          "name": "stdout",
          "text": [
            "Drive already mounted at /content/drive; to attempt to forcibly remount, call drive.mount(\"/content/drive\", force_remount=True).\n"
          ]
        }
      ],
      "source": [
        "# Mount google drive :\n",
        "\n",
        "from google.colab import drive\n",
        "drive.mount('/content/drive')"
      ]
    },
    {
      "cell_type": "code",
      "source": [
        "# Unzip the dataset and save it to the path \"/content/imagedb_btsd\" :\n",
        "import os\n",
        "import zipfile\n",
        "\n",
        "local_zip = '/content/drive/MyDrive/cv_proj_4_dataset/imagedb_btsd.zip'\n",
        "\n",
        "zip_ref = zipfile.ZipFile(local_zip, 'r')\n",
        "zip_ref.extractall('/content/imagedb_btsd')\n",
        "zip_ref.close()"
      ],
      "metadata": {
        "id": "UES-_QQCSXQM"
      },
      "execution_count": 2,
      "outputs": []
    },
    {
      "cell_type": "code",
      "source": [
        "# Select the folder \"imagedb\" as the training folder\n",
        "# and the folder \"imagedb_test\" as the testing folder :\n",
        "\n",
        "base_dir = '/content/imagedb_btsd'\n",
        "\n",
        "train_dir = os.path.join(base_dir, 'imagedb')\n",
        "test_dir = os.path.join(base_dir, 'imagedb_test')"
      ],
      "metadata": {
        "id": "23UpZ_4lTZGN"
      },
      "execution_count": 3,
      "outputs": []
    },
    {
      "cell_type": "code",
      "source": [
        "import tensorflow as tf\n",
        "\n",
        "from tensorflow.keras import datasets, layers, models\n",
        "from keras import optimizers\n",
        "\n",
        "\n",
        "# model = tf.keras.models.Sequential([\n",
        "#   tf.keras.layers.Flatten(input_shape=(28, 28)),\n",
        "#   tf.keras.layers.Dense(128, activation=tf.nn.relu),\n",
        "#   tf.keras.layers.Dense(3, activation=tf.nn.softmax)\n",
        "# ])\n",
        "\n",
        "model = models.Sequential()\n",
        "model.add(layers.Conv2D(32, (3, 3), activation='relu', input_shape=(256, 256, 3)))\n",
        "model.add(layers.MaxPooling2D((2, 2)))\n",
        "# model.add(layers.Dropout(0.5))\n",
        "model.add(layers.Conv2D(64, (3, 3), activation='relu'))\n",
        "model.add(layers.MaxPooling2D((2, 2)))\n",
        "# model.add(layers.Dropout(0.5))\n",
        "\n",
        "model.add(layers.Conv2D(64, (3, 3), activation='relu'))\n",
        "model.add(layers.MaxPooling2D((2, 2)))\n",
        "\n",
        "model.add(layers.Conv2D(128, (3, 3), activation='relu'))\n",
        "model.add(layers.MaxPooling2D((2, 2)))\n",
        "# model.add(layers.Dropout(0.5))\n",
        "# model.add(layers.Conv2D(256, (3, 3), activation='relu'))\n",
        "# model.add(layers.MaxPooling2D((2, 2)))\n",
        "# model.add(layers.Dropout(0.5))\n",
        "# model.add(layers.Conv2D(512, (3, 3), activation='relu'))\n",
        "# model.add(layers.MaxPooling2D((2, 2)))\n",
        "# model.add(layers.Dropout(0.5))\n",
        "\n",
        "model.add(layers.Flatten())\n",
        "model.add(layers.Dense(1024, activation='relu'))\n",
        "model.add(layers.Dropout(0.5))\n",
        "model.add(layers.Dense(34, activation='softmax'))\n",
        "\n",
        "model.compile(optimizer=optimizers.adam_v2.Adam(learning_rate=1e-4),\n",
        "              loss = 'categorical_crossentropy',\n",
        "              metrics=['accuracy'])\n",
        "\n",
        "\n",
        "model.summary()"
      ],
      "metadata": {
        "colab": {
          "base_uri": "https://localhost:8080/"
        },
        "id": "VAg9eIeSShP9",
        "outputId": "3664a8fd-443b-4437-e522-22a06bc22413"
      },
      "execution_count": 4,
      "outputs": [
        {
          "output_type": "stream",
          "name": "stdout",
          "text": [
            "Model: \"sequential\"\n",
            "_________________________________________________________________\n",
            " Layer (type)                Output Shape              Param #   \n",
            "=================================================================\n",
            " conv2d (Conv2D)             (None, 254, 254, 32)      896       \n",
            "                                                                 \n",
            " max_pooling2d (MaxPooling2D  (None, 127, 127, 32)     0         \n",
            " )                                                               \n",
            "                                                                 \n",
            " conv2d_1 (Conv2D)           (None, 125, 125, 64)      18496     \n",
            "                                                                 \n",
            " max_pooling2d_1 (MaxPooling  (None, 62, 62, 64)       0         \n",
            " 2D)                                                             \n",
            "                                                                 \n",
            " conv2d_2 (Conv2D)           (None, 60, 60, 64)        36928     \n",
            "                                                                 \n",
            " max_pooling2d_2 (MaxPooling  (None, 30, 30, 64)       0         \n",
            " 2D)                                                             \n",
            "                                                                 \n",
            " conv2d_3 (Conv2D)           (None, 28, 28, 128)       73856     \n",
            "                                                                 \n",
            " max_pooling2d_3 (MaxPooling  (None, 14, 14, 128)      0         \n",
            " 2D)                                                             \n",
            "                                                                 \n",
            " flatten (Flatten)           (None, 25088)             0         \n",
            "                                                                 \n",
            " dense (Dense)               (None, 1024)              25691136  \n",
            "                                                                 \n",
            " dropout (Dropout)           (None, 1024)              0         \n",
            "                                                                 \n",
            " dense_1 (Dense)             (None, 34)                34850     \n",
            "                                                                 \n",
            "=================================================================\n",
            "Total params: 25,856,162\n",
            "Trainable params: 25,856,162\n",
            "Non-trainable params: 0\n",
            "_________________________________________________________________\n"
          ]
        }
      ]
    },
    {
      "cell_type": "code",
      "source": [
        "# check this :\n",
        "\n",
        "# Check the trainable status of the individual layers\n",
        "for layer in model.layers:\n",
        "    print(layer, layer.trainable)"
      ],
      "metadata": {
        "colab": {
          "base_uri": "https://localhost:8080/"
        },
        "id": "fWGtpHkotMbZ",
        "outputId": "d128dd3d-3779-49d4-a564-07fc24f05729"
      },
      "execution_count": 5,
      "outputs": [
        {
          "output_type": "stream",
          "name": "stdout",
          "text": [
            "<keras.layers.convolutional.Conv2D object at 0x7f779ba15bd0> True\n",
            "<keras.layers.pooling.MaxPooling2D object at 0x7f7726b47fd0> True\n",
            "<keras.layers.convolutional.Conv2D object at 0x7f77263058d0> True\n",
            "<keras.layers.pooling.MaxPooling2D object at 0x7f77201299d0> True\n",
            "<keras.layers.convolutional.Conv2D object at 0x7f7726305d50> True\n",
            "<keras.layers.pooling.MaxPooling2D object at 0x7f77200c8c10> True\n",
            "<keras.layers.convolutional.Conv2D object at 0x7f77200d66d0> True\n",
            "<keras.layers.pooling.MaxPooling2D object at 0x7f77200d6f50> True\n",
            "<keras.layers.core.flatten.Flatten object at 0x7f77200d6d50> True\n",
            "<keras.layers.core.dense.Dense object at 0x7f77200cc710> True\n",
            "<keras.layers.core.dropout.Dropout object at 0x7f77200e98d0> True\n",
            "<keras.layers.core.dense.Dense object at 0x7f77200e91d0> True\n"
          ]
        }
      ]
    },
    {
      "cell_type": "code",
      "source": [
        "from tensorflow.keras.preprocessing.image import ImageDataGenerator\n",
        "\n",
        "train_datagen = ImageDataGenerator(rotation_range = 180,\n",
        "                                  # horizontal_flip=True,\n",
        "                                  # vertical_flip = True,\n",
        "                                   brightness_range=[0.2,1.0],\n",
        "                                   zoom_range=[0.5,1.0],                                   \n",
        "                                   validation_split=0.2)\n",
        "                                  #  preprocessing_function = preprocess_func)\n",
        "                                  \n",
        "#train_datagen  = ImageDataGenerator(rescale=1./255, validation_split=0.2)\n",
        "\n",
        "# --------------------\n",
        "# Flow training images in batches using train_datagen generator\n",
        "# --------------------\n",
        "train_generator = train_datagen.flow_from_directory(train_dir,\n",
        "                                                    batch_size=40,\n",
        "                                                    class_mode='categorical',\n",
        "                                                    # color_mode='grayscale',\n",
        "                                                    target_size=(256,256),\n",
        "                                                    shuffle=True,\n",
        "                                                    subset='training', seed=1)     \n",
        "# --------------------\n",
        "# Flow validation images in batches using test_datagen generator\n",
        "# --------------------\n",
        "validation_generator =  train_datagen.flow_from_directory(train_dir,\n",
        "                                                          batch_size=40,\n",
        "                                                          class_mode='categorical',\n",
        "                                                          # color_mode='grayscale',\n",
        "                                                          target_size=(256,256),\n",
        "                                                          subset='validation', seed=1)\n"
      ],
      "metadata": {
        "colab": {
          "base_uri": "https://localhost:8080/"
        },
        "id": "UWDZ2ZpnShK9",
        "outputId": "8a1738ec-06bc-4202-df3a-46c9178a040a"
      },
      "execution_count": 6,
      "outputs": [
        {
          "output_type": "stream",
          "name": "stdout",
          "text": [
            "Found 2457 images belonging to 34 classes.\n",
            "Found 599 images belonging to 34 classes.\n"
          ]
        }
      ]
    },
    {
      "cell_type": "code",
      "source": [
        "# Apply callbacks :\n",
        "\n",
        "import datetime \n",
        "import tensorflow as tf\n",
        "  \n",
        "my_callbacks = []\n",
        "\n",
        "# logdir = os.path.join(\"/content/logs\", datetime.datetime.now().strftime(\"%Y%m%d-%H%M%S\"))\n",
        "# tensorboard_callback = tf.keras.callbacks.TensorBoard(logdir, histogram_freq=1)\n",
        "# my_callbacks.append(tensorboard_callback)\n",
        "\n",
        "save_best_callback = tf.keras.callbacks.ModelCheckpoint(f'model_from_scratch_best.hdf5', save_best_only=True, verbose=1)\n",
        "my_callbacks.append(save_best_callback)\n",
        "\n",
        "early_stop_callback = tf.keras.callbacks.EarlyStopping(patience=10, restore_best_weights=True, verbose=1)\n",
        "my_callbacks.append(early_stop_callback)"
      ],
      "metadata": {
        "id": "ueQ8b0eukBoi"
      },
      "execution_count": 7,
      "outputs": []
    },
    {
      "cell_type": "code",
      "source": [
        "history = model.fit_generator(train_generator,\n",
        "                              validation_data=validation_generator,\n",
        "                              # steps_per_epoch=50,\n",
        "                              steps_per_epoch=train_generator.samples/train_generator.batch_size,\n",
        "                              epochs=30,\n",
        "                              validation_steps=15,\n",
        "                              verbose=1,\n",
        "                              callbacks=my_callbacks)"
      ],
      "metadata": {
        "colab": {
          "base_uri": "https://localhost:8080/"
        },
        "id": "P5iuGSf2TzI_",
        "outputId": "be7a30ac-3988-4ce9-bf6d-fc199088dfab"
      },
      "execution_count": 8,
      "outputs": [
        {
          "output_type": "stream",
          "name": "stderr",
          "text": [
            "/usr/local/lib/python3.7/dist-packages/ipykernel_launcher.py:8: UserWarning: `Model.fit_generator` is deprecated and will be removed in a future version. Please use `Model.fit`, which supports generators.\n",
            "  \n"
          ]
        },
        {
          "output_type": "stream",
          "name": "stdout",
          "text": [
            "Epoch 1/30\n",
            "62/61 [==============================] - ETA: 0s - loss: 7.6876 - accuracy: 0.2263\n",
            "Epoch 00001: val_loss improved from inf to 2.09307, saving model to model_from_scratch_best.hdf5\n",
            "61/61 [==============================] - 66s 961ms/step - loss: 7.6876 - accuracy: 0.2263 - val_loss: 2.0931 - val_accuracy: 0.4307\n",
            "Epoch 2/30\n",
            "62/61 [==============================] - ETA: 0s - loss: 2.1710 - accuracy: 0.4420\n",
            "Epoch 00002: val_loss improved from 2.09307 to 1.53991, saving model to model_from_scratch_best.hdf5\n",
            "61/61 [==============================] - 55s 897ms/step - loss: 2.1710 - accuracy: 0.4420 - val_loss: 1.5399 - val_accuracy: 0.5843\n",
            "Epoch 3/30\n",
            "62/61 [==============================] - ETA: 0s - loss: 1.7803 - accuracy: 0.5254\n",
            "Epoch 00003: val_loss improved from 1.53991 to 1.24532, saving model to model_from_scratch_best.hdf5\n",
            "61/61 [==============================] - 53s 864ms/step - loss: 1.7803 - accuracy: 0.5254 - val_loss: 1.2453 - val_accuracy: 0.6661\n",
            "Epoch 4/30\n",
            "62/61 [==============================] - ETA: 0s - loss: 1.4967 - accuracy: 0.5971\n",
            "Epoch 00004: val_loss improved from 1.24532 to 1.05789, saving model to model_from_scratch_best.hdf5\n",
            "61/61 [==============================] - 53s 856ms/step - loss: 1.4967 - accuracy: 0.5971 - val_loss: 1.0579 - val_accuracy: 0.7195\n",
            "Epoch 5/30\n",
            "62/61 [==============================] - ETA: 0s - loss: 1.2942 - accuracy: 0.6492\n",
            "Epoch 00005: val_loss improved from 1.05789 to 0.96527, saving model to model_from_scratch_best.hdf5\n",
            "61/61 [==============================] - 54s 875ms/step - loss: 1.2942 - accuracy: 0.6492 - val_loss: 0.9653 - val_accuracy: 0.7362\n",
            "Epoch 6/30\n",
            "62/61 [==============================] - ETA: 0s - loss: 1.1437 - accuracy: 0.6866\n",
            "Epoch 00006: val_loss improved from 0.96527 to 0.86406, saving model to model_from_scratch_best.hdf5\n",
            "61/61 [==============================] - 52s 854ms/step - loss: 1.1437 - accuracy: 0.6866 - val_loss: 0.8641 - val_accuracy: 0.7629\n",
            "Epoch 7/30\n",
            "62/61 [==============================] - ETA: 0s - loss: 1.0022 - accuracy: 0.7302\n",
            "Epoch 00007: val_loss improved from 0.86406 to 0.84361, saving model to model_from_scratch_best.hdf5\n",
            "61/61 [==============================] - 53s 862ms/step - loss: 1.0022 - accuracy: 0.7302 - val_loss: 0.8436 - val_accuracy: 0.7846\n",
            "Epoch 8/30\n",
            "62/61 [==============================] - ETA: 0s - loss: 0.9118 - accuracy: 0.7566\n",
            "Epoch 00008: val_loss improved from 0.84361 to 0.67034, saving model to model_from_scratch_best.hdf5\n",
            "61/61 [==============================] - 53s 859ms/step - loss: 0.9118 - accuracy: 0.7566 - val_loss: 0.6703 - val_accuracy: 0.8364\n",
            "Epoch 9/30\n",
            "62/61 [==============================] - ETA: 0s - loss: 0.8207 - accuracy: 0.7859\n",
            "Epoch 00009: val_loss improved from 0.67034 to 0.65415, saving model to model_from_scratch_best.hdf5\n",
            "61/61 [==============================] - 53s 861ms/step - loss: 0.8207 - accuracy: 0.7859 - val_loss: 0.6542 - val_accuracy: 0.8197\n",
            "Epoch 10/30\n",
            "62/61 [==============================] - ETA: 0s - loss: 0.7513 - accuracy: 0.7957\n",
            "Epoch 00010: val_loss improved from 0.65415 to 0.60541, saving model to model_from_scratch_best.hdf5\n",
            "61/61 [==============================] - 54s 876ms/step - loss: 0.7513 - accuracy: 0.7957 - val_loss: 0.6054 - val_accuracy: 0.8414\n",
            "Epoch 11/30\n",
            "62/61 [==============================] - ETA: 0s - loss: 0.6503 - accuracy: 0.8254\n",
            "Epoch 00011: val_loss improved from 0.60541 to 0.55951, saving model to model_from_scratch_best.hdf5\n",
            "61/61 [==============================] - 53s 863ms/step - loss: 0.6503 - accuracy: 0.8254 - val_loss: 0.5595 - val_accuracy: 0.8614\n",
            "Epoch 12/30\n",
            "62/61 [==============================] - ETA: 0s - loss: 0.6656 - accuracy: 0.8205\n",
            "Epoch 00012: val_loss improved from 0.55951 to 0.54228, saving model to model_from_scratch_best.hdf5\n",
            "61/61 [==============================] - 53s 868ms/step - loss: 0.6656 - accuracy: 0.8205 - val_loss: 0.5423 - val_accuracy: 0.8514\n",
            "Epoch 13/30\n",
            "62/61 [==============================] - ETA: 0s - loss: 0.5974 - accuracy: 0.8327\n",
            "Epoch 00013: val_loss improved from 0.54228 to 0.51120, saving model to model_from_scratch_best.hdf5\n",
            "61/61 [==============================] - 54s 883ms/step - loss: 0.5974 - accuracy: 0.8327 - val_loss: 0.5112 - val_accuracy: 0.8548\n",
            "Epoch 14/30\n",
            "62/61 [==============================] - ETA: 0s - loss: 0.6235 - accuracy: 0.8356\n",
            "Epoch 00014: val_loss did not improve from 0.51120\n",
            "61/61 [==============================] - 53s 870ms/step - loss: 0.6235 - accuracy: 0.8356 - val_loss: 0.5550 - val_accuracy: 0.8431\n",
            "Epoch 15/30\n",
            "62/61 [==============================] - ETA: 0s - loss: 0.5790 - accuracy: 0.8384\n",
            "Epoch 00015: val_loss did not improve from 0.51120\n",
            "61/61 [==============================] - 53s 858ms/step - loss: 0.5790 - accuracy: 0.8384 - val_loss: 0.5597 - val_accuracy: 0.8531\n",
            "Epoch 16/30\n",
            "62/61 [==============================] - ETA: 0s - loss: 0.5223 - accuracy: 0.8624\n",
            "Epoch 00016: val_loss improved from 0.51120 to 0.44007, saving model to model_from_scratch_best.hdf5\n",
            "61/61 [==============================] - 53s 866ms/step - loss: 0.5223 - accuracy: 0.8624 - val_loss: 0.4401 - val_accuracy: 0.8798\n",
            "Epoch 17/30\n",
            "62/61 [==============================] - ETA: 0s - loss: 0.5118 - accuracy: 0.8531\n",
            "Epoch 00017: val_loss did not improve from 0.44007\n",
            "61/61 [==============================] - 53s 867ms/step - loss: 0.5118 - accuracy: 0.8531 - val_loss: 0.5362 - val_accuracy: 0.8497\n",
            "Epoch 18/30\n",
            "62/61 [==============================] - ETA: 0s - loss: 0.4703 - accuracy: 0.8718\n",
            "Epoch 00018: val_loss did not improve from 0.44007\n",
            "61/61 [==============================] - 53s 863ms/step - loss: 0.4703 - accuracy: 0.8718 - val_loss: 0.4905 - val_accuracy: 0.8765\n",
            "Epoch 19/30\n",
            "62/61 [==============================] - ETA: 0s - loss: 0.4490 - accuracy: 0.8820\n",
            "Epoch 00019: val_loss did not improve from 0.44007\n",
            "61/61 [==============================] - 52s 850ms/step - loss: 0.4490 - accuracy: 0.8820 - val_loss: 0.4435 - val_accuracy: 0.8831\n",
            "Epoch 20/30\n",
            "62/61 [==============================] - ETA: 0s - loss: 0.4196 - accuracy: 0.8852\n",
            "Epoch 00020: val_loss did not improve from 0.44007\n",
            "61/61 [==============================] - 52s 853ms/step - loss: 0.4196 - accuracy: 0.8852 - val_loss: 0.5147 - val_accuracy: 0.8514\n",
            "Epoch 21/30\n",
            "62/61 [==============================] - ETA: 0s - loss: 0.4298 - accuracy: 0.8856\n",
            "Epoch 00021: val_loss did not improve from 0.44007\n",
            "61/61 [==============================] - 53s 858ms/step - loss: 0.4298 - accuracy: 0.8856 - val_loss: 0.4477 - val_accuracy: 0.8915\n",
            "Epoch 22/30\n",
            "62/61 [==============================] - ETA: 0s - loss: 0.4236 - accuracy: 0.8897\n",
            "Epoch 00022: val_loss did not improve from 0.44007\n",
            "61/61 [==============================] - 53s 869ms/step - loss: 0.4236 - accuracy: 0.8897 - val_loss: 0.5681 - val_accuracy: 0.8598\n",
            "Epoch 23/30\n",
            "62/61 [==============================] - ETA: 0s - loss: 0.4129 - accuracy: 0.8913\n",
            "Epoch 00023: val_loss improved from 0.44007 to 0.43998, saving model to model_from_scratch_best.hdf5\n",
            "61/61 [==============================] - 53s 869ms/step - loss: 0.4129 - accuracy: 0.8913 - val_loss: 0.4400 - val_accuracy: 0.8815\n",
            "Epoch 24/30\n",
            "62/61 [==============================] - ETA: 0s - loss: 0.3486 - accuracy: 0.8987\n",
            "Epoch 00024: val_loss did not improve from 0.43998\n",
            "61/61 [==============================] - 53s 857ms/step - loss: 0.3486 - accuracy: 0.8987 - val_loss: 0.4742 - val_accuracy: 0.8915\n",
            "Epoch 25/30\n",
            "62/61 [==============================] - ETA: 0s - loss: 0.3774 - accuracy: 0.9027\n",
            "Epoch 00025: val_loss improved from 0.43998 to 0.40649, saving model to model_from_scratch_best.hdf5\n",
            "61/61 [==============================] - 65s 1s/step - loss: 0.3774 - accuracy: 0.9027 - val_loss: 0.4065 - val_accuracy: 0.8731\n",
            "Epoch 26/30\n",
            "62/61 [==============================] - ETA: 0s - loss: 0.3761 - accuracy: 0.8987\n",
            "Epoch 00026: val_loss improved from 0.40649 to 0.39174, saving model to model_from_scratch_best.hdf5\n",
            "61/61 [==============================] - 54s 872ms/step - loss: 0.3761 - accuracy: 0.8987 - val_loss: 0.3917 - val_accuracy: 0.8865\n",
            "Epoch 27/30\n",
            "62/61 [==============================] - ETA: 0s - loss: 0.3246 - accuracy: 0.9052\n",
            "Epoch 00027: val_loss improved from 0.39174 to 0.36744, saving model to model_from_scratch_best.hdf5\n",
            "61/61 [==============================] - 55s 889ms/step - loss: 0.3246 - accuracy: 0.9052 - val_loss: 0.3674 - val_accuracy: 0.8982\n",
            "Epoch 28/30\n",
            "62/61 [==============================] - ETA: 0s - loss: 0.3150 - accuracy: 0.9109\n",
            "Epoch 00028: val_loss did not improve from 0.36744\n",
            "61/61 [==============================] - 53s 864ms/step - loss: 0.3150 - accuracy: 0.9109 - val_loss: 0.3875 - val_accuracy: 0.8915\n",
            "Epoch 29/30\n",
            "62/61 [==============================] - ETA: 0s - loss: 0.3217 - accuracy: 0.9158\n",
            "Epoch 00029: val_loss did not improve from 0.36744\n",
            "61/61 [==============================] - 54s 872ms/step - loss: 0.3217 - accuracy: 0.9158 - val_loss: 0.4790 - val_accuracy: 0.8831\n",
            "Epoch 30/30\n",
            "62/61 [==============================] - ETA: 0s - loss: 0.3117 - accuracy: 0.9133\n",
            "Epoch 00030: val_loss did not improve from 0.36744\n",
            "61/61 [==============================] - 54s 875ms/step - loss: 0.3117 - accuracy: 0.9133 - val_loss: 0.4324 - val_accuracy: 0.8765\n"
          ]
        }
      ]
    },
    {
      "cell_type": "code",
      "source": [
        "# test_datagen  = ImageDataGenerator(rescale=1./255)\n",
        "test_datagen  = ImageDataGenerator()\n",
        "# --------------------\n",
        "# Flow testing images in batches using test_datagen generator\n",
        "# --------------------\n",
        "test_generator =  test_datagen.flow_from_directory(test_dir,\n",
        "                                                   batch_size=10,\n",
        "                                                   class_mode='categorical',\n",
        "                                                  #  color_mode='grayscale',\n",
        "                                                   target_size=(256,256))\n",
        "# # Testing the CNN on testing data : \n",
        "# loss, acc = model.evaluate(test_generator)"
      ],
      "metadata": {
        "colab": {
          "base_uri": "https://localhost:8080/"
        },
        "id": "BZANTHekSznu",
        "outputId": "9fb11147-e7ce-42c3-97b3-555f772e6e66"
      },
      "execution_count": 11,
      "outputs": [
        {
          "output_type": "stream",
          "name": "stdout",
          "text": [
            "Found 2149 images belonging to 34 classes.\n"
          ]
        }
      ]
    },
    {
      "cell_type": "code",
      "source": [
        "import matplotlib.pyplot as plt\n",
        "\n",
        "plt.plot(history.history['accuracy'], label='accuracy')\n",
        "plt.plot(history.history['val_accuracy'], label = 'val_accuracy')\n",
        "plt.xlabel('Epoch')\n",
        "plt.ylabel('Accuracy')\n",
        "plt.ylim([0, 1])\n",
        "plt.legend(loc='lower right')\n",
        "\n",
        "# Testing the CNN on testing data : \n",
        "loss, acc = model.evaluate(test_generator)"
      ],
      "metadata": {
        "colab": {
          "base_uri": "https://localhost:8080/",
          "height": 300
        },
        "id": "Q3PTISh9XtGh",
        "outputId": "81285a73-5aa1-4159-e633-26e41cfd5e2f"
      },
      "execution_count": 12,
      "outputs": [
        {
          "output_type": "stream",
          "name": "stdout",
          "text": [
            "215/215 [==============================] - 5s 21ms/step - loss: 1.5653 - accuracy: 0.7180\n"
          ]
        },
        {
          "output_type": "display_data",
          "data": {
            "image/png": "[encoded data removed]",
            "text/plain": [
              "<Figure size 432x288 with 1 Axes>"
            ]
          },
          "metadata": {
            "needs_background": "light"
          }
        }
      ]
    },
    {
      "cell_type": "markdown",
      "source": [
        "# TRY LOADING THE VGG16 MODEL TO TEST IT WITHOUT rescale=1./255 :"
      ],
      "metadata": {
        "id": "qLiZCwTwVkMo"
      }
    },
    {
      "cell_type": "code",
      "source": [
        "# Loading the model from the google drive folder : \n",
        "\n",
        "model_loaded = models.load_model('/content/drive/MyDrive/CV_Project_4_saved_models/pretrained_VGG16_batch_40_epochs_60_PROTECT')\n",
        "model_loaded.summary()"
      ],
      "metadata": {
        "colab": {
          "base_uri": "https://localhost:8080/"
        },
        "id": "ybgTKSCvVjv1",
        "outputId": "34e0484c-6934-4e15-c022-562faee0f4ba"
      },
      "execution_count": 15,
      "outputs": [
        {
          "output_type": "stream",
          "name": "stdout",
          "text": [
            "Model: \"sequential\"\n",
            "_________________________________________________________________\n",
            " Layer (type)                Output Shape              Param #   \n",
            "=================================================================\n",
            " vgg16 (Functional)          (None, 8, 8, 512)         14714688  \n",
            "                                                                 \n",
            " flatten (Flatten)           (None, 32768)             0         \n",
            "                                                                 \n",
            " dense (Dense)               (None, 1024)              33555456  \n",
            "                                                                 \n",
            " dropout (Dropout)           (None, 1024)              0         \n",
            "                                                                 \n",
            " dense_1 (Dense)             (None, 34)                34850     \n",
            "                                                                 \n",
            "=================================================================\n",
            "Total params: 48,304,994\n",
            "Trainable params: 40,669,730\n",
            "Non-trainable params: 7,635,264\n",
            "_________________________________________________________________\n"
          ]
        }
      ]
    },
    {
      "cell_type": "code",
      "source": [
        "# test_datagen  = ImageDataGenerator(rescale=1./255)\n",
        "test_datagen_loaded  = ImageDataGenerator()\n",
        "# --------------------\n",
        "# Flow testing images in batches using test_datagen generator\n",
        "# --------------------\n",
        "test_generator_loaded =  test_datagen_loaded.flow_from_directory(test_dir,\n",
        "                                                   batch_size=10,\n",
        "                                                   class_mode='categorical',\n",
        "                                                  #  color_mode='grayscale',\n",
        "                                                   target_size=(256,256))\n",
        "# Testing the CNN on testing data : \n",
        "loss_loaded, acc_loaded = model_loaded.evaluate(test_generator_loaded)"
      ],
      "metadata": {
        "colab": {
          "base_uri": "https://localhost:8080/"
        },
        "id": "7Mb1EyMvWLoN",
        "outputId": "3209fa9d-105c-4df0-b4a2-b848bbd3cb4d"
      },
      "execution_count": 16,
      "outputs": [
        {
          "output_type": "stream",
          "name": "stdout",
          "text": [
            "Found 2149 images belonging to 34 classes.\n",
            "215/215 [==============================] - 39s 159ms/step - loss: 0.5989 - acc: 0.8948\n"
          ]
        }
      ]
    }
  ]
}