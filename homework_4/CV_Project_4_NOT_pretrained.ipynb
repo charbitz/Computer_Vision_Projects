{
  "nbformat": 4,
  "nbformat_minor": 0,
  "metadata": {
    "colab": {
      "name": "CV_Project_4_NOT_pretrained.ipynb",
      "provenance": [],
      "collapsed_sections": [],
      "authorship_tag": "ABX9TyPy0EZnmmPWY1xo1sQiPTA0"
    },
    "kernelspec": {
      "name": "python3",
      "display_name": "Python 3"
    },
    "language_info": {
      "name": "python"
    },
    "accelerator": "GPU"
  },
  "cells": [
    {
      "cell_type": "code",
      "execution_count": 1,
      "metadata": {
        "colab": {
          "base_uri": "https://localhost:8080/"
        },
        "id": "1efK3dBnSNsW",
        "outputId": "8af130d6-a8ef-44b6-cc8b-937793091cd3"
      },
      "outputs": [
        {
          "output_type": "stream",
          "name": "stdout",
          "text": [
            "Mounted at /content/drive\n"
          ]
        }
      ],
      "source": [
        "# Mount google drive :\n",
        "\n",
        "from google.colab import drive\n",
        "drive.mount('/content/drive')"
      ]
    },
    {
      "cell_type": "code",
      "source": [
        "# Unzip the dataset and save it to the path \"/content/imagedb_btsd\" :\n",
        "import os\n",
        "import zipfile\n",
        "\n",
        "local_zip = '/content/drive/MyDrive/cv_proj_4_dataset/imagedb_btsd.zip'\n",
        "\n",
        "zip_ref = zipfile.ZipFile(local_zip, 'r')\n",
        "zip_ref.extractall('/content/imagedb_btsd')\n",
        "zip_ref.close()"
      ],
      "metadata": {
        "id": "UES-_QQCSXQM"
      },
      "execution_count": 2,
      "outputs": []
    },
    {
      "cell_type": "code",
      "source": [
        "# Select the folder \"imagedb\" as the training folder\n",
        "# and the folder \"imagedb_test\" as the testing folder :\n",
        "\n",
        "base_dir = '/content/imagedb_btsd'\n",
        "\n",
        "train_dir = os.path.join(base_dir, 'imagedb')\n",
        "test_dir = os.path.join(base_dir, 'imagedb_test')"
      ],
      "metadata": {
        "id": "23UpZ_4lTZGN"
      },
      "execution_count": 3,
      "outputs": []
    },
    {
      "cell_type": "code",
      "source": [
        "import tensorflow as tf\n",
        "\n",
        "from tensorflow.keras import datasets, layers, models\n",
        "from keras import optimizers\n",
        "\n",
        "\n",
        "model = models.Sequential()\n",
        "model.add(layers.Conv2D(32, (3, 3), activation='relu', input_shape=(256, 256, 3)))\n",
        "# model.add(layers.MaxPooling2D((2, 2)))\n",
        "\n",
        "model.add(layers.Conv2D(64, (3, 3), activation='relu'))\n",
        "model.add(layers.MaxPooling2D((2, 2)))\n",
        "\n",
        "\n",
        "model.add(layers.Conv2D(64, (3, 3), activation='relu'))\n",
        "# model.add(layers.MaxPooling2D((2, 2)))\n",
        "\n",
        "model.add(layers.Conv2D(128, (3, 3), activation='relu'))\n",
        "model.add(layers.MaxPooling2D((2, 2)))\n",
        "\n",
        "model.add(layers.Flatten())\n",
        "model.add(layers.Dense(1024, activation='relu'))\n",
        "model.add(layers.Dropout(0.5))\n",
        "model.add(layers.Dense(34, activation='softmax'))\n",
        "\n",
        "model.compile(optimizer=optimizers.adam_v2.Adam(learning_rate=1e-4),\n",
        "              loss = 'categorical_crossentropy',\n",
        "              metrics=['accuracy'])\n",
        "\n",
        "\n",
        "model.summary()"
      ],
      "metadata": {
        "colab": {
          "base_uri": "https://localhost:8080/"
        },
        "id": "VAg9eIeSShP9",
        "outputId": "b0bb621c-8196-4b13-b3af-65588e7f4b40"
      },
      "execution_count": 4,
      "outputs": [
        {
          "output_type": "stream",
          "name": "stdout",
          "text": [
            "Model: \"sequential\"\n",
            "_________________________________________________________________\n",
            " Layer (type)                Output Shape              Param #   \n",
            "=================================================================\n",
            " conv2d (Conv2D)             (None, 254, 254, 32)      896       \n",
            "                                                                 \n",
            " conv2d_1 (Conv2D)           (None, 252, 252, 64)      18496     \n",
            "                                                                 \n",
            " max_pooling2d (MaxPooling2D  (None, 126, 126, 64)     0         \n",
            " )                                                               \n",
            "                                                                 \n",
            " conv2d_2 (Conv2D)           (None, 124, 124, 64)      36928     \n",
            "                                                                 \n",
            " conv2d_3 (Conv2D)           (None, 122, 122, 128)     73856     \n",
            "                                                                 \n",
            " max_pooling2d_1 (MaxPooling  (None, 61, 61, 128)      0         \n",
            " 2D)                                                             \n",
            "                                                                 \n",
            " flatten (Flatten)           (None, 476288)            0         \n",
            "                                                                 \n",
            " dense (Dense)               (None, 1024)              487719936 \n",
            "                                                                 \n",
            " dropout (Dropout)           (None, 1024)              0         \n",
            "                                                                 \n",
            " dense_1 (Dense)             (None, 34)                34850     \n",
            "                                                                 \n",
            "=================================================================\n",
            "Total params: 487,884,962\n",
            "Trainable params: 487,884,962\n",
            "Non-trainable params: 0\n",
            "_________________________________________________________________\n"
          ]
        }
      ]
    },
    {
      "cell_type": "code",
      "source": [
        "# check this :\n",
        "\n",
        "# Check the trainable status of the individual layers\n",
        "for layer in model.layers:\n",
        "    print(layer, layer.trainable)"
      ],
      "metadata": {
        "colab": {
          "base_uri": "https://localhost:8080/"
        },
        "id": "fWGtpHkotMbZ",
        "outputId": "2aa4c55c-d728-409d-c940-2b51db42eee4"
      },
      "execution_count": 5,
      "outputs": [
        {
          "output_type": "stream",
          "name": "stdout",
          "text": [
            "<keras.layers.convolutional.Conv2D object at 0x7f30b3396d10> True\n",
            "<keras.layers.convolutional.Conv2D object at 0x7f30b3396cd0> True\n",
            "<keras.layers.pooling.MaxPooling2D object at 0x7f30301d79d0> True\n",
            "<keras.layers.convolutional.Conv2D object at 0x7f3030173c50> True\n",
            "<keras.layers.convolutional.Conv2D object at 0x7f30301739d0> True\n",
            "<keras.layers.pooling.MaxPooling2D object at 0x7f30301d7d50> True\n",
            "<keras.layers.core.flatten.Flatten object at 0x7f30301ef850> True\n",
            "<keras.layers.core.dense.Dense object at 0x7f3030188e50> True\n",
            "<keras.layers.core.dropout.Dropout object at 0x7f303018cad0> True\n",
            "<keras.layers.core.dense.Dense object at 0x7f303022a550> True\n"
          ]
        }
      ]
    },
    {
      "cell_type": "code",
      "source": [
        "from tensorflow.keras.preprocessing.image import ImageDataGenerator\n",
        "\n",
        "train_datagen = ImageDataGenerator(rotation_range = 90,\n",
        "                                  horizontal_flip=True,\n",
        "                                  vertical_flip = True,\n",
        "                                   brightness_range=[0.2,1.0],\n",
        "                                   zoom_range=[0.5,1.0],                                   \n",
        "                                   validation_split=0.2)\n",
        "                                  #  preprocessing_function = preprocess_func)\n",
        "                                  \n",
        "#train_datagen  = ImageDataGenerator(rescale=1./255, validation_split=0.2)\n",
        "\n",
        "# --------------------\n",
        "# Flow training images in batches using train_datagen generator\n",
        "# --------------------\n",
        "train_generator = train_datagen.flow_from_directory(train_dir,\n",
        "                                                    batch_size=40,\n",
        "                                                    class_mode='categorical',\n",
        "                                                    # color_mode='grayscale',\n",
        "                                                    target_size=(256,256),\n",
        "                                                    shuffle=True,\n",
        "                                                    subset='training', seed=1)     \n",
        "# --------------------\n",
        "# Flow validation images in batches using test_datagen generator\n",
        "# --------------------\n",
        "validation_generator =  train_datagen.flow_from_directory(train_dir,\n",
        "                                                          batch_size=40,\n",
        "                                                          class_mode='categorical',\n",
        "                                                          # color_mode='grayscale',\n",
        "                                                          target_size=(256,256),\n",
        "                                                          subset='validation', seed=1)\n"
      ],
      "metadata": {
        "colab": {
          "base_uri": "https://localhost:8080/"
        },
        "id": "UWDZ2ZpnShK9",
        "outputId": "fc3f8382-584a-43f5-9bce-459a502c5982"
      },
      "execution_count": 6,
      "outputs": [
        {
          "output_type": "stream",
          "name": "stdout",
          "text": [
            "Found 2457 images belonging to 34 classes.\n",
            "Found 599 images belonging to 34 classes.\n"
          ]
        }
      ]
    },
    {
      "cell_type": "code",
      "source": [
        "# Apply callbacks :\n",
        "\n",
        "import datetime \n",
        "import tensorflow as tf\n",
        "  \n",
        "my_callbacks = []\n",
        "\n",
        "# logdir = os.path.join(\"/content/logs\", datetime.datetime.now().strftime(\"%Y%m%d-%H%M%S\"))\n",
        "# tensorboard_callback = tf.keras.callbacks.TensorBoard(logdir, histogram_freq=1)\n",
        "# my_callbacks.append(tensorboard_callback)\n",
        "\n",
        "save_best_callback = tf.keras.callbacks.ModelCheckpoint(f'model_from_scratch_best.hdf5', save_best_only=True, verbose=1)\n",
        "my_callbacks.append(save_best_callback)\n",
        "\n",
        "early_stop_callback = tf.keras.callbacks.EarlyStopping(patience=10, restore_best_weights=True, verbose=1)\n",
        "my_callbacks.append(early_stop_callback)"
      ],
      "metadata": {
        "id": "ueQ8b0eukBoi"
      },
      "execution_count": 7,
      "outputs": []
    },
    {
      "cell_type": "code",
      "source": [
        "history = model.fit_generator(train_generator,\n",
        "                              validation_data=validation_generator,\n",
        "                              # steps_per_epoch=50,\n",
        "                              steps_per_epoch=train_generator.samples/train_generator.batch_size,\n",
        "                              epochs=30,\n",
        "                              validation_steps=15,\n",
        "                              verbose=1,\n",
        "                              callbacks=my_callbacks)"
      ],
      "metadata": {
        "colab": {
          "base_uri": "https://localhost:8080/"
        },
        "id": "P5iuGSf2TzI_",
        "outputId": "228ea65e-b04c-417e-8a49-3679be0e854d"
      },
      "execution_count": 8,
      "outputs": [
        {
          "metadata": {
            "tags": null
          },
          "name": "stderr",
          "output_type": "stream",
          "text": [
            "/usr/local/lib/python3.7/dist-packages/ipykernel_launcher.py:8: UserWarning: `Model.fit_generator` is deprecated and will be removed in a future version. Please use `Model.fit`, which supports generators.\n",
            "  \n"
          ]
        },
        {
          "output_type": "stream",
          "name": "stdout",
          "text": [
            "Epoch 1/30\n",
            "62/61 [==============================] - ETA: 0s - loss: 66.6052 - accuracy: 0.1998\n",
            "Epoch 00001: val_loss improved from inf to 2.11572, saving model to model_from_scratch_best.hdf5\n",
            "61/61 [==============================] - 185s 3s/step - loss: 66.6052 - accuracy: 0.1998 - val_loss: 2.1157 - val_accuracy: 0.4691\n",
            "Epoch 2/30\n",
            "62/61 [==============================] - ETA: 0s - loss: 2.2492 - accuracy: 0.4119\n",
            "Epoch 00002: val_loss improved from 2.11572 to 1.62918, saving model to model_from_scratch_best.hdf5\n",
            "61/61 [==============================] - 163s 3s/step - loss: 2.2492 - accuracy: 0.4119 - val_loss: 1.6292 - val_accuracy: 0.5977\n",
            "Epoch 3/30\n",
            "62/61 [==============================] - ETA: 0s - loss: 1.8104 - accuracy: 0.5128\n",
            "Epoch 00003: val_loss improved from 1.62918 to 1.35589, saving model to model_from_scratch_best.hdf5\n",
            "61/61 [==============================] - 161s 3s/step - loss: 1.8104 - accuracy: 0.5128 - val_loss: 1.3559 - val_accuracy: 0.6678\n",
            "Epoch 4/30\n",
            "62/61 [==============================] - ETA: 0s - loss: 1.6350 - accuracy: 0.5665\n",
            "Epoch 00004: val_loss improved from 1.35589 to 1.29036, saving model to model_from_scratch_best.hdf5\n",
            "61/61 [==============================] - 160s 3s/step - loss: 1.6350 - accuracy: 0.5665 - val_loss: 1.2904 - val_accuracy: 0.6694\n",
            "Epoch 5/30\n",
            "62/61 [==============================] - ETA: 0s - loss: 1.5285 - accuracy: 0.6007\n",
            "Epoch 00005: val_loss improved from 1.29036 to 1.17568, saving model to model_from_scratch_best.hdf5\n",
            "61/61 [==============================] - 164s 3s/step - loss: 1.5285 - accuracy: 0.6007 - val_loss: 1.1757 - val_accuracy: 0.6711\n",
            "Epoch 6/30\n",
            "62/61 [==============================] - ETA: 0s - loss: 1.4064 - accuracy: 0.6077\n",
            "Epoch 00006: val_loss improved from 1.17568 to 1.02125, saving model to model_from_scratch_best.hdf5\n",
            "61/61 [==============================] - 160s 3s/step - loss: 1.4064 - accuracy: 0.6077 - val_loss: 1.0213 - val_accuracy: 0.7546\n",
            "Epoch 7/30\n",
            "62/61 [==============================] - ETA: 0s - loss: 1.3405 - accuracy: 0.6467\n",
            "Epoch 00007: val_loss improved from 1.02125 to 0.99230, saving model to model_from_scratch_best.hdf5\n",
            "61/61 [==============================] - 163s 3s/step - loss: 1.3405 - accuracy: 0.6467 - val_loss: 0.9923 - val_accuracy: 0.7462\n",
            "Epoch 8/30\n",
            "62/61 [==============================] - ETA: 0s - loss: 1.2630 - accuracy: 0.6602\n",
            "Epoch 00008: val_loss improved from 0.99230 to 0.81284, saving model to model_from_scratch_best.hdf5\n",
            "61/61 [==============================] - 161s 3s/step - loss: 1.2630 - accuracy: 0.6602 - val_loss: 0.8128 - val_accuracy: 0.7679\n",
            "Epoch 9/30\n",
            "62/61 [==============================] - ETA: 0s - loss: 1.1074 - accuracy: 0.7013\n",
            "Epoch 00009: val_loss did not improve from 0.81284\n",
            "61/61 [==============================] - 54s 866ms/step - loss: 1.1074 - accuracy: 0.7013 - val_loss: 0.8520 - val_accuracy: 0.7780\n",
            "Epoch 10/30\n",
            "62/61 [==============================] - ETA: 0s - loss: 1.1134 - accuracy: 0.6854\n",
            "Epoch 00010: val_loss improved from 0.81284 to 0.80554, saving model to model_from_scratch_best.hdf5\n",
            "61/61 [==============================] - 162s 3s/step - loss: 1.1134 - accuracy: 0.6854 - val_loss: 0.8055 - val_accuracy: 0.7679\n",
            "Epoch 11/30\n",
            "62/61 [==============================] - ETA: 0s - loss: 1.0558 - accuracy: 0.7135\n",
            "Epoch 00011: val_loss improved from 0.80554 to 0.72970, saving model to model_from_scratch_best.hdf5\n",
            "61/61 [==============================] - 159s 3s/step - loss: 1.0558 - accuracy: 0.7135 - val_loss: 0.7297 - val_accuracy: 0.8047\n",
            "Epoch 12/30\n",
            "62/61 [==============================] - ETA: 0s - loss: 0.9536 - accuracy: 0.7289\n",
            "Epoch 00012: val_loss did not improve from 0.72970\n",
            "61/61 [==============================] - 54s 874ms/step - loss: 0.9536 - accuracy: 0.7289 - val_loss: 0.7484 - val_accuracy: 0.8147\n",
            "Epoch 13/30\n",
            "62/61 [==============================] - ETA: 0s - loss: 1.0110 - accuracy: 0.7293\n",
            "Epoch 00013: val_loss did not improve from 0.72970\n",
            "61/61 [==============================] - 52s 846ms/step - loss: 1.0110 - accuracy: 0.7293 - val_loss: 0.7300 - val_accuracy: 0.8063\n",
            "Epoch 14/30\n",
            "62/61 [==============================] - ETA: 0s - loss: 0.9246 - accuracy: 0.7448\n",
            "Epoch 00014: val_loss improved from 0.72970 to 0.70554, saving model to model_from_scratch_best.hdf5\n",
            "61/61 [==============================] - 159s 3s/step - loss: 0.9246 - accuracy: 0.7448 - val_loss: 0.7055 - val_accuracy: 0.8264\n",
            "Epoch 15/30\n",
            "62/61 [==============================] - ETA: 0s - loss: 0.8929 - accuracy: 0.7521\n",
            "Epoch 00015: val_loss did not improve from 0.70554\n",
            "61/61 [==============================] - 53s 856ms/step - loss: 0.8929 - accuracy: 0.7521 - val_loss: 0.7093 - val_accuracy: 0.7963\n",
            "Epoch 16/30\n",
            "62/61 [==============================] - ETA: 0s - loss: 0.8895 - accuracy: 0.7578\n",
            "Epoch 00016: val_loss improved from 0.70554 to 0.64269, saving model to model_from_scratch_best.hdf5\n",
            "61/61 [==============================] - 160s 3s/step - loss: 0.8895 - accuracy: 0.7578 - val_loss: 0.6427 - val_accuracy: 0.8280\n",
            "Epoch 17/30\n",
            "62/61 [==============================] - ETA: 0s - loss: 0.8219 - accuracy: 0.7676\n",
            "Epoch 00017: val_loss did not improve from 0.64269\n",
            "61/61 [==============================] - 52s 845ms/step - loss: 0.8219 - accuracy: 0.7676 - val_loss: 0.6669 - val_accuracy: 0.8264\n",
            "Epoch 18/30\n",
            "62/61 [==============================] - ETA: 0s - loss: 0.8480 - accuracy: 0.7643\n",
            "Epoch 00018: val_loss improved from 0.64269 to 0.61057, saving model to model_from_scratch_best.hdf5\n",
            "61/61 [==============================] - 161s 3s/step - loss: 0.8480 - accuracy: 0.7643 - val_loss: 0.6106 - val_accuracy: 0.8497\n",
            "Epoch 19/30\n",
            "62/61 [==============================] - ETA: 0s - loss: 0.7788 - accuracy: 0.7912\n",
            "Epoch 00019: val_loss did not improve from 0.61057\n",
            "61/61 [==============================] - 52s 853ms/step - loss: 0.7788 - accuracy: 0.7912 - val_loss: 0.6512 - val_accuracy: 0.8531\n",
            "Epoch 20/30\n",
            "62/61 [==============================] - ETA: 0s - loss: 0.7545 - accuracy: 0.7806\n",
            "Epoch 00020: val_loss did not improve from 0.61057\n",
            "61/61 [==============================] - 52s 853ms/step - loss: 0.7545 - accuracy: 0.7806 - val_loss: 0.6796 - val_accuracy: 0.8097\n",
            "Epoch 21/30\n",
            "62/61 [==============================] - ETA: 0s - loss: 0.7512 - accuracy: 0.7847\n",
            "Epoch 00021: val_loss improved from 0.61057 to 0.60481, saving model to model_from_scratch_best.hdf5\n",
            "61/61 [==============================] - 158s 3s/step - loss: 0.7512 - accuracy: 0.7847 - val_loss: 0.6048 - val_accuracy: 0.8347\n",
            "Epoch 22/30\n",
            "62/61 [==============================] - ETA: 0s - loss: 0.7037 - accuracy: 0.7989\n",
            "Epoch 00022: val_loss improved from 0.60481 to 0.56032, saving model to model_from_scratch_best.hdf5\n",
            "61/61 [==============================] - 161s 3s/step - loss: 0.7037 - accuracy: 0.7989 - val_loss: 0.5603 - val_accuracy: 0.8464\n",
            "Epoch 23/30\n",
            "62/61 [==============================] - ETA: 0s - loss: 0.7234 - accuracy: 0.8063\n",
            "Epoch 00023: val_loss did not improve from 0.56032\n",
            "61/61 [==============================] - 53s 858ms/step - loss: 0.7234 - accuracy: 0.8063 - val_loss: 0.6192 - val_accuracy: 0.8214\n",
            "Epoch 24/30\n",
            "62/61 [==============================] - ETA: 0s - loss: 0.6753 - accuracy: 0.8083\n",
            "Epoch 00024: val_loss did not improve from 0.56032\n",
            "61/61 [==============================] - 52s 851ms/step - loss: 0.6753 - accuracy: 0.8083 - val_loss: 0.5947 - val_accuracy: 0.8481\n",
            "Epoch 25/30\n",
            "62/61 [==============================] - ETA: 0s - loss: 0.6855 - accuracy: 0.8103\n",
            "Epoch 00025: val_loss did not improve from 0.56032\n",
            "61/61 [==============================] - 52s 852ms/step - loss: 0.6855 - accuracy: 0.8103 - val_loss: 0.5883 - val_accuracy: 0.8314\n",
            "Epoch 26/30\n",
            "62/61 [==============================] - ETA: 0s - loss: 0.6763 - accuracy: 0.8173\n",
            "Epoch 00026: val_loss improved from 0.56032 to 0.55608, saving model to model_from_scratch_best.hdf5\n",
            "61/61 [==============================] - 159s 3s/step - loss: 0.6763 - accuracy: 0.8173 - val_loss: 0.5561 - val_accuracy: 0.8347\n",
            "Epoch 27/30\n",
            "62/61 [==============================] - ETA: 0s - loss: 0.6635 - accuracy: 0.8116\n",
            "Epoch 00027: val_loss did not improve from 0.55608\n",
            "61/61 [==============================] - 52s 841ms/step - loss: 0.6635 - accuracy: 0.8116 - val_loss: 0.5875 - val_accuracy: 0.8314\n",
            "Epoch 28/30\n",
            "62/61 [==============================] - ETA: 0s - loss: 0.5882 - accuracy: 0.8282\n",
            "Epoch 00028: val_loss did not improve from 0.55608\n",
            "61/61 [==============================] - 52s 842ms/step - loss: 0.5882 - accuracy: 0.8282 - val_loss: 0.6395 - val_accuracy: 0.8331\n",
            "Epoch 29/30\n",
            "62/61 [==============================] - ETA: 0s - loss: 0.6557 - accuracy: 0.8075\n",
            "Epoch 00029: val_loss improved from 0.55608 to 0.53806, saving model to model_from_scratch_best.hdf5\n",
            "61/61 [==============================] - 160s 3s/step - loss: 0.6557 - accuracy: 0.8075 - val_loss: 0.5381 - val_accuracy: 0.8464\n",
            "Epoch 30/30\n",
            "62/61 [==============================] - ETA: 0s - loss: 0.6718 - accuracy: 0.8242\n",
            "Epoch 00030: val_loss did not improve from 0.53806\n",
            "61/61 [==============================] - 52s 852ms/step - loss: 0.6718 - accuracy: 0.8242 - val_loss: 0.5492 - val_accuracy: 0.8464\n"
          ]
        }
      ]
    },
    {
      "cell_type": "code",
      "source": [
        "# test_datagen  = ImageDataGenerator(rescale=1./255)\n",
        "test_datagen  = ImageDataGenerator()\n",
        "# --------------------\n",
        "# Flow testing images in batches using test_datagen generator\n",
        "# --------------------\n",
        "test_generator =  test_datagen.flow_from_directory(test_dir,\n",
        "                                                   batch_size=10,\n",
        "                                                   class_mode='categorical',\n",
        "                                                  #  color_mode='grayscale',\n",
        "                                                   target_size=(256,256))\n",
        "# # Testing the CNN on testing data : \n",
        "# loss, acc = model.evaluate(test_generator)"
      ],
      "metadata": {
        "colab": {
          "base_uri": "https://localhost:8080/"
        },
        "id": "BZANTHekSznu",
        "outputId": "847022b7-ff19-4a00-ac93-6fdcc58648ff"
      },
      "execution_count": 11,
      "outputs": [
        {
          "output_type": "stream",
          "name": "stdout",
          "text": [
            "Found 2149 images belonging to 34 classes.\n"
          ]
        }
      ]
    },
    {
      "cell_type": "code",
      "source": [
        "import matplotlib.pyplot as plt\n",
        "\n",
        "plt.plot(history.history['accuracy'], label='accuracy')\n",
        "plt.plot(history.history['val_accuracy'], label = 'val_accuracy')\n",
        "plt.xlabel('Epoch')\n",
        "plt.ylabel('Accuracy')\n",
        "plt.ylim([0, 1])\n",
        "plt.legend(loc='lower right')\n",
        "\n",
        "# Testing the CNN on testing data : \n",
        "loss, acc = model.evaluate(test_generator)"
      ],
      "metadata": {
        "colab": {
          "base_uri": "https://localhost:8080/",
          "height": 301
        },
        "id": "Q3PTISh9XtGh",
        "outputId": "311ecfe6-e5ab-4ea4-d5e5-3d40c87c79bb"
      },
      "execution_count": 12,
      "outputs": [
        {
          "output_type": "stream",
          "name": "stdout",
          "text": [
            "215/215 [==============================] - 6s 28ms/step - loss: 1.8135 - accuracy: 0.6370\n"
          ]
        },
        {
          "output_type": "display_data",
          "data": {
            "image/png": "[encoded data removed]",
            "text/plain": [
              "<Figure size 432x288 with 1 Axes>"
            ]
          },
          "metadata": {
            "needs_background": "light"
          }
        }
      ]
    }
  ]
}