{
  "cells": [
    {
      "cell_type": "code",
      "execution_count": 1,
      "metadata": {
        "colab": {
          "base_uri": "https://localhost:8080/"
        },
        "id": "1efK3dBnSNsW",
        "outputId": "bb31e830-7c49-45bd-8cef-be432807ddda"
      },
      "outputs": [
        {
          "output_type": "stream",
          "name": "stdout",
          "text": [
            "Drive already mounted at /content/drive; to attempt to forcibly remount, call drive.mount(\"/content/drive\", force_remount=True).\n"
          ]
        }
      ],
      "source": [
        "# Mount google drive :\n",
        "\n",
        "from google.colab import drive\n",
        "drive.mount('/content/drive')"
      ]
    },
    {
      "cell_type": "code",
      "execution_count": 2,
      "metadata": {
        "id": "UES-_QQCSXQM"
      },
      "outputs": [],
      "source": [
        "# Unzip the dataset and save it to the path \"/content/imagedb_btsd\" :\n",
        "import os\n",
        "import zipfile\n",
        "\n",
        "local_zip = '/content/drive/MyDrive/cv_proj_4_dataset/imagedb_btsd.zip'\n",
        "\n",
        "zip_ref = zipfile.ZipFile(local_zip, 'r')\n",
        "zip_ref.extractall('/content/imagedb_btsd')\n",
        "zip_ref.close()"
      ]
    },
    {
      "cell_type": "code",
      "execution_count": 3,
      "metadata": {
        "id": "23UpZ_4lTZGN"
      },
      "outputs": [],
      "source": [
        "# Select the folder \"imagedb\" as the training folder\n",
        "# and the folder \"imagedb_test\" as the testing folder :\n",
        "\n",
        "base_dir = '/content/imagedb_btsd'\n",
        "\n",
        "train_dir = os.path.join(base_dir, 'imagedb')\n",
        "test_dir = os.path.join(base_dir, 'imagedb_test')"
      ]
    },
    {
      "cell_type": "code",
      "execution_count": 4,
      "metadata": {
        "colab": {
          "base_uri": "https://localhost:8080/"
        },
        "id": "VAg9eIeSShP9",
        "outputId": "3a04ace2-45d0-4706-c9e4-c97e00779883"
      },
      "outputs": [
        {
          "output_type": "stream",
          "name": "stdout",
          "text": [
            "Model: \"sequential\"\n",
            "_________________________________________________________________\n",
            " Layer (type)                Output Shape              Param #   \n",
            "=================================================================\n",
            " conv2d (Conv2D)             (None, 254, 254, 32)      896       \n",
            "                                                                 \n",
            " max_pooling2d (MaxPooling2D  (None, 127, 127, 32)     0         \n",
            " )                                                               \n",
            "                                                                 \n",
            " conv2d_1 (Conv2D)           (None, 125, 125, 64)      18496     \n",
            "                                                                 \n",
            " max_pooling2d_1 (MaxPooling  (None, 62, 62, 64)       0         \n",
            " 2D)                                                             \n",
            "                                                                 \n",
            " conv2d_2 (Conv2D)           (None, 60, 60, 128)       73856     \n",
            "                                                                 \n",
            " max_pooling2d_2 (MaxPooling  (None, 30, 30, 128)      0         \n",
            " 2D)                                                             \n",
            "                                                                 \n",
            " conv2d_3 (Conv2D)           (None, 28, 28, 256)       295168    \n",
            "                                                                 \n",
            " max_pooling2d_3 (MaxPooling  (None, 14, 14, 256)      0         \n",
            " 2D)                                                             \n",
            "                                                                 \n",
            " flatten (Flatten)           (None, 50176)             0         \n",
            "                                                                 \n",
            " dense (Dense)               (None, 1024)              51381248  \n",
            "                                                                 \n",
            " dropout (Dropout)           (None, 1024)              0         \n",
            "                                                                 \n",
            " dense_1 (Dense)             (None, 34)                34850     \n",
            "                                                                 \n",
            "=================================================================\n",
            "Total params: 51,804,514\n",
            "Trainable params: 51,804,514\n",
            "Non-trainable params: 0\n",
            "_________________________________________________________________\n"
          ]
        }
      ],
      "source": [
        "import tensorflow as tf\n",
        "\n",
        "from tensorflow.keras import datasets, layers, models\n",
        "from keras import optimizers\n",
        "\n",
        "\n",
        "model = models.Sequential()\n",
        "model.add(layers.Conv2D(32, (3, 3), padding=\"valid\", activation='relu', input_shape=(256, 256, 3)))\n",
        "model.add(layers.MaxPooling2D((2, 2)))\n",
        "\n",
        "model.add(layers.Conv2D(64, (3, 3), padding=\"valid\", activation='relu'))\n",
        "model.add(layers.MaxPooling2D((2, 2)))\n",
        "\n",
        "# model.add(layers.Conv2D(64, (3, 3), padding=\"valid\", activation='relu'))\n",
        "model.add(layers.Conv2D(128, (3, 3), padding=\"valid\", activation='relu'))\n",
        "model.add(layers.MaxPooling2D((2, 2)))\n",
        "\n",
        "# model.add(layers.Conv2D(128, (3, 3), padding=\"valid\", activation='relu'))\n",
        "model.add(layers.Conv2D(256, (3, 3), padding=\"valid\", activation='relu'))\n",
        "model.add(layers.MaxPooling2D((2, 2)))\n",
        "\n",
        "model.add(layers.Flatten())\n",
        "model.add(layers.Dense(1024, activation='relu'))\n",
        "model.add(layers.Dropout(0.5))\n",
        "model.add(layers.Dense(34, activation='softmax'))\n",
        "\n",
        "model.compile(optimizer=optimizers.adam_v2.Adam(learning_rate=1e-4),\n",
        "              loss = 'categorical_crossentropy',\n",
        "              metrics=['accuracy'])\n",
        "\n",
        "\n",
        "model.summary()"
      ]
    },
    {
      "cell_type": "code",
      "execution_count": 5,
      "metadata": {
        "colab": {
          "base_uri": "https://localhost:8080/"
        },
        "id": "fWGtpHkotMbZ",
        "outputId": "9ce41fc6-ce6b-4b06-f18e-d73c0b9566f7"
      },
      "outputs": [
        {
          "output_type": "stream",
          "name": "stdout",
          "text": [
            "<keras.layers.convolutional.Conv2D object at 0x7fc34f8cdb90> True\n",
            "<keras.layers.pooling.MaxPooling2D object at 0x7fc34f8cdb50> True\n",
            "<keras.layers.convolutional.Conv2D object at 0x7fc2d05e5050> True\n",
            "<keras.layers.pooling.MaxPooling2D object at 0x7fc2d05d8ed0> True\n",
            "<keras.layers.convolutional.Conv2D object at 0x7fc2d05d2610> True\n",
            "<keras.layers.pooling.MaxPooling2D object at 0x7fc2d05e4410> True\n",
            "<keras.layers.convolutional.Conv2D object at 0x7fc2d0567310> True\n",
            "<keras.layers.pooling.MaxPooling2D object at 0x7fc2d0570e10> True\n",
            "<keras.layers.core.flatten.Flatten object at 0x7fc2d0569050> True\n",
            "<keras.layers.core.dense.Dense object at 0x7fc2d05e4850> True\n",
            "<keras.layers.core.dropout.Dropout object at 0x7fc2d05e5e90> True\n",
            "<keras.layers.core.dense.Dense object at 0x7fc2d0567bd0> True\n"
          ]
        }
      ],
      "source": [
        "# check this :\n",
        "\n",
        "# Check the trainable status of the individual layers\n",
        "for layer in model.layers:\n",
        "    print(layer, layer.trainable)"
      ]
    },
    {
      "cell_type": "code",
      "execution_count": 6,
      "metadata": {
        "colab": {
          "base_uri": "https://localhost:8080/"
        },
        "id": "UWDZ2ZpnShK9",
        "outputId": "eca007ac-5128-4a2b-e214-f0366ebf77fb"
      },
      "outputs": [
        {
          "output_type": "stream",
          "name": "stdout",
          "text": [
            "Found 2457 images belonging to 34 classes.\n",
            "Found 599 images belonging to 34 classes.\n"
          ]
        }
      ],
      "source": [
        "from tensorflow.keras.preprocessing.image import ImageDataGenerator\n",
        "\n",
        "train_datagen = ImageDataGenerator(rotation_range = 90,\n",
        "                                  horizontal_flip=True,\n",
        "                                  vertical_flip = True,\n",
        "                                   brightness_range=[0.2,1.0],\n",
        "                                   zoom_range=[0.5,1.0],                                   \n",
        "                                   validation_split=0.2)\n",
        "                                  #  preprocessing_function = preprocess_func)\n",
        "                                  \n",
        "#train_datagen  = ImageDataGenerator(rescale=1./255, validation_split=0.2)\n",
        "\n",
        "# --------------------\n",
        "# Flow training images in batches using train_datagen generator\n",
        "# --------------------\n",
        "train_generator = train_datagen.flow_from_directory(train_dir,\n",
        "                                                    batch_size=40,\n",
        "                                                    class_mode='categorical',\n",
        "                                                    # color_mode='grayscale',\n",
        "                                                    target_size=(256,256),\n",
        "                                                    shuffle=True,\n",
        "                                                    subset='training', seed=1)     \n",
        "# --------------------\n",
        "# Flow validation images in batches using test_datagen generator\n",
        "# --------------------\n",
        "validation_generator =  train_datagen.flow_from_directory(train_dir,\n",
        "                                                          batch_size=40,\n",
        "                                                          class_mode='categorical',\n",
        "                                                          # color_mode='grayscale',\n",
        "                                                          target_size=(256,256),\n",
        "                                                          subset='validation', seed=1)\n"
      ]
    },
    {
      "cell_type": "code",
      "execution_count": 7,
      "metadata": {
        "id": "ueQ8b0eukBoi"
      },
      "outputs": [],
      "source": [
        "# Apply callbacks :\n",
        "\n",
        "import datetime \n",
        "import tensorflow as tf\n",
        "  \n",
        "my_callbacks = []\n",
        "\n",
        "# logdir = os.path.join(\"/content/logs\", datetime.datetime.now().strftime(\"%Y%m%d-%H%M%S\"))\n",
        "# tensorboard_callback = tf.keras.callbacks.TensorBoard(logdir, histogram_freq=1)\n",
        "# my_callbacks.append(tensorboard_callback)\n",
        "\n",
        "save_best_callback = tf.keras.callbacks.ModelCheckpoint(f'model_from_scratch_best.hdf5', save_best_only=True, verbose=1)\n",
        "my_callbacks.append(save_best_callback)\n",
        "\n",
        "early_stop_callback = tf.keras.callbacks.EarlyStopping(patience=10, restore_best_weights=True, verbose=1)\n",
        "my_callbacks.append(early_stop_callback)"
      ]
    },
    {
      "cell_type": "code",
      "execution_count": 8,
      "metadata": {
        "colab": {
          "base_uri": "https://localhost:8080/"
        },
        "id": "P5iuGSf2TzI_",
        "outputId": "cd075418-c964-4814-8413-2ab0996add1a"
      },
      "outputs": [
        {
          "output_type": "stream",
          "name": "stderr",
          "text": [
            "/usr/local/lib/python3.7/dist-packages/ipykernel_launcher.py:8: UserWarning: `Model.fit_generator` is deprecated and will be removed in a future version. Please use `Model.fit`, which supports generators.\n",
            "  \n"
          ]
        },
        {
          "output_type": "stream",
          "name": "stdout",
          "text": [
            "Epoch 1/30\n",
            "62/61 [==============================] - ETA: 0s - loss: 8.7563 - accuracy: 0.2434\n",
            "Epoch 00001: val_loss improved from inf to 1.91350, saving model to model_from_scratch_best.hdf5\n",
            "61/61 [==============================] - 59s 831ms/step - loss: 8.7563 - accuracy: 0.2434 - val_loss: 1.9135 - val_accuracy: 0.4908\n",
            "Epoch 2/30\n",
            "62/61 [==============================] - ETA: 0s - loss: 1.9163 - accuracy: 0.5104\n",
            "Epoch 00002: val_loss improved from 1.91350 to 1.33109, saving model to model_from_scratch_best.hdf5\n",
            "61/61 [==============================] - 51s 819ms/step - loss: 1.9163 - accuracy: 0.5104 - val_loss: 1.3311 - val_accuracy: 0.6444\n",
            "Epoch 3/30\n",
            "62/61 [==============================] - ETA: 0s - loss: 1.4109 - accuracy: 0.6370\n",
            "Epoch 00003: val_loss improved from 1.33109 to 1.04880, saving model to model_from_scratch_best.hdf5\n",
            "61/61 [==============================] - 47s 774ms/step - loss: 1.4109 - accuracy: 0.6370 - val_loss: 1.0488 - val_accuracy: 0.7379\n",
            "Epoch 4/30\n",
            "62/61 [==============================] - ETA: 0s - loss: 1.1651 - accuracy: 0.6903\n",
            "Epoch 00004: val_loss improved from 1.04880 to 0.81741, saving model to model_from_scratch_best.hdf5\n",
            "61/61 [==============================] - 48s 780ms/step - loss: 1.1651 - accuracy: 0.6903 - val_loss: 0.8174 - val_accuracy: 0.7613\n",
            "Epoch 5/30\n",
            "62/61 [==============================] - ETA: 0s - loss: 1.0395 - accuracy: 0.7265\n",
            "Epoch 00005: val_loss improved from 0.81741 to 0.74806, saving model to model_from_scratch_best.hdf5\n",
            "61/61 [==============================] - 47s 771ms/step - loss: 1.0395 - accuracy: 0.7265 - val_loss: 0.7481 - val_accuracy: 0.8130\n",
            "Epoch 6/30\n",
            "62/61 [==============================] - ETA: 0s - loss: 0.8751 - accuracy: 0.7586\n",
            "Epoch 00006: val_loss improved from 0.74806 to 0.68744, saving model to model_from_scratch_best.hdf5\n",
            "61/61 [==============================] - 48s 774ms/step - loss: 0.8751 - accuracy: 0.7586 - val_loss: 0.6874 - val_accuracy: 0.8180\n",
            "Epoch 7/30\n",
            "62/61 [==============================] - ETA: 0s - loss: 0.7716 - accuracy: 0.7957\n",
            "Epoch 00007: val_loss improved from 0.68744 to 0.67159, saving model to model_from_scratch_best.hdf5\n",
            "61/61 [==============================] - 47s 769ms/step - loss: 0.7716 - accuracy: 0.7957 - val_loss: 0.6716 - val_accuracy: 0.8164\n",
            "Epoch 8/30\n",
            "62/61 [==============================] - ETA: 0s - loss: 0.7526 - accuracy: 0.8026\n",
            "Epoch 00008: val_loss improved from 0.67159 to 0.60898, saving model to model_from_scratch_best.hdf5\n",
            "61/61 [==============================] - 48s 776ms/step - loss: 0.7526 - accuracy: 0.8026 - val_loss: 0.6090 - val_accuracy: 0.8381\n",
            "Epoch 9/30\n",
            "62/61 [==============================] - ETA: 0s - loss: 0.6308 - accuracy: 0.8270\n",
            "Epoch 00009: val_loss improved from 0.60898 to 0.56596, saving model to model_from_scratch_best.hdf5\n",
            "61/61 [==============================] - 47s 767ms/step - loss: 0.6308 - accuracy: 0.8270 - val_loss: 0.5660 - val_accuracy: 0.8614\n",
            "Epoch 10/30\n",
            "62/61 [==============================] - ETA: 0s - loss: 0.5794 - accuracy: 0.8295\n",
            "Epoch 00010: val_loss improved from 0.56596 to 0.51587, saving model to model_from_scratch_best.hdf5\n",
            "61/61 [==============================] - 48s 780ms/step - loss: 0.5794 - accuracy: 0.8295 - val_loss: 0.5159 - val_accuracy: 0.8447\n",
            "Epoch 11/30\n",
            "62/61 [==============================] - ETA: 0s - loss: 0.5593 - accuracy: 0.8539\n",
            "Epoch 00011: val_loss did not improve from 0.51587\n",
            "61/61 [==============================] - 45s 740ms/step - loss: 0.5593 - accuracy: 0.8539 - val_loss: 0.5688 - val_accuracy: 0.8614\n",
            "Epoch 12/30\n",
            "62/61 [==============================] - ETA: 0s - loss: 0.5503 - accuracy: 0.8567\n",
            "Epoch 00012: val_loss improved from 0.51587 to 0.47648, saving model to model_from_scratch_best.hdf5\n",
            "61/61 [==============================] - 48s 780ms/step - loss: 0.5503 - accuracy: 0.8567 - val_loss: 0.4765 - val_accuracy: 0.8664\n",
            "Epoch 13/30\n",
            "62/61 [==============================] - ETA: 0s - loss: 0.5359 - accuracy: 0.8596\n",
            "Epoch 00013: val_loss did not improve from 0.47648\n",
            "61/61 [==============================] - 46s 742ms/step - loss: 0.5359 - accuracy: 0.8596 - val_loss: 0.5178 - val_accuracy: 0.8664\n",
            "Epoch 14/30\n",
            "62/61 [==============================] - ETA: 0s - loss: 0.5245 - accuracy: 0.8657\n",
            "Epoch 00014: val_loss did not improve from 0.47648\n",
            "61/61 [==============================] - 46s 743ms/step - loss: 0.5245 - accuracy: 0.8657 - val_loss: 0.5399 - val_accuracy: 0.8548\n",
            "Epoch 15/30\n",
            "62/61 [==============================] - ETA: 0s - loss: 0.4429 - accuracy: 0.8799\n",
            "Epoch 00015: val_loss improved from 0.47648 to 0.37692, saving model to model_from_scratch_best.hdf5\n",
            "61/61 [==============================] - 48s 782ms/step - loss: 0.4429 - accuracy: 0.8799 - val_loss: 0.3769 - val_accuracy: 0.8898\n",
            "Epoch 16/30\n",
            "62/61 [==============================] - ETA: 0s - loss: 0.4729 - accuracy: 0.8751\n",
            "Epoch 00016: val_loss did not improve from 0.37692\n",
            "61/61 [==============================] - 46s 745ms/step - loss: 0.4729 - accuracy: 0.8751 - val_loss: 0.4864 - val_accuracy: 0.8681\n",
            "Epoch 17/30\n",
            "62/61 [==============================] - ETA: 0s - loss: 0.3602 - accuracy: 0.9044\n",
            "Epoch 00017: val_loss did not improve from 0.37692\n",
            "61/61 [==============================] - 46s 750ms/step - loss: 0.3602 - accuracy: 0.9044 - val_loss: 0.4423 - val_accuracy: 0.8948\n",
            "Epoch 18/30\n",
            "62/61 [==============================] - ETA: 0s - loss: 0.4043 - accuracy: 0.8860\n",
            "Epoch 00018: val_loss did not improve from 0.37692\n",
            "61/61 [==============================] - 46s 742ms/step - loss: 0.4043 - accuracy: 0.8860 - val_loss: 0.3937 - val_accuracy: 0.8932\n",
            "Epoch 19/30\n",
            "62/61 [==============================] - ETA: 0s - loss: 0.3574 - accuracy: 0.9080\n",
            "Epoch 00019: val_loss did not improve from 0.37692\n",
            "61/61 [==============================] - 46s 742ms/step - loss: 0.3574 - accuracy: 0.9080 - val_loss: 0.4237 - val_accuracy: 0.8831\n",
            "Epoch 20/30\n",
            "62/61 [==============================] - ETA: 0s - loss: 0.3705 - accuracy: 0.9023\n",
            "Epoch 00020: val_loss did not improve from 0.37692\n",
            "61/61 [==============================] - 45s 741ms/step - loss: 0.3705 - accuracy: 0.9023 - val_loss: 0.4251 - val_accuracy: 0.9115\n",
            "Epoch 21/30\n",
            "62/61 [==============================] - ETA: 0s - loss: 0.3801 - accuracy: 0.8946\n",
            "Epoch 00021: val_loss did not improve from 0.37692\n",
            "61/61 [==============================] - 45s 738ms/step - loss: 0.3801 - accuracy: 0.8946 - val_loss: 0.4406 - val_accuracy: 0.8915\n",
            "Epoch 22/30\n",
            "62/61 [==============================] - ETA: 0s - loss: 0.3338 - accuracy: 0.9105\n",
            "Epoch 00022: val_loss did not improve from 0.37692\n",
            "61/61 [==============================] - 45s 738ms/step - loss: 0.3338 - accuracy: 0.9105 - val_loss: 0.4317 - val_accuracy: 0.8765\n",
            "Epoch 23/30\n",
            "62/61 [==============================] - ETA: 0s - loss: 0.3529 - accuracy: 0.9048\n",
            "Epoch 00023: val_loss did not improve from 0.37692\n",
            "61/61 [==============================] - 46s 743ms/step - loss: 0.3529 - accuracy: 0.9048 - val_loss: 0.4186 - val_accuracy: 0.8881\n",
            "Epoch 24/30\n",
            "62/61 [==============================] - ETA: 0s - loss: 0.3375 - accuracy: 0.8991\n",
            "Epoch 00024: val_loss did not improve from 0.37692\n",
            "61/61 [==============================] - 46s 746ms/step - loss: 0.3375 - accuracy: 0.8991 - val_loss: 0.4282 - val_accuracy: 0.8998\n",
            "Epoch 25/30\n",
            "62/61 [==============================] - ETA: 0s - loss: 0.2917 - accuracy: 0.9198\n",
            "Epoch 00025: val_loss improved from 0.37692 to 0.31221, saving model to model_from_scratch_best.hdf5\n",
            "61/61 [==============================] - 48s 775ms/step - loss: 0.2917 - accuracy: 0.9198 - val_loss: 0.3122 - val_accuracy: 0.9098\n",
            "Epoch 26/30\n",
            "62/61 [==============================] - ETA: 0s - loss: 0.3251 - accuracy: 0.9105\n",
            "Epoch 00026: val_loss did not improve from 0.31221\n",
            "61/61 [==============================] - 45s 737ms/step - loss: 0.3251 - accuracy: 0.9105 - val_loss: 0.3851 - val_accuracy: 0.9098\n",
            "Epoch 27/30\n",
            "62/61 [==============================] - ETA: 0s - loss: 0.2688 - accuracy: 0.9239\n",
            "Epoch 00027: val_loss did not improve from 0.31221\n",
            "61/61 [==============================] - 46s 742ms/step - loss: 0.2688 - accuracy: 0.9239 - val_loss: 0.3605 - val_accuracy: 0.9015\n",
            "Epoch 28/30\n",
            "62/61 [==============================] - ETA: 0s - loss: 0.2842 - accuracy: 0.9259\n",
            "Epoch 00028: val_loss did not improve from 0.31221\n",
            "61/61 [==============================] - 45s 737ms/step - loss: 0.2842 - accuracy: 0.9259 - val_loss: 0.3831 - val_accuracy: 0.8798\n",
            "Epoch 29/30\n",
            "62/61 [==============================] - ETA: 0s - loss: 0.2316 - accuracy: 0.9345\n",
            "Epoch 00029: val_loss did not improve from 0.31221\n",
            "61/61 [==============================] - 45s 735ms/step - loss: 0.2316 - accuracy: 0.9345 - val_loss: 0.3674 - val_accuracy: 0.9165\n",
            "Epoch 30/30\n",
            "62/61 [==============================] - ETA: 0s - loss: 0.2430 - accuracy: 0.9333\n",
            "Epoch 00030: val_loss did not improve from 0.31221\n",
            "61/61 [==============================] - 45s 737ms/step - loss: 0.2430 - accuracy: 0.9333 - val_loss: 0.3948 - val_accuracy: 0.9065\n"
          ]
        }
      ],
      "source": [
        "history = model.fit_generator(train_generator,\n",
        "                              validation_data=validation_generator,\n",
        "                              # steps_per_epoch=50,\n",
        "                              steps_per_epoch=train_generator.samples/train_generator.batch_size,\n",
        "                              epochs=30,\n",
        "                              validation_steps=15,\n",
        "                              verbose=1,\n",
        "                              callbacks=my_callbacks)"
      ]
    },
    {
      "cell_type": "code",
      "execution_count": 9,
      "metadata": {
        "id": "BZANTHekSznu",
        "colab": {
          "base_uri": "https://localhost:8080/"
        },
        "outputId": "ca39e652-a7b9-448d-a0e4-26e2409ea6ee"
      },
      "outputs": [
        {
          "output_type": "stream",
          "name": "stdout",
          "text": [
            "Found 2149 images belonging to 34 classes.\n"
          ]
        }
      ],
      "source": [
        "# test_datagen  = ImageDataGenerator(rescale=1./255)\n",
        "test_datagen  = ImageDataGenerator()\n",
        "# --------------------\n",
        "# Flow testing images in batches using test_datagen generator\n",
        "# --------------------\n",
        "test_generator =  test_datagen.flow_from_directory(test_dir,\n",
        "                                                   batch_size=10,\n",
        "                                                   class_mode='categorical',\n",
        "                                                  #  color_mode='grayscale',\n",
        "                                                   target_size=(256,256))\n",
        "# # Testing the CNN on testing data : \n",
        "# loss, acc = model.evaluate(test_generator)"
      ]
    },
    {
      "cell_type": "code",
      "execution_count": 10,
      "metadata": {
        "id": "Q3PTISh9XtGh",
        "colab": {
          "base_uri": "https://localhost:8080/",
          "height": 320
        },
        "outputId": "e4bbd49a-7f92-4770-c131-4d5c743a110a"
      },
      "outputs": [
        {
          "output_type": "stream",
          "name": "stdout",
          "text": [
            "215/215 [==============================] - 5s 21ms/step - loss: 1.7251 - accuracy: 0.7343\n"
          ]
        },
        {
          "output_type": "display_data",
          "data": {
            "image/png": "[encoded data removed]",
            "text/plain": [
              "<Figure size 432x288 with 1 Axes>"
            ]
          },
          "metadata": {
            "needs_background": "light"
          }
        }
      ],
      "source": [
        "import matplotlib.pyplot as plt\n",
        "\n",
        "plt.plot(history.history['accuracy'], label='accuracy')\n",
        "plt.plot(history.history['val_accuracy'], label = 'val_accuracy')\n",
        "plt.xlabel('Epoch')\n",
        "plt.ylabel('Accuracy')\n",
        "plt.ylim([0, 1])\n",
        "plt.legend(loc='lower right')\n",
        "\n",
        "# Testing the CNN on testing data : \n",
        "loss, acc = model.evaluate(test_generator)"
      ]
    },
    {
      "cell_type": "code",
      "source": [
        "# # Loading the best state model from the content folder : \n",
        "\n",
        "model_saved = models.load_model('/content/model_from_scratch_best.hdf5')\n",
        "model_saved.summary()"
      ],
      "metadata": {
        "colab": {
          "base_uri": "https://localhost:8080/"
        },
        "id": "DmXJP6VsLlS9",
        "outputId": "1986875c-c091-4a88-86ef-28c4d066e0ef"
      },
      "execution_count": 11,
      "outputs": [
        {
          "output_type": "stream",
          "name": "stdout",
          "text": [
            "Model: \"sequential\"\n",
            "_________________________________________________________________\n",
            " Layer (type)                Output Shape              Param #   \n",
            "=================================================================\n",
            " conv2d (Conv2D)             (None, 254, 254, 32)      896       \n",
            "                                                                 \n",
            " max_pooling2d (MaxPooling2D  (None, 127, 127, 32)     0         \n",
            " )                                                               \n",
            "                                                                 \n",
            " conv2d_1 (Conv2D)           (None, 125, 125, 64)      18496     \n",
            "                                                                 \n",
            " max_pooling2d_1 (MaxPooling  (None, 62, 62, 64)       0         \n",
            " 2D)                                                             \n",
            "                                                                 \n",
            " conv2d_2 (Conv2D)           (None, 60, 60, 128)       73856     \n",
            "                                                                 \n",
            " max_pooling2d_2 (MaxPooling  (None, 30, 30, 128)      0         \n",
            " 2D)                                                             \n",
            "                                                                 \n",
            " conv2d_3 (Conv2D)           (None, 28, 28, 256)       295168    \n",
            "                                                                 \n",
            " max_pooling2d_3 (MaxPooling  (None, 14, 14, 256)      0         \n",
            " 2D)                                                             \n",
            "                                                                 \n",
            " flatten (Flatten)           (None, 50176)             0         \n",
            "                                                                 \n",
            " dense (Dense)               (None, 1024)              51381248  \n",
            "                                                                 \n",
            " dropout (Dropout)           (None, 1024)              0         \n",
            "                                                                 \n",
            " dense_1 (Dense)             (None, 34)                34850     \n",
            "                                                                 \n",
            "=================================================================\n",
            "Total params: 51,804,514\n",
            "Trainable params: 51,804,514\n",
            "Non-trainable params: 0\n",
            "_________________________________________________________________\n"
          ]
        }
      ]
    },
    {
      "cell_type": "code",
      "source": [
        " loss_saved, acc_saved = model_saved.evaluate(test_generator)"
      ],
      "metadata": {
        "colab": {
          "base_uri": "https://localhost:8080/"
        },
        "id": "gD96ihm6LwpB",
        "outputId": "31b99b8d-e0c8-470a-e5ca-00fad1eb4f5f"
      },
      "execution_count": 12,
      "outputs": [
        {
          "output_type": "stream",
          "name": "stdout",
          "text": [
            "215/215 [==============================] - 3s 14ms/step - loss: 1.5612 - accuracy: 0.7231\n"
          ]
        }
      ]
    }
  ],
  "metadata": {
    "accelerator": "GPU",
    "colab": {
      "collapsed_sections": [],
      "name": "CV_Project_4_NOT_pretrained.ipynb",
      "provenance": [],
      "authorship_tag": "ABX9TyObWJR0ttiy+O/tfUweufnL"
    },
    "kernelspec": {
      "display_name": "Python 3",
      "name": "python3"
    },
    "language_info": {
      "name": "python"
    }
  },
  "nbformat": 4,
  "nbformat_minor": 0
}