{
  "cells": [
    {
      "cell_type": "code",
      "execution_count": 5,
      "metadata": {
        "colab": {
          "base_uri": "https://localhost:8080/"
        },
        "id": "1efK3dBnSNsW",
        "outputId": "5cdcaf44-7587-4b73-a7f7-b141ced2da1d"
      },
      "outputs": [
        {
          "output_type": "stream",
          "name": "stdout",
          "text": [
            "Drive already mounted at /content/drive; to attempt to forcibly remount, call drive.mount(\"/content/drive\", force_remount=True).\n"
          ]
        }
      ],
      "source": [
        "# Mount google drive :\n",
        "\n",
        "from google.colab import drive\n",
        "drive.mount('/content/drive')"
      ]
    },
    {
      "cell_type": "code",
      "execution_count": 6,
      "metadata": {
        "id": "UES-_QQCSXQM"
      },
      "outputs": [],
      "source": [
        "# Unzip the dataset and save it to the path \"/content/imagedb_btsd\" :\n",
        "import os\n",
        "import zipfile\n",
        "\n",
        "local_zip = '/content/drive/MyDrive/cv_proj_4_dataset/imagedb_btsd.zip'\n",
        "\n",
        "zip_ref = zipfile.ZipFile(local_zip, 'r')\n",
        "zip_ref.extractall('/content/imagedb_btsd')\n",
        "zip_ref.close()"
      ]
    },
    {
      "cell_type": "code",
      "execution_count": 7,
      "metadata": {
        "id": "23UpZ_4lTZGN"
      },
      "outputs": [],
      "source": [
        "# Select the folder \"imagedb\" as the training folder\n",
        "# and the folder \"imagedb_test\" as the testing folder :\n",
        "\n",
        "base_dir = '/content/imagedb_btsd'\n",
        "\n",
        "train_dir = os.path.join(base_dir, 'imagedb')\n",
        "test_dir = os.path.join(base_dir, 'imagedb_test')"
      ]
    },
    {
      "cell_type": "code",
      "execution_count": 8,
      "metadata": {
        "colab": {
          "base_uri": "https://localhost:8080/"
        },
        "id": "VAg9eIeSShP9",
        "outputId": "dfeb10e7-c3bc-4ef6-9bad-a9febd3b44ac"
      },
      "outputs": [
        {
          "output_type": "stream",
          "name": "stdout",
          "text": [
            "Model: \"sequential_1\"\n",
            "_________________________________________________________________\n",
            " Layer (type)                Output Shape              Param #   \n",
            "=================================================================\n",
            " conv2d_1 (Conv2D)           (None, 254, 254, 32)      896       \n",
            "                                                                 \n",
            " max_pooling2d (MaxPooling2D  (None, 127, 127, 32)     0         \n",
            " )                                                               \n",
            "                                                                 \n",
            " conv2d_2 (Conv2D)           (None, 125, 125, 64)      18496     \n",
            "                                                                 \n",
            " max_pooling2d_1 (MaxPooling  (None, 62, 62, 64)       0         \n",
            " 2D)                                                             \n",
            "                                                                 \n",
            " conv2d_3 (Conv2D)           (None, 60, 60, 64)        36928     \n",
            "                                                                 \n",
            " max_pooling2d_2 (MaxPooling  (None, 30, 30, 64)       0         \n",
            " 2D)                                                             \n",
            "                                                                 \n",
            " conv2d_4 (Conv2D)           (None, 28, 28, 128)       73856     \n",
            "                                                                 \n",
            " max_pooling2d_3 (MaxPooling  (None, 14, 14, 128)      0         \n",
            " 2D)                                                             \n",
            "                                                                 \n",
            " flatten (Flatten)           (None, 25088)             0         \n",
            "                                                                 \n",
            " dense (Dense)               (None, 1024)              25691136  \n",
            "                                                                 \n",
            " dropout (Dropout)           (None, 1024)              0         \n",
            "                                                                 \n",
            " dense_1 (Dense)             (None, 34)                34850     \n",
            "                                                                 \n",
            "=================================================================\n",
            "Total params: 25,856,162\n",
            "Trainable params: 25,856,162\n",
            "Non-trainable params: 0\n",
            "_________________________________________________________________\n"
          ]
        }
      ],
      "source": [
        "import tensorflow as tf\n",
        "\n",
        "from tensorflow.keras import datasets, layers, models\n",
        "from keras import optimizers\n",
        "\n",
        "\n",
        "model = models.Sequential()\n",
        "model.add(layers.Conv2D(32, (3, 3), padding=\"valid\", activation='relu', input_shape=(256, 256, 3)))\n",
        "model.add(layers.MaxPooling2D((2, 2)))\n",
        "\n",
        "model.add(layers.Conv2D(64, (3, 3), padding=\"valid\", activation='relu'))\n",
        "model.add(layers.MaxPooling2D((2, 2)))\n",
        "\n",
        "model.add(layers.Conv2D(64, (3, 3), padding=\"valid\", activation='relu'))\n",
        "model.add(layers.MaxPooling2D((2, 2)))\n",
        "\n",
        "model.add(layers.Conv2D(128, (3, 3), padding=\"valid\", activation='relu'))\n",
        "model.add(layers.MaxPooling2D((2, 2)))\n",
        "\n",
        "model.add(layers.Flatten())\n",
        "model.add(layers.Dense(1024, activation='relu'))\n",
        "model.add(layers.Dropout(0.5))\n",
        "model.add(layers.Dense(34, activation='softmax'))\n",
        "\n",
        "model.compile(optimizer=optimizers.adam_v2.Adam(learning_rate=1e-4),\n",
        "              loss = 'categorical_crossentropy',\n",
        "              metrics=['accuracy'])\n",
        "\n",
        "\n",
        "model.summary()"
      ]
    },
    {
      "cell_type": "code",
      "execution_count": 9,
      "metadata": {
        "colab": {
          "base_uri": "https://localhost:8080/"
        },
        "id": "fWGtpHkotMbZ",
        "outputId": "d3d80584-d5bf-4c9c-9911-6ac09e7d9a4a"
      },
      "outputs": [
        {
          "output_type": "stream",
          "name": "stdout",
          "text": [
            "<keras.layers.convolutional.Conv2D object at 0x7f46ea3e6f10> True\n",
            "<keras.layers.pooling.MaxPooling2D object at 0x7f47e0232390> True\n",
            "<keras.layers.convolutional.Conv2D object at 0x7f47dc5037d0> True\n",
            "<keras.layers.pooling.MaxPooling2D object at 0x7f47dc53a310> True\n",
            "<keras.layers.convolutional.Conv2D object at 0x7f476a612510> True\n",
            "<keras.layers.pooling.MaxPooling2D object at 0x7f47dc482fd0> True\n",
            "<keras.layers.convolutional.Conv2D object at 0x7f47dc482f50> True\n",
            "<keras.layers.pooling.MaxPooling2D object at 0x7f47dc497a90> True\n",
            "<keras.layers.core.flatten.Flatten object at 0x7f47dc49d190> True\n",
            "<keras.layers.core.dense.Dense object at 0x7f47dc4a1e50> True\n",
            "<keras.layers.core.dropout.Dropout object at 0x7f47dc503c90> True\n",
            "<keras.layers.core.dense.Dense object at 0x7f47dc574650> True\n"
          ]
        }
      ],
      "source": [
        "# check this :\n",
        "\n",
        "# Check the trainable status of the individual layers\n",
        "for layer in model.layers:\n",
        "    print(layer, layer.trainable)"
      ]
    },
    {
      "cell_type": "code",
      "execution_count": 10,
      "metadata": {
        "colab": {
          "base_uri": "https://localhost:8080/"
        },
        "id": "UWDZ2ZpnShK9",
        "outputId": "0df17845-1bb8-4dee-8cec-e7122a1f8094"
      },
      "outputs": [
        {
          "output_type": "stream",
          "name": "stdout",
          "text": [
            "Found 2457 images belonging to 34 classes.\n",
            "Found 599 images belonging to 34 classes.\n"
          ]
        }
      ],
      "source": [
        "from tensorflow.keras.preprocessing.image import ImageDataGenerator\n",
        "\n",
        "train_datagen = ImageDataGenerator(rotation_range = 90,\n",
        "                                  horizontal_flip=True,\n",
        "                                  vertical_flip = True,\n",
        "                                   brightness_range=[0.2,1.0],\n",
        "                                   zoom_range=[0.5,1.0],                                   \n",
        "                                   validation_split=0.2)\n",
        "                                  #  preprocessing_function = preprocess_func)\n",
        "                                  \n",
        "#train_datagen  = ImageDataGenerator(rescale=1./255, validation_split=0.2)\n",
        "\n",
        "# --------------------\n",
        "# Flow training images in batches using train_datagen generator\n",
        "# --------------------\n",
        "train_generator = train_datagen.flow_from_directory(train_dir,\n",
        "                                                    batch_size=40,\n",
        "                                                    class_mode='categorical',\n",
        "                                                    # color_mode='grayscale',\n",
        "                                                    target_size=(256,256),\n",
        "                                                    shuffle=True,\n",
        "                                                    subset='training', seed=1)     \n",
        "# --------------------\n",
        "# Flow validation images in batches using test_datagen generator\n",
        "# --------------------\n",
        "validation_generator =  train_datagen.flow_from_directory(train_dir,\n",
        "                                                          batch_size=40,\n",
        "                                                          class_mode='categorical',\n",
        "                                                          # color_mode='grayscale',\n",
        "                                                          target_size=(256,256),\n",
        "                                                          subset='validation', seed=1)\n"
      ]
    },
    {
      "cell_type": "code",
      "execution_count": 11,
      "metadata": {
        "id": "ueQ8b0eukBoi"
      },
      "outputs": [],
      "source": [
        "# Apply callbacks :\n",
        "\n",
        "import datetime \n",
        "import tensorflow as tf\n",
        "  \n",
        "my_callbacks = []\n",
        "\n",
        "# logdir = os.path.join(\"/content/logs\", datetime.datetime.now().strftime(\"%Y%m%d-%H%M%S\"))\n",
        "# tensorboard_callback = tf.keras.callbacks.TensorBoard(logdir, histogram_freq=1)\n",
        "# my_callbacks.append(tensorboard_callback)\n",
        "\n",
        "save_best_callback = tf.keras.callbacks.ModelCheckpoint(f'model_from_scratch_best.hdf5', save_best_only=True, verbose=1)\n",
        "my_callbacks.append(save_best_callback)\n",
        "\n",
        "early_stop_callback = tf.keras.callbacks.EarlyStopping(patience=10, restore_best_weights=True, verbose=1)\n",
        "my_callbacks.append(early_stop_callback)"
      ]
    },
    {
      "cell_type": "code",
      "execution_count": 12,
      "metadata": {
        "colab": {
          "base_uri": "https://localhost:8080/"
        },
        "id": "P5iuGSf2TzI_",
        "outputId": "b73bd27b-802b-4843-9e6b-3448aacb2772"
      },
      "outputs": [
        {
          "output_type": "stream",
          "name": "stderr",
          "text": [
            "/usr/local/lib/python3.7/dist-packages/ipykernel_launcher.py:8: UserWarning: `Model.fit_generator` is deprecated and will be removed in a future version. Please use `Model.fit`, which supports generators.\n",
            "  \n"
          ]
        },
        {
          "output_type": "stream",
          "name": "stdout",
          "text": [
            "Epoch 1/30\n",
            "62/61 [==============================] - ETA: 0s - loss: 8.7828 - accuracy: 0.2202\n",
            "Epoch 00001: val_loss improved from inf to 2.11744, saving model to model_from_scratch_best.hdf5\n",
            "61/61 [==============================] - 53s 795ms/step - loss: 8.7828 - accuracy: 0.2202 - val_loss: 2.1174 - val_accuracy: 0.4474\n",
            "Epoch 2/30\n",
            "62/61 [==============================] - ETA: 0s - loss: 2.1640 - accuracy: 0.4501\n",
            "Epoch 00002: val_loss improved from 2.11744 to 1.55425, saving model to model_from_scratch_best.hdf5\n",
            "61/61 [==============================] - 48s 785ms/step - loss: 2.1640 - accuracy: 0.4501 - val_loss: 1.5542 - val_accuracy: 0.5943\n",
            "Epoch 3/30\n",
            "62/61 [==============================] - ETA: 0s - loss: 1.7530 - accuracy: 0.5364\n",
            "Epoch 00003: val_loss improved from 1.55425 to 1.14038, saving model to model_from_scratch_best.hdf5\n",
            "61/61 [==============================] - 49s 794ms/step - loss: 1.7530 - accuracy: 0.5364 - val_loss: 1.1404 - val_accuracy: 0.7145\n",
            "Epoch 4/30\n",
            "62/61 [==============================] - ETA: 0s - loss: 1.4668 - accuracy: 0.6077\n",
            "Epoch 00004: val_loss improved from 1.14038 to 1.07719, saving model to model_from_scratch_best.hdf5\n",
            "61/61 [==============================] - 47s 770ms/step - loss: 1.4668 - accuracy: 0.6077 - val_loss: 1.0772 - val_accuracy: 0.7245\n",
            "Epoch 5/30\n",
            "62/61 [==============================] - ETA: 0s - loss: 1.2995 - accuracy: 0.6638\n",
            "Epoch 00005: val_loss improved from 1.07719 to 0.87986, saving model to model_from_scratch_best.hdf5\n",
            "61/61 [==============================] - 48s 775ms/step - loss: 1.2995 - accuracy: 0.6638 - val_loss: 0.8799 - val_accuracy: 0.7963\n",
            "Epoch 6/30\n",
            "62/61 [==============================] - ETA: 0s - loss: 1.0916 - accuracy: 0.7053\n",
            "Epoch 00006: val_loss improved from 0.87986 to 0.77914, saving model to model_from_scratch_best.hdf5\n",
            "61/61 [==============================] - 47s 769ms/step - loss: 1.0916 - accuracy: 0.7053 - val_loss: 0.7791 - val_accuracy: 0.7930\n",
            "Epoch 7/30\n",
            "62/61 [==============================] - ETA: 0s - loss: 0.9757 - accuracy: 0.7334\n",
            "Epoch 00007: val_loss did not improve from 0.77914\n",
            "61/61 [==============================] - 45s 734ms/step - loss: 0.9757 - accuracy: 0.7334 - val_loss: 0.7798 - val_accuracy: 0.8264\n",
            "Epoch 8/30\n",
            "62/61 [==============================] - ETA: 0s - loss: 0.9320 - accuracy: 0.7489\n",
            "Epoch 00008: val_loss improved from 0.77914 to 0.67124, saving model to model_from_scratch_best.hdf5\n",
            "61/61 [==============================] - 46s 750ms/step - loss: 0.9320 - accuracy: 0.7489 - val_loss: 0.6712 - val_accuracy: 0.8414\n",
            "Epoch 9/30\n",
            "62/61 [==============================] - ETA: 0s - loss: 0.8436 - accuracy: 0.7676\n",
            "Epoch 00009: val_loss improved from 0.67124 to 0.67083, saving model to model_from_scratch_best.hdf5\n",
            "61/61 [==============================] - 46s 747ms/step - loss: 0.8436 - accuracy: 0.7676 - val_loss: 0.6708 - val_accuracy: 0.8247\n",
            "Epoch 10/30\n",
            "62/61 [==============================] - ETA: 0s - loss: 0.8130 - accuracy: 0.7782\n",
            "Epoch 00010: val_loss improved from 0.67083 to 0.59619, saving model to model_from_scratch_best.hdf5\n",
            "61/61 [==============================] - 46s 747ms/step - loss: 0.8130 - accuracy: 0.7782 - val_loss: 0.5962 - val_accuracy: 0.8598\n",
            "Epoch 11/30\n",
            "62/61 [==============================] - ETA: 0s - loss: 0.7466 - accuracy: 0.7965\n",
            "Epoch 00011: val_loss did not improve from 0.59619\n",
            "61/61 [==============================] - 45s 729ms/step - loss: 0.7466 - accuracy: 0.7965 - val_loss: 0.6509 - val_accuracy: 0.8214\n",
            "Epoch 12/30\n",
            "62/61 [==============================] - ETA: 0s - loss: 0.6622 - accuracy: 0.8193\n",
            "Epoch 00012: val_loss improved from 0.59619 to 0.54556, saving model to model_from_scratch_best.hdf5\n",
            "61/61 [==============================] - 46s 749ms/step - loss: 0.6622 - accuracy: 0.8193 - val_loss: 0.5456 - val_accuracy: 0.8781\n",
            "Epoch 13/30\n",
            "62/61 [==============================] - ETA: 0s - loss: 0.6769 - accuracy: 0.8217\n",
            "Epoch 00013: val_loss did not improve from 0.54556\n",
            "61/61 [==============================] - 45s 736ms/step - loss: 0.6769 - accuracy: 0.8217 - val_loss: 0.5799 - val_accuracy: 0.8514\n",
            "Epoch 14/30\n",
            "62/61 [==============================] - ETA: 0s - loss: 0.6391 - accuracy: 0.8287\n",
            "Epoch 00014: val_loss improved from 0.54556 to 0.51974, saving model to model_from_scratch_best.hdf5\n",
            "61/61 [==============================] - 46s 746ms/step - loss: 0.6391 - accuracy: 0.8287 - val_loss: 0.5197 - val_accuracy: 0.8648\n",
            "Epoch 15/30\n",
            "62/61 [==============================] - ETA: 0s - loss: 0.5568 - accuracy: 0.8437\n",
            "Epoch 00015: val_loss improved from 0.51974 to 0.50600, saving model to model_from_scratch_best.hdf5\n",
            "61/61 [==============================] - 46s 747ms/step - loss: 0.5568 - accuracy: 0.8437 - val_loss: 0.5060 - val_accuracy: 0.8681\n",
            "Epoch 16/30\n",
            "62/61 [==============================] - ETA: 0s - loss: 0.5629 - accuracy: 0.8478\n",
            "Epoch 00016: val_loss improved from 0.50600 to 0.46094, saving model to model_from_scratch_best.hdf5\n",
            "61/61 [==============================] - 46s 745ms/step - loss: 0.5629 - accuracy: 0.8478 - val_loss: 0.4609 - val_accuracy: 0.8781\n",
            "Epoch 17/30\n",
            "62/61 [==============================] - ETA: 0s - loss: 0.5581 - accuracy: 0.8539\n",
            "Epoch 00017: val_loss did not improve from 0.46094\n",
            "61/61 [==============================] - 45s 740ms/step - loss: 0.5581 - accuracy: 0.8539 - val_loss: 0.5394 - val_accuracy: 0.8731\n",
            "Epoch 18/30\n",
            "62/61 [==============================] - ETA: 0s - loss: 0.4999 - accuracy: 0.8571\n",
            "Epoch 00018: val_loss did not improve from 0.46094\n",
            "61/61 [==============================] - 45s 738ms/step - loss: 0.4999 - accuracy: 0.8571 - val_loss: 0.5194 - val_accuracy: 0.8598\n",
            "Epoch 19/30\n",
            "62/61 [==============================] - ETA: 0s - loss: 0.4966 - accuracy: 0.8669\n",
            "Epoch 00019: val_loss improved from 0.46094 to 0.45322, saving model to model_from_scratch_best.hdf5\n",
            "61/61 [==============================] - 49s 793ms/step - loss: 0.4966 - accuracy: 0.8669 - val_loss: 0.4532 - val_accuracy: 0.8932\n",
            "Epoch 20/30\n",
            "62/61 [==============================] - ETA: 0s - loss: 0.4792 - accuracy: 0.8767\n",
            "Epoch 00020: val_loss did not improve from 0.45322\n",
            "61/61 [==============================] - 45s 735ms/step - loss: 0.4792 - accuracy: 0.8767 - val_loss: 0.5117 - val_accuracy: 0.8648\n",
            "Epoch 21/30\n",
            "62/61 [==============================] - ETA: 0s - loss: 0.4755 - accuracy: 0.8714\n",
            "Epoch 00021: val_loss did not improve from 0.45322\n",
            "61/61 [==============================] - 45s 729ms/step - loss: 0.4755 - accuracy: 0.8714 - val_loss: 0.4624 - val_accuracy: 0.8831\n",
            "Epoch 22/30\n",
            "62/61 [==============================] - ETA: 0s - loss: 0.4290 - accuracy: 0.8812\n",
            "Epoch 00022: val_loss improved from 0.45322 to 0.43783, saving model to model_from_scratch_best.hdf5\n",
            "61/61 [==============================] - 46s 745ms/step - loss: 0.4290 - accuracy: 0.8812 - val_loss: 0.4378 - val_accuracy: 0.8798\n",
            "Epoch 23/30\n",
            "62/61 [==============================] - ETA: 0s - loss: 0.3998 - accuracy: 0.8897\n",
            "Epoch 00023: val_loss did not improve from 0.43783\n",
            "61/61 [==============================] - 45s 729ms/step - loss: 0.3998 - accuracy: 0.8897 - val_loss: 0.4682 - val_accuracy: 0.8748\n",
            "Epoch 24/30\n",
            "62/61 [==============================] - ETA: 0s - loss: 0.4175 - accuracy: 0.8783\n",
            "Epoch 00024: val_loss improved from 0.43783 to 0.42606, saving model to model_from_scratch_best.hdf5\n",
            "61/61 [==============================] - 46s 745ms/step - loss: 0.4175 - accuracy: 0.8783 - val_loss: 0.4261 - val_accuracy: 0.8848\n",
            "Epoch 25/30\n",
            "62/61 [==============================] - ETA: 0s - loss: 0.3734 - accuracy: 0.8934\n",
            "Epoch 00025: val_loss did not improve from 0.42606\n",
            "61/61 [==============================] - 45s 730ms/step - loss: 0.3734 - accuracy: 0.8934 - val_loss: 0.4311 - val_accuracy: 0.8915\n",
            "Epoch 26/30\n",
            "62/61 [==============================] - ETA: 0s - loss: 0.4019 - accuracy: 0.8909\n",
            "Epoch 00026: val_loss did not improve from 0.42606\n",
            "61/61 [==============================] - 45s 729ms/step - loss: 0.4019 - accuracy: 0.8909 - val_loss: 0.4447 - val_accuracy: 0.8848\n",
            "Epoch 27/30\n",
            "62/61 [==============================] - ETA: 0s - loss: 0.4007 - accuracy: 0.8930\n",
            "Epoch 00027: val_loss improved from 0.42606 to 0.40097, saving model to model_from_scratch_best.hdf5\n",
            "61/61 [==============================] - 46s 744ms/step - loss: 0.4007 - accuracy: 0.8930 - val_loss: 0.4010 - val_accuracy: 0.8898\n",
            "Epoch 28/30\n",
            "62/61 [==============================] - ETA: 0s - loss: 0.3842 - accuracy: 0.9035\n",
            "Epoch 00028: val_loss did not improve from 0.40097\n",
            "61/61 [==============================] - 45s 728ms/step - loss: 0.3842 - accuracy: 0.9035 - val_loss: 0.4156 - val_accuracy: 0.8865\n",
            "Epoch 29/30\n",
            "62/61 [==============================] - ETA: 0s - loss: 0.3641 - accuracy: 0.8930\n",
            "Epoch 00029: val_loss did not improve from 0.40097\n",
            "61/61 [==============================] - 45s 730ms/step - loss: 0.3641 - accuracy: 0.8930 - val_loss: 0.4305 - val_accuracy: 0.9015\n",
            "Epoch 30/30\n",
            "62/61 [==============================] - ETA: 0s - loss: 0.3606 - accuracy: 0.9072\n",
            "Epoch 00030: val_loss did not improve from 0.40097\n",
            "61/61 [==============================] - 45s 730ms/step - loss: 0.3606 - accuracy: 0.9072 - val_loss: 0.4087 - val_accuracy: 0.8781\n"
          ]
        }
      ],
      "source": [
        "history = model.fit_generator(train_generator,\n",
        "                              validation_data=validation_generator,\n",
        "                              # steps_per_epoch=50,\n",
        "                              steps_per_epoch=train_generator.samples/train_generator.batch_size,\n",
        "                              epochs=30,\n",
        "                              validation_steps=15,\n",
        "                              verbose=1,\n",
        "                              callbacks=my_callbacks)"
      ]
    },
    {
      "cell_type": "code",
      "execution_count": 13,
      "metadata": {
        "id": "BZANTHekSznu",
        "colab": {
          "base_uri": "https://localhost:8080/"
        },
        "outputId": "1f8021cc-25fd-4692-bf1f-0cc5bba8197e"
      },
      "outputs": [
        {
          "output_type": "stream",
          "name": "stdout",
          "text": [
            "Found 2149 images belonging to 34 classes.\n"
          ]
        }
      ],
      "source": [
        "# test_datagen  = ImageDataGenerator(rescale=1./255)\n",
        "test_datagen  = ImageDataGenerator()\n",
        "# --------------------\n",
        "# Flow testing images in batches using test_datagen generator\n",
        "# --------------------\n",
        "test_generator =  test_datagen.flow_from_directory(test_dir,\n",
        "                                                   batch_size=10,\n",
        "                                                   class_mode='categorical',\n",
        "                                                  #  color_mode='grayscale',\n",
        "                                                   target_size=(256,256))\n",
        "# # Testing the CNN on testing data : \n",
        "# loss, acc = model.evaluate(test_generator)"
      ]
    },
    {
      "cell_type": "code",
      "execution_count": 14,
      "metadata": {
        "id": "Q3PTISh9XtGh",
        "colab": {
          "base_uri": "https://localhost:8080/",
          "height": 320
        },
        "outputId": "6888dd17-f57a-4bdd-d40b-ce26854fc1f0"
      },
      "outputs": [
        {
          "output_type": "stream",
          "name": "stdout",
          "text": [
            "215/215 [==============================] - 3s 13ms/step - loss: 1.5091 - accuracy: 0.7436\n"
          ]
        },
        {
          "output_type": "display_data",
          "data": {
            "image/png": "[encoded data removed]",
            "text/plain": [
              "<Figure size 432x288 with 1 Axes>"
            ]
          },
          "metadata": {
            "needs_background": "light"
          }
        }
      ],
      "source": [
        "import matplotlib.pyplot as plt\n",
        "\n",
        "plt.plot(history.history['accuracy'], label='accuracy')\n",
        "plt.plot(history.history['val_accuracy'], label = 'val_accuracy')\n",
        "plt.xlabel('Epoch')\n",
        "plt.ylabel('Accuracy')\n",
        "plt.ylim([0, 1])\n",
        "plt.legend(loc='lower right')\n",
        "\n",
        "# Testing the CNN on testing data : \n",
        "loss, acc = model.evaluate(test_generator)"
      ]
    },
    {
      "cell_type": "code",
      "source": [
        "# # Loading the best state model from the content folder : \n",
        "\n",
        "model_saved = models.load_model('/content/model_from_scratch_best.hdf5')\n",
        "model_saved.summary()"
      ],
      "metadata": {
        "colab": {
          "base_uri": "https://localhost:8080/"
        },
        "id": "DmXJP6VsLlS9",
        "outputId": "3fb9c37d-d245-471d-fb09-f733e747b64c"
      },
      "execution_count": 15,
      "outputs": [
        {
          "output_type": "stream",
          "name": "stdout",
          "text": [
            "Model: \"sequential_1\"\n",
            "_________________________________________________________________\n",
            " Layer (type)                Output Shape              Param #   \n",
            "=================================================================\n",
            " conv2d_1 (Conv2D)           (None, 254, 254, 32)      896       \n",
            "                                                                 \n",
            " max_pooling2d (MaxPooling2D  (None, 127, 127, 32)     0         \n",
            " )                                                               \n",
            "                                                                 \n",
            " conv2d_2 (Conv2D)           (None, 125, 125, 64)      18496     \n",
            "                                                                 \n",
            " max_pooling2d_1 (MaxPooling  (None, 62, 62, 64)       0         \n",
            " 2D)                                                             \n",
            "                                                                 \n",
            " conv2d_3 (Conv2D)           (None, 60, 60, 64)        36928     \n",
            "                                                                 \n",
            " max_pooling2d_2 (MaxPooling  (None, 30, 30, 64)       0         \n",
            " 2D)                                                             \n",
            "                                                                 \n",
            " conv2d_4 (Conv2D)           (None, 28, 28, 128)       73856     \n",
            "                                                                 \n",
            " max_pooling2d_3 (MaxPooling  (None, 14, 14, 128)      0         \n",
            " 2D)                                                             \n",
            "                                                                 \n",
            " flatten (Flatten)           (None, 25088)             0         \n",
            "                                                                 \n",
            " dense (Dense)               (None, 1024)              25691136  \n",
            "                                                                 \n",
            " dropout (Dropout)           (None, 1024)              0         \n",
            "                                                                 \n",
            " dense_1 (Dense)             (None, 34)                34850     \n",
            "                                                                 \n",
            "=================================================================\n",
            "Total params: 25,856,162\n",
            "Trainable params: 25,856,162\n",
            "Non-trainable params: 0\n",
            "_________________________________________________________________\n"
          ]
        }
      ]
    },
    {
      "cell_type": "code",
      "source": [
        " loss_saved, acc_saved = model_saved.evaluate(test_generator)"
      ],
      "metadata": {
        "colab": {
          "base_uri": "https://localhost:8080/"
        },
        "id": "gD96ihm6LwpB",
        "outputId": "f89786b1-7747-4305-c192-fad10256abe5"
      },
      "execution_count": 16,
      "outputs": [
        {
          "output_type": "stream",
          "name": "stdout",
          "text": [
            "215/215 [==============================] - 3s 14ms/step - loss: 1.5356 - accuracy: 0.7003\n"
          ]
        }
      ]
    }
  ],
  "metadata": {
    "accelerator": "GPU",
    "colab": {
      "collapsed_sections": [],
      "name": "CV_Project_4_NOT_pretrained.ipynb",
      "provenance": [],
      "authorship_tag": "ABX9TyNpPIn/rY3DZSP0U9QEhW9j"
    },
    "kernelspec": {
      "display_name": "Python 3",
      "name": "python3"
    },
    "language_info": {
      "name": "python"
    }
  },
  "nbformat": 4,
  "nbformat_minor": 0
}